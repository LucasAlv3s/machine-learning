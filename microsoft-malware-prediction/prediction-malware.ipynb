{
 "cells": [
  {
   "cell_type": "code",
   "execution_count": 1,
   "id": "ec1fe7d3",
   "metadata": {
    "_cell_guid": "b1076dfc-b9ad-4769-8c92-a6c4dae69d19",
    "_uuid": "8f2839f25d086af736a60e9eeb907d3b93b6e0e5",
    "execution": {
     "iopub.execute_input": "2022-05-08T06:20:59.887206Z",
     "iopub.status.busy": "2022-05-08T06:20:59.886597Z",
     "iopub.status.idle": "2022-05-08T06:20:59.900710Z",
     "shell.execute_reply": "2022-05-08T06:20:59.899668Z"
    },
    "papermill": {
     "duration": 0.060864,
     "end_time": "2022-05-08T06:20:59.903468",
     "exception": false,
     "start_time": "2022-05-08T06:20:59.842604",
     "status": "completed"
    },
    "tags": []
   },
   "outputs": [
    {
     "name": "stdout",
     "output_type": "stream",
     "text": [
      "/kaggle/input/microsoft-malware-prediction/sample_submission.csv\n",
      "/kaggle/input/microsoft-malware-prediction/train.csv\n",
      "/kaggle/input/microsoft-malware-prediction/test.csv\n"
     ]
    }
   ],
   "source": [
    "# This Python 3 environment comes with many helpful analytics libraries installed\n",
    "# It is defined by the kaggle/python Docker image: https://github.com/kaggle/docker-python\n",
    "# For example, here's several helpful packages to load\n",
    "\n",
    "import numpy as np # linear algebra\n",
    "import pandas as pd # data processing, CSV file I/O (e.g. pd.read_csv)\n",
    "\n",
    "# Input data files are available in the read-only \"../input/\" directory\n",
    "# For example, running this (by clicking run or pressing Shift+Enter) will list all files under the input directory\n",
    "\n",
    "import os\n",
    "for dirname, _, filenames in os.walk('/kaggle/input'):\n",
    "    for filename in filenames:\n",
    "        print(os.path.join(dirname, filename))\n",
    "\n",
    "# You can write up to 20GB to the current directory (/kaggle/working/) that gets preserved as output when you create a version using \"Save & Run All\" \n",
    "# You can also write temporary files to /kaggle/temp/, but they won't be saved outside of the current session"
   ]
  },
  {
   "cell_type": "markdown",
   "id": "71f30885",
   "metadata": {
    "papermill": {
     "duration": 0.039925,
     "end_time": "2022-05-08T06:20:59.984171",
     "exception": false,
     "start_time": "2022-05-08T06:20:59.944246",
     "status": "completed"
    },
    "tags": []
   },
   "source": [
    "# Importando as bibliotecas"
   ]
  },
  {
   "cell_type": "code",
   "execution_count": 2,
   "id": "93843923",
   "metadata": {
    "execution": {
     "iopub.execute_input": "2022-05-08T06:21:00.067689Z",
     "iopub.status.busy": "2022-05-08T06:21:00.067157Z",
     "iopub.status.idle": "2022-05-08T06:21:01.238653Z",
     "shell.execute_reply": "2022-05-08T06:21:01.237715Z"
    },
    "papermill": {
     "duration": 1.215968,
     "end_time": "2022-05-08T06:21:01.241287",
     "exception": false,
     "start_time": "2022-05-08T06:21:00.025319",
     "status": "completed"
    },
    "tags": []
   },
   "outputs": [
    {
     "name": "stdout",
     "output_type": "stream",
     "text": [
      "['sample_submission.csv', 'train.csv', 'test.csv']\n"
     ]
    }
   ],
   "source": [
    "import numpy as np\n",
    "import pandas as pd \n",
    "import os\n",
    "print(os.listdir(\"../input/microsoft-malware-prediction\"))\n",
    "import matplotlib\n",
    "import matplotlib.pyplot as plt\n",
    "import seaborn as sns\n",
    "%matplotlib inline\n",
    "import time\n",
    "train_sample_fraction = None\n",
    "train_sample_num = 1500000\n",
    "na_rate_threshold = 0.9\n",
    "unbalanced_feature_rate_threshold = 0.9"
   ]
  },
  {
   "cell_type": "code",
   "execution_count": 3,
   "id": "ad8a645b",
   "metadata": {
    "execution": {
     "iopub.execute_input": "2022-05-08T06:21:01.328117Z",
     "iopub.status.busy": "2022-05-08T06:21:01.327591Z",
     "iopub.status.idle": "2022-05-08T06:21:01.352947Z",
     "shell.execute_reply": "2022-05-08T06:21:01.352206Z"
    },
    "papermill": {
     "duration": 0.071449,
     "end_time": "2022-05-08T06:21:01.355329",
     "exception": false,
     "start_time": "2022-05-08T06:21:01.283880",
     "status": "completed"
    },
    "tags": []
   },
   "outputs": [],
   "source": [
    "dtypes = {\n",
    "        'MachineIdentifier':                                    'category',\n",
    "        'ProductName':                                          'category',\n",
    "        'EngineVersion':                                        'category',\n",
    "        'AppVersion':                                           'category',\n",
    "        'AvSigVersion':                                         'category',\n",
    "        'IsBeta':                                               'int8',\n",
    "        'RtpStateBitfield':                                     'float16',\n",
    "        'IsSxsPassiveMode':                                     'int8',\n",
    "        'DefaultBrowsersIdentifier':                            'float16',\n",
    "        'AVProductStatesIdentifier':                            'float32',\n",
    "        'AVProductsInstalled':                                  'float16',\n",
    "        'AVProductsEnabled':                                    'float16',\n",
    "        'HasTpm':                                               'int8',\n",
    "        'CountryIdentifier':                                    'int16',\n",
    "        'CityIdentifier':                                       'float32',\n",
    "        'OrganizationIdentifier':                               'float16',\n",
    "        'GeoNameIdentifier':                                    'float16',\n",
    "        'LocaleEnglishNameIdentifier':                          'int8',\n",
    "        'Platform':                                             'category',\n",
    "        'Processor':                                            'category',\n",
    "        'OsVer':                                                'category',\n",
    "        'OsBuild':                                              'int16',\n",
    "        'OsSuite':                                              'int16',\n",
    "        'OsPlatformSubRelease':                                 'category',\n",
    "        'OsBuildLab':                                           'category',\n",
    "        'SkuEdition':                                           'category',\n",
    "        'IsProtected':                                          'float16',\n",
    "        'AutoSampleOptIn':                                      'int8',\n",
    "        'PuaMode':                                              'category',\n",
    "        'SMode':                                                'float16',\n",
    "        'IeVerIdentifier':                                      'float16',\n",
    "        'SmartScreen':                                          'category',\n",
    "        'Firewall':                                             'float16',\n",
    "        'UacLuaenable':                                         'float32',\n",
    "        'Census_MDC2FormFactor':                                'category',\n",
    "        'Census_DeviceFamily':                                  'category',\n",
    "        'Census_OEMNameIdentifier':                             'float16',\n",
    "        'Census_OEMModelIdentifier':                            'float32',\n",
    "        'Census_ProcessorCoreCount':                            'float16',\n",
    "        'Census_ProcessorManufacturerIdentifier':               'float16',\n",
    "        'Census_ProcessorModelIdentifier':                      'float16',\n",
    "        'Census_ProcessorClass':                                'category',\n",
    "        'Census_PrimaryDiskTotalCapacity':                      'float32',\n",
    "        'Census_PrimaryDiskTypeName':                           'category',\n",
    "        'Census_SystemVolumeTotalCapacity':                     'float32',\n",
    "        'Census_HasOpticalDiskDrive':                           'int8',\n",
    "        'Census_TotalPhysicalRAM':                              'float32',\n",
    "        'Census_ChassisTypeName':                               'category',\n",
    "        'Census_InternalPrimaryDiagonalDisplaySizeInInches':    'float16',\n",
    "        'Census_InternalPrimaryDisplayResolutionHorizontal':    'float16',\n",
    "        'Census_InternalPrimaryDisplayResolutionVertical':      'float16',\n",
    "        'Census_PowerPlatformRoleName':                         'category',\n",
    "        'Census_InternalBatteryType':                           'category',\n",
    "        'Census_InternalBatteryNumberOfCharges':                'float32',\n",
    "        'Census_OSVersion':                                     'category',\n",
    "        'Census_OSArchitecture':                                'category',\n",
    "        'Census_OSBranch':                                      'category',\n",
    "        'Census_OSBuildNumber':                                 'int16',\n",
    "        'Census_OSBuildRevision':                               'int32',\n",
    "        'Census_OSEdition':                                     'category',\n",
    "        'Census_OSSkuName':                                     'category',\n",
    "        'Census_OSInstallTypeName':                             'category',\n",
    "        'Census_OSInstallLanguageIdentifier':                   'float16',\n",
    "        'Census_OSUILocaleIdentifier':                          'int16',\n",
    "        'Census_OSWUAutoUpdateOptionsName':                     'category',\n",
    "        'Census_IsPortableOperatingSystem':                     'int8',\n",
    "        'Census_GenuineStateName':                              'category',\n",
    "        'Census_ActivationChannel':                             'category',\n",
    "        'Census_IsFlightingInternal':                           'float16',\n",
    "        'Census_IsFlightsDisabled':                             'float16',\n",
    "        'Census_FlightRing':                                    'category',\n",
    "        'Census_ThresholdOptIn':                                'float16',\n",
    "        'Census_FirmwareManufacturerIdentifier':                'float16',\n",
    "        'Census_FirmwareVersionIdentifier':                     'float32',\n",
    "        'Census_IsSecureBootEnabled':                           'int8',\n",
    "        'Census_IsWIMBootEnabled':                              'float16',\n",
    "        'Census_IsVirtualDevice':                               'float16',\n",
    "        'Census_IsTouchEnabled':                                'int8',\n",
    "        'Census_IsPenCapable':                                  'int8',\n",
    "        'Census_IsAlwaysOnAlwaysConnectedCapable':              'float16',\n",
    "        'Wdft_IsGamer':                                         'float16',\n",
    "        'Wdft_RegionIdentifier':                                'float16',\n",
    "        'HasDetections':                                        'int8'\n",
    "        }\n",
    "\n",
    "def reduce_mem_usage(df, verbose=True):\n",
    "    numerics = ['int16', 'int32', 'int64', 'float16', 'float32', 'float64']\n",
    "    start_mem = df.memory_usage(deep=True).sum() / 1024**2    \n",
    "    for col in df.columns:\n",
    "        col_type = df[col].dtypes\n",
    "        if col_type in numerics:\n",
    "            c_min = df[col].min()\n",
    "            c_max = df[col].max()\n",
    "            if str(col_type)[:3] == 'int':\n",
    "                if c_min > np.iinfo(np.int8).min and c_max < np.iinfo(np.int8).max:\n",
    "                    df[col] = df[col].astype(np.int8)\n",
    "                elif c_min > np.iinfo(np.int16).min and c_max < np.iinfo(np.int16).max:\n",
    "                    df[col] = df[col].astype(np.int16)\n",
    "                elif c_min > np.iinfo(np.int32).min and c_max < np.iinfo(np.int32).max:\n",
    "                    df[col] = df[col].astype(np.int32)\n",
    "                elif c_min > np.iinfo(np.int64).min and c_max < np.iinfo(np.int64).max:\n",
    "                    df[col] = df[col].astype(np.int64)  \n",
    "            else:\n",
    "                if c_min > np.finfo(np.float16).min and c_max < np.finfo(np.float16).max:\n",
    "                    df[col] = df[col].astype(np.float16)\n",
    "                elif c_min > np.finfo(np.float32).min and c_max < np.finfo(np.float32).max:\n",
    "                    df[col] = df[col].astype(np.float32)\n",
    "                else:\n",
    "                    df[col] = df[col].astype(np.float64)    \n",
    "    end_mem = df.memory_usage(deep=True).sum() / 1024**2\n",
    "    if verbose: print('Mem. usage decreased to {:5.2f} Mb ({:.1f}% reduction)'.format(end_mem, 100 * (start_mem - end_mem) / start_mem))\n",
    "    return df"
   ]
  },
  {
   "cell_type": "code",
   "execution_count": 4,
   "id": "b95de767",
   "metadata": {
    "execution": {
     "iopub.execute_input": "2022-05-08T06:21:01.441893Z",
     "iopub.status.busy": "2022-05-08T06:21:01.441377Z",
     "iopub.status.idle": "2022-05-08T06:24:19.103071Z",
     "shell.execute_reply": "2022-05-08T06:24:19.101929Z"
    },
    "papermill": {
     "duration": 197.753574,
     "end_time": "2022-05-08T06:24:19.152234",
     "exception": false,
     "start_time": "2022-05-08T06:21:01.398660",
     "status": "completed"
    },
    "tags": []
   },
   "outputs": [
    {
     "name": "stdout",
     "output_type": "stream",
     "text": [
      "CPU times: user 2min 23s, sys: 9.57 s, total: 2min 33s\n",
      "Wall time: 3min 17s\n"
     ]
    }
   ],
   "source": [
    "%%time\n",
    "train = pd.read_csv('../input/microsoft-malware-prediction/train.csv', dtype=dtypes)"
   ]
  },
  {
   "cell_type": "code",
   "execution_count": 5,
   "id": "71303850",
   "metadata": {
    "execution": {
     "iopub.execute_input": "2022-05-08T06:24:19.238069Z",
     "iopub.status.busy": "2022-05-08T06:24:19.237769Z",
     "iopub.status.idle": "2022-05-08T06:24:29.999391Z",
     "shell.execute_reply": "2022-05-08T06:24:29.998402Z"
    },
    "papermill": {
     "duration": 10.80757,
     "end_time": "2022-05-08T06:24:30.002129",
     "exception": false,
     "start_time": "2022-05-08T06:24:19.194559",
     "status": "completed"
    },
    "tags": []
   },
   "outputs": [],
   "source": [
    "good_cols = list(train.columns)\n",
    "\n",
    "for col in train.columns:\n",
    "    \n",
    "    # remove columns with high NA rate\n",
    "    na_rate = train[col].isnull().sum() / train.shape[0]\n",
    "    \n",
    "    # remove columns with high Unbalanced values rate\n",
    "    unbalanced_rate = train[col].value_counts(normalize=True, dropna=False).values[0]\n",
    "    \n",
    "    if na_rate > na_rate_threshold:\n",
    "        good_cols.remove(col)\n",
    "    elif unbalanced_rate > unbalanced_feature_rate_threshold:\n",
    "        good_cols.remove(col)"
   ]
  },
  {
   "cell_type": "code",
   "execution_count": 6,
   "id": "4288491d",
   "metadata": {
    "execution": {
     "iopub.execute_input": "2022-05-08T06:24:30.087663Z",
     "iopub.status.busy": "2022-05-08T06:24:30.087380Z",
     "iopub.status.idle": "2022-05-08T06:24:30.096446Z",
     "shell.execute_reply": "2022-05-08T06:24:30.095730Z"
    },
    "papermill": {
     "duration": 0.055625,
     "end_time": "2022-05-08T06:24:30.099784",
     "exception": false,
     "start_time": "2022-05-08T06:24:30.044159",
     "status": "completed"
    },
    "tags": []
   },
   "outputs": [
    {
     "data": {
      "text/plain": [
       "['MachineIdentifier',\n",
       " 'EngineVersion',\n",
       " 'AppVersion',\n",
       " 'AvSigVersion',\n",
       " 'AVProductStatesIdentifier',\n",
       " 'AVProductsInstalled',\n",
       " 'CountryIdentifier',\n",
       " 'CityIdentifier',\n",
       " 'OrganizationIdentifier',\n",
       " 'GeoNameIdentifier',\n",
       " 'LocaleEnglishNameIdentifier',\n",
       " 'OsBuild',\n",
       " 'OsSuite',\n",
       " 'OsPlatformSubRelease',\n",
       " 'OsBuildLab',\n",
       " 'SkuEdition',\n",
       " 'IeVerIdentifier',\n",
       " 'SmartScreen',\n",
       " 'Census_MDC2FormFactor',\n",
       " 'Census_OEMNameIdentifier',\n",
       " 'Census_OEMModelIdentifier',\n",
       " 'Census_ProcessorCoreCount',\n",
       " 'Census_ProcessorManufacturerIdentifier',\n",
       " 'Census_ProcessorModelIdentifier',\n",
       " 'Census_PrimaryDiskTotalCapacity',\n",
       " 'Census_PrimaryDiskTypeName',\n",
       " 'Census_SystemVolumeTotalCapacity',\n",
       " 'Census_TotalPhysicalRAM',\n",
       " 'Census_ChassisTypeName',\n",
       " 'Census_InternalPrimaryDiagonalDisplaySizeInInches',\n",
       " 'Census_InternalPrimaryDisplayResolutionHorizontal',\n",
       " 'Census_InternalPrimaryDisplayResolutionVertical',\n",
       " 'Census_PowerPlatformRoleName',\n",
       " 'Census_InternalBatteryType',\n",
       " 'Census_InternalBatteryNumberOfCharges',\n",
       " 'Census_OSVersion',\n",
       " 'Census_OSBranch',\n",
       " 'Census_OSBuildNumber',\n",
       " 'Census_OSBuildRevision',\n",
       " 'Census_OSEdition',\n",
       " 'Census_OSSkuName',\n",
       " 'Census_OSInstallTypeName',\n",
       " 'Census_OSInstallLanguageIdentifier',\n",
       " 'Census_OSUILocaleIdentifier',\n",
       " 'Census_OSWUAutoUpdateOptionsName',\n",
       " 'Census_GenuineStateName',\n",
       " 'Census_ActivationChannel',\n",
       " 'Census_IsFlightingInternal',\n",
       " 'Census_ThresholdOptIn',\n",
       " 'Census_FirmwareManufacturerIdentifier',\n",
       " 'Census_FirmwareVersionIdentifier',\n",
       " 'Census_IsSecureBootEnabled',\n",
       " 'Census_IsWIMBootEnabled',\n",
       " 'Census_IsTouchEnabled',\n",
       " 'Wdft_IsGamer',\n",
       " 'Wdft_RegionIdentifier',\n",
       " 'HasDetections']"
      ]
     },
     "execution_count": 6,
     "metadata": {},
     "output_type": "execute_result"
    }
   ],
   "source": [
    "good_cols"
   ]
  },
  {
   "cell_type": "code",
   "execution_count": 7,
   "id": "cbe2b34c",
   "metadata": {
    "execution": {
     "iopub.execute_input": "2022-05-08T06:24:30.186822Z",
     "iopub.status.busy": "2022-05-08T06:24:30.185815Z",
     "iopub.status.idle": "2022-05-08T06:24:30.498440Z",
     "shell.execute_reply": "2022-05-08T06:24:30.497419Z"
    },
    "papermill": {
     "duration": 0.359584,
     "end_time": "2022-05-08T06:24:30.501609",
     "exception": false,
     "start_time": "2022-05-08T06:24:30.142025",
     "status": "completed"
    },
    "tags": []
   },
   "outputs": [],
   "source": [
    "train = train[good_cols]"
   ]
  },
  {
   "cell_type": "code",
   "execution_count": 8,
   "id": "4b2201d5",
   "metadata": {
    "execution": {
     "iopub.execute_input": "2022-05-08T06:24:30.586750Z",
     "iopub.status.busy": "2022-05-08T06:24:30.586466Z",
     "iopub.status.idle": "2022-05-08T06:24:30.718322Z",
     "shell.execute_reply": "2022-05-08T06:24:30.717260Z"
    },
    "papermill": {
     "duration": 0.177623,
     "end_time": "2022-05-08T06:24:30.720898",
     "exception": false,
     "start_time": "2022-05-08T06:24:30.543275",
     "status": "completed"
    },
    "tags": []
   },
   "outputs": [
    {
     "data": {
      "text/plain": [
       "63"
      ]
     },
     "execution_count": 8,
     "metadata": {},
     "output_type": "execute_result"
    }
   ],
   "source": [
    "import gc\n",
    "\n",
    "gc.collect()"
   ]
  },
  {
   "cell_type": "code",
   "execution_count": 9,
   "id": "5e17c6e2",
   "metadata": {
    "execution": {
     "iopub.execute_input": "2022-05-08T06:24:30.809239Z",
     "iopub.status.busy": "2022-05-08T06:24:30.808927Z",
     "iopub.status.idle": "2022-05-08T06:24:34.875098Z",
     "shell.execute_reply": "2022-05-08T06:24:34.874162Z"
    },
    "papermill": {
     "duration": 4.113637,
     "end_time": "2022-05-08T06:24:34.877581",
     "exception": false,
     "start_time": "2022-05-08T06:24:30.763944",
     "status": "completed"
    },
    "tags": []
   },
   "outputs": [],
   "source": [
    "categorical_columns = list(train.loc[:, train.dtypes ==\"category\"].columns)\n",
    "numerical_and_binary_columns = list(train.loc[:, train.dtypes !=\"category\"].columns)\n",
    "numerical_columns = numerical_and_binary_columns\n",
    "\n",
    "categorical_columns.remove(\"MachineIdentifier\")\n",
    "\n",
    "binary_columns = []\n",
    "for col in (numerical_and_binary_columns):\n",
    "    if train[col].nunique() == 2:\n",
    "        binary_columns.append(col)\n",
    "        numerical_columns.remove(col)"
   ]
  },
  {
   "cell_type": "markdown",
   "id": "1e8cb60e",
   "metadata": {
    "papermill": {
     "duration": 0.04287,
     "end_time": "2022-05-08T06:24:34.963574",
     "exception": false,
     "start_time": "2022-05-08T06:24:34.920704",
     "status": "completed"
    },
    "tags": []
   },
   "source": [
    "# Modelagem"
   ]
  },
  {
   "cell_type": "code",
   "execution_count": 10,
   "id": "b54ede37",
   "metadata": {
    "execution": {
     "iopub.execute_input": "2022-05-08T06:24:35.051905Z",
     "iopub.status.busy": "2022-05-08T06:24:35.051581Z",
     "iopub.status.idle": "2022-05-08T06:24:37.136800Z",
     "shell.execute_reply": "2022-05-08T06:24:37.135817Z"
    },
    "papermill": {
     "duration": 2.132089,
     "end_time": "2022-05-08T06:24:37.139047",
     "exception": false,
     "start_time": "2022-05-08T06:24:35.006958",
     "status": "completed"
    },
    "tags": []
   },
   "outputs": [
    {
     "data": {
      "text/plain": [
       "21"
      ]
     },
     "execution_count": 10,
     "metadata": {},
     "output_type": "execute_result"
    }
   ],
   "source": [
    "if train_sample_fraction is not None:\n",
    "    train_sample = train.sample(frac=train_sample_fraction, random_state=42)\n",
    "elif train_sample_num is not None:\n",
    "    train_sample = train.sample(n=train_sample_num, random_state=42)\n",
    "else:\n",
    "    train_sample = train.sample(n=1500000, random_state=42)\n",
    "\n",
    "del train\n",
    "gc.collect()"
   ]
  },
  {
   "cell_type": "code",
   "execution_count": 11,
   "id": "f9ca4fd1",
   "metadata": {
    "execution": {
     "iopub.execute_input": "2022-05-08T06:24:37.228690Z",
     "iopub.status.busy": "2022-05-08T06:24:37.227845Z",
     "iopub.status.idle": "2022-05-08T06:24:37.233603Z",
     "shell.execute_reply": "2022-05-08T06:24:37.232707Z"
    },
    "papermill": {
     "duration": 0.053612,
     "end_time": "2022-05-08T06:24:37.235676",
     "exception": false,
     "start_time": "2022-05-08T06:24:37.182064",
     "status": "completed"
    },
    "tags": []
   },
   "outputs": [
    {
     "data": {
      "text/plain": [
       "(1500000, 57)"
      ]
     },
     "execution_count": 11,
     "metadata": {},
     "output_type": "execute_result"
    }
   ],
   "source": [
    "train_sample.shape"
   ]
  },
  {
   "cell_type": "code",
   "execution_count": 12,
   "id": "a0025609",
   "metadata": {
    "execution": {
     "iopub.execute_input": "2022-05-08T06:24:37.323913Z",
     "iopub.status.busy": "2022-05-08T06:24:37.323391Z",
     "iopub.status.idle": "2022-05-08T06:27:06.165597Z",
     "shell.execute_reply": "2022-05-08T06:27:06.164289Z"
    },
    "papermill": {
     "duration": 148.890964,
     "end_time": "2022-05-08T06:27:06.169392",
     "exception": false,
     "start_time": "2022-05-08T06:24:37.278428",
     "status": "completed"
    },
    "tags": []
   },
   "outputs": [],
   "source": [
    "test_dtypes = {k: v for k, v in dtypes.items() if k in good_cols}\n",
    "test = pd.read_csv('../input/microsoft-malware-prediction/test.csv', dtype=test_dtypes, usecols=good_cols[:-1])"
   ]
  },
  {
   "cell_type": "code",
   "execution_count": 13,
   "id": "799c5b0a",
   "metadata": {
    "execution": {
     "iopub.execute_input": "2022-05-08T06:27:06.258850Z",
     "iopub.status.busy": "2022-05-08T06:27:06.258390Z",
     "iopub.status.idle": "2022-05-08T06:27:06.299529Z",
     "shell.execute_reply": "2022-05-08T06:27:06.298820Z"
    },
    "papermill": {
     "duration": 0.087681,
     "end_time": "2022-05-08T06:27:06.301517",
     "exception": false,
     "start_time": "2022-05-08T06:27:06.213836",
     "status": "completed"
    },
    "tags": []
   },
   "outputs": [
    {
     "data": {
      "text/html": [
       "<div>\n",
       "<style scoped>\n",
       "    .dataframe tbody tr th:only-of-type {\n",
       "        vertical-align: middle;\n",
       "    }\n",
       "\n",
       "    .dataframe tbody tr th {\n",
       "        vertical-align: top;\n",
       "    }\n",
       "\n",
       "    .dataframe thead th {\n",
       "        text-align: right;\n",
       "    }\n",
       "</style>\n",
       "<table border=\"1\" class=\"dataframe\">\n",
       "  <thead>\n",
       "    <tr style=\"text-align: right;\">\n",
       "      <th></th>\n",
       "      <th>MachineIdentifier</th>\n",
       "      <th>EngineVersion</th>\n",
       "      <th>AppVersion</th>\n",
       "      <th>AvSigVersion</th>\n",
       "      <th>AVProductStatesIdentifier</th>\n",
       "      <th>AVProductsInstalled</th>\n",
       "      <th>CountryIdentifier</th>\n",
       "      <th>CityIdentifier</th>\n",
       "      <th>OrganizationIdentifier</th>\n",
       "      <th>GeoNameIdentifier</th>\n",
       "      <th>...</th>\n",
       "      <th>Census_ActivationChannel</th>\n",
       "      <th>Census_IsFlightingInternal</th>\n",
       "      <th>Census_ThresholdOptIn</th>\n",
       "      <th>Census_FirmwareManufacturerIdentifier</th>\n",
       "      <th>Census_FirmwareVersionIdentifier</th>\n",
       "      <th>Census_IsSecureBootEnabled</th>\n",
       "      <th>Census_IsWIMBootEnabled</th>\n",
       "      <th>Census_IsTouchEnabled</th>\n",
       "      <th>Wdft_IsGamer</th>\n",
       "      <th>Wdft_RegionIdentifier</th>\n",
       "    </tr>\n",
       "  </thead>\n",
       "  <tbody>\n",
       "    <tr>\n",
       "      <th>0</th>\n",
       "      <td>0000010489e3af074adeac69c53e555e</td>\n",
       "      <td>1.1.15400.5</td>\n",
       "      <td>4.18.1810.5</td>\n",
       "      <td>1.281.501.0</td>\n",
       "      <td>53447.0</td>\n",
       "      <td>1.0</td>\n",
       "      <td>43</td>\n",
       "      <td>58552.0</td>\n",
       "      <td>18.0</td>\n",
       "      <td>53.0</td>\n",
       "      <td>...</td>\n",
       "      <td>OEM:DM</td>\n",
       "      <td>NaN</td>\n",
       "      <td>NaN</td>\n",
       "      <td>807.0</td>\n",
       "      <td>8554.0</td>\n",
       "      <td>1</td>\n",
       "      <td>NaN</td>\n",
       "      <td>0</td>\n",
       "      <td>0.0</td>\n",
       "      <td>7.0</td>\n",
       "    </tr>\n",
       "    <tr>\n",
       "      <th>1</th>\n",
       "      <td>00000176ac758d54827acd545b6315a5</td>\n",
       "      <td>1.1.15400.4</td>\n",
       "      <td>4.18.1809.2</td>\n",
       "      <td>1.279.301.0</td>\n",
       "      <td>53447.0</td>\n",
       "      <td>1.0</td>\n",
       "      <td>68</td>\n",
       "      <td>71395.0</td>\n",
       "      <td>NaN</td>\n",
       "      <td>276.0</td>\n",
       "      <td>...</td>\n",
       "      <td>Retail</td>\n",
       "      <td>NaN</td>\n",
       "      <td>NaN</td>\n",
       "      <td>554.0</td>\n",
       "      <td>33105.0</td>\n",
       "      <td>1</td>\n",
       "      <td>NaN</td>\n",
       "      <td>0</td>\n",
       "      <td>1.0</td>\n",
       "      <td>12.0</td>\n",
       "    </tr>\n",
       "    <tr>\n",
       "      <th>2</th>\n",
       "      <td>0000019dcefc128c2d4387c1273dae1d</td>\n",
       "      <td>1.1.15300.6</td>\n",
       "      <td>4.18.1809.2</td>\n",
       "      <td>1.277.230.0</td>\n",
       "      <td>49480.0</td>\n",
       "      <td>2.0</td>\n",
       "      <td>201</td>\n",
       "      <td>66202.0</td>\n",
       "      <td>NaN</td>\n",
       "      <td>267.0</td>\n",
       "      <td>...</td>\n",
       "      <td>OEM:DM</td>\n",
       "      <td>NaN</td>\n",
       "      <td>NaN</td>\n",
       "      <td>556.0</td>\n",
       "      <td>63396.0</td>\n",
       "      <td>1</td>\n",
       "      <td>NaN</td>\n",
       "      <td>0</td>\n",
       "      <td>1.0</td>\n",
       "      <td>11.0</td>\n",
       "    </tr>\n",
       "    <tr>\n",
       "      <th>3</th>\n",
       "      <td>0000055553dc51b1295785415f1a224d</td>\n",
       "      <td>1.1.15400.5</td>\n",
       "      <td>4.18.1810.5</td>\n",
       "      <td>1.281.664.0</td>\n",
       "      <td>42160.0</td>\n",
       "      <td>2.0</td>\n",
       "      <td>29</td>\n",
       "      <td>120917.0</td>\n",
       "      <td>NaN</td>\n",
       "      <td>35.0</td>\n",
       "      <td>...</td>\n",
       "      <td>OEM:DM</td>\n",
       "      <td>NaN</td>\n",
       "      <td>0.0</td>\n",
       "      <td>628.0</td>\n",
       "      <td>26320.0</td>\n",
       "      <td>1</td>\n",
       "      <td>0.0</td>\n",
       "      <td>0</td>\n",
       "      <td>0.0</td>\n",
       "      <td>10.0</td>\n",
       "    </tr>\n",
       "    <tr>\n",
       "      <th>4</th>\n",
       "      <td>00000574cefffeca83ec8adf9285b2bf</td>\n",
       "      <td>1.1.15400.4</td>\n",
       "      <td>4.18.1809.2</td>\n",
       "      <td>1.279.236.0</td>\n",
       "      <td>53447.0</td>\n",
       "      <td>1.0</td>\n",
       "      <td>171</td>\n",
       "      <td>124736.0</td>\n",
       "      <td>18.0</td>\n",
       "      <td>211.0</td>\n",
       "      <td>...</td>\n",
       "      <td>Retail</td>\n",
       "      <td>NaN</td>\n",
       "      <td>NaN</td>\n",
       "      <td>556.0</td>\n",
       "      <td>63269.0</td>\n",
       "      <td>1</td>\n",
       "      <td>NaN</td>\n",
       "      <td>0</td>\n",
       "      <td>1.0</td>\n",
       "      <td>3.0</td>\n",
       "    </tr>\n",
       "  </tbody>\n",
       "</table>\n",
       "<p>5 rows × 56 columns</p>\n",
       "</div>"
      ],
      "text/plain": [
       "                  MachineIdentifier EngineVersion   AppVersion AvSigVersion  \\\n",
       "0  0000010489e3af074adeac69c53e555e   1.1.15400.5  4.18.1810.5  1.281.501.0   \n",
       "1  00000176ac758d54827acd545b6315a5   1.1.15400.4  4.18.1809.2  1.279.301.0   \n",
       "2  0000019dcefc128c2d4387c1273dae1d   1.1.15300.6  4.18.1809.2  1.277.230.0   \n",
       "3  0000055553dc51b1295785415f1a224d   1.1.15400.5  4.18.1810.5  1.281.664.0   \n",
       "4  00000574cefffeca83ec8adf9285b2bf   1.1.15400.4  4.18.1809.2  1.279.236.0   \n",
       "\n",
       "   AVProductStatesIdentifier  AVProductsInstalled  CountryIdentifier  \\\n",
       "0                    53447.0                  1.0                 43   \n",
       "1                    53447.0                  1.0                 68   \n",
       "2                    49480.0                  2.0                201   \n",
       "3                    42160.0                  2.0                 29   \n",
       "4                    53447.0                  1.0                171   \n",
       "\n",
       "   CityIdentifier  OrganizationIdentifier  GeoNameIdentifier  ...  \\\n",
       "0         58552.0                    18.0               53.0  ...   \n",
       "1         71395.0                     NaN              276.0  ...   \n",
       "2         66202.0                     NaN              267.0  ...   \n",
       "3        120917.0                     NaN               35.0  ...   \n",
       "4        124736.0                    18.0              211.0  ...   \n",
       "\n",
       "   Census_ActivationChannel  Census_IsFlightingInternal  \\\n",
       "0                    OEM:DM                         NaN   \n",
       "1                    Retail                         NaN   \n",
       "2                    OEM:DM                         NaN   \n",
       "3                    OEM:DM                         NaN   \n",
       "4                    Retail                         NaN   \n",
       "\n",
       "   Census_ThresholdOptIn Census_FirmwareManufacturerIdentifier  \\\n",
       "0                    NaN                                 807.0   \n",
       "1                    NaN                                 554.0   \n",
       "2                    NaN                                 556.0   \n",
       "3                    0.0                                 628.0   \n",
       "4                    NaN                                 556.0   \n",
       "\n",
       "  Census_FirmwareVersionIdentifier Census_IsSecureBootEnabled  \\\n",
       "0                           8554.0                          1   \n",
       "1                          33105.0                          1   \n",
       "2                          63396.0                          1   \n",
       "3                          26320.0                          1   \n",
       "4                          63269.0                          1   \n",
       "\n",
       "   Census_IsWIMBootEnabled Census_IsTouchEnabled Wdft_IsGamer  \\\n",
       "0                      NaN                     0          0.0   \n",
       "1                      NaN                     0          1.0   \n",
       "2                      NaN                     0          1.0   \n",
       "3                      0.0                     0          0.0   \n",
       "4                      NaN                     0          1.0   \n",
       "\n",
       "   Wdft_RegionIdentifier  \n",
       "0                    7.0  \n",
       "1                   12.0  \n",
       "2                   11.0  \n",
       "3                   10.0  \n",
       "4                    3.0  \n",
       "\n",
       "[5 rows x 56 columns]"
      ]
     },
     "execution_count": 13,
     "metadata": {},
     "output_type": "execute_result"
    }
   ],
   "source": [
    "test.head()"
   ]
  },
  {
   "cell_type": "code",
   "execution_count": 14,
   "id": "da33be8a",
   "metadata": {
    "execution": {
     "iopub.execute_input": "2022-05-08T06:27:06.392060Z",
     "iopub.status.busy": "2022-05-08T06:27:06.391574Z",
     "iopub.status.idle": "2022-05-08T06:27:06.396836Z",
     "shell.execute_reply": "2022-05-08T06:27:06.396244Z"
    },
    "papermill": {
     "duration": 0.053001,
     "end_time": "2022-05-08T06:27:06.398826",
     "exception": false,
     "start_time": "2022-05-08T06:27:06.345825",
     "status": "completed"
    },
    "tags": []
   },
   "outputs": [
    {
     "data": {
      "text/plain": [
       "(7853253, 56)"
      ]
     },
     "execution_count": 14,
     "metadata": {},
     "output_type": "execute_result"
    }
   ],
   "source": [
    "test.shape"
   ]
  },
  {
   "cell_type": "code",
   "execution_count": 15,
   "id": "07533f81",
   "metadata": {
    "execution": {
     "iopub.execute_input": "2022-05-08T06:27:06.488908Z",
     "iopub.status.busy": "2022-05-08T06:27:06.488625Z",
     "iopub.status.idle": "2022-05-08T06:27:07.437326Z",
     "shell.execute_reply": "2022-05-08T06:27:07.436077Z"
    },
    "papermill": {
     "duration": 0.99685,
     "end_time": "2022-05-08T06:27:07.439966",
     "exception": false,
     "start_time": "2022-05-08T06:27:06.443116",
     "status": "completed"
    },
    "tags": []
   },
   "outputs": [],
   "source": [
    "train_sample = train_sample.drop(['MachineIdentifier'], axis=1)\n",
    "test = test.drop(['MachineIdentifier'], axis=1)"
   ]
  },
  {
   "cell_type": "code",
   "execution_count": 16,
   "id": "457f0a6d",
   "metadata": {
    "execution": {
     "iopub.execute_input": "2022-05-08T06:27:07.537745Z",
     "iopub.status.busy": "2022-05-08T06:27:07.536875Z",
     "iopub.status.idle": "2022-05-08T06:27:07.588639Z",
     "shell.execute_reply": "2022-05-08T06:27:07.587820Z"
    },
    "papermill": {
     "duration": 0.107146,
     "end_time": "2022-05-08T06:27:07.591160",
     "exception": false,
     "start_time": "2022-05-08T06:27:07.484014",
     "status": "completed"
    },
    "tags": []
   },
   "outputs": [],
   "source": [
    "train_sample = train_sample.reset_index(drop=True)"
   ]
  },
  {
   "cell_type": "markdown",
   "id": "5969dcbf",
   "metadata": {
    "papermill": {
     "duration": 0.044847,
     "end_time": "2022-05-08T06:27:07.681259",
     "exception": false,
     "start_time": "2022-05-08T06:27:07.636412",
     "status": "completed"
    },
    "tags": []
   },
   "source": [
    "# Preenchendo valores NA com o modo estatístico"
   ]
  },
  {
   "cell_type": "code",
   "execution_count": 17,
   "id": "c28fe95c",
   "metadata": {
    "execution": {
     "iopub.execute_input": "2022-05-08T06:27:07.771294Z",
     "iopub.status.busy": "2022-05-08T06:27:07.770777Z",
     "iopub.status.idle": "2022-05-08T06:27:09.590371Z",
     "shell.execute_reply": "2022-05-08T06:27:09.589353Z"
    },
    "papermill": {
     "duration": 1.867936,
     "end_time": "2022-05-08T06:27:09.593394",
     "exception": false,
     "start_time": "2022-05-08T06:27:07.725458",
     "status": "completed"
    },
    "tags": []
   },
   "outputs": [],
   "source": [
    "modes = train_sample.mode()\n",
    "for col in train_sample.columns:\n",
    "    train_sample[col] = np.where(train_sample[col].isnull(), modes[col], train_sample[col])\n",
    "del modes"
   ]
  },
  {
   "cell_type": "code",
   "execution_count": 18,
   "id": "0d4269cb",
   "metadata": {
    "execution": {
     "iopub.execute_input": "2022-05-08T06:27:09.692315Z",
     "iopub.status.busy": "2022-05-08T06:27:09.691773Z",
     "iopub.status.idle": "2022-05-08T06:27:23.336292Z",
     "shell.execute_reply": "2022-05-08T06:27:23.335336Z"
    },
    "papermill": {
     "duration": 13.693625,
     "end_time": "2022-05-08T06:27:23.338924",
     "exception": false,
     "start_time": "2022-05-08T06:27:09.645299",
     "status": "completed"
    },
    "tags": []
   },
   "outputs": [],
   "source": [
    "modes_test = test.mode()\n",
    "for col in test.columns:\n",
    "    test[col] = np.where(test[col].isnull(), modes_test[col], test[col])\n",
    "del modes_test"
   ]
  },
  {
   "cell_type": "markdown",
   "id": "95c32a22",
   "metadata": {
    "papermill": {
     "duration": 0.043896,
     "end_time": "2022-05-08T06:27:23.427522",
     "exception": false,
     "start_time": "2022-05-08T06:27:23.383626",
     "status": "completed"
    },
    "tags": []
   },
   "source": [
    "# Concatenar os conjuntos train_sample e test antes da codificação de rótulo"
   ]
  },
  {
   "cell_type": "code",
   "execution_count": 19,
   "id": "1a1fc9d8",
   "metadata": {
    "execution": {
     "iopub.execute_input": "2022-05-08T06:27:23.520108Z",
     "iopub.status.busy": "2022-05-08T06:27:23.519830Z",
     "iopub.status.idle": "2022-05-08T06:27:28.486047Z",
     "shell.execute_reply": "2022-05-08T06:27:28.485052Z"
    },
    "papermill": {
     "duration": 5.016815,
     "end_time": "2022-05-08T06:27:28.488303",
     "exception": false,
     "start_time": "2022-05-08T06:27:23.471488",
     "status": "completed"
    },
    "tags": []
   },
   "outputs": [
    {
     "data": {
      "text/plain": [
       "0"
      ]
     },
     "execution_count": 19,
     "metadata": {},
     "output_type": "execute_result"
    }
   ],
   "source": [
    "train_shape = train_sample.shape\n",
    "test_shape = test.shape\n",
    "train_and_test = pd.concat([train_sample,test], axis=\"rows\", sort=False)\n",
    "del train_sample\n",
    "del test\n",
    "gc.collect()"
   ]
  },
  {
   "cell_type": "code",
   "execution_count": 20,
   "id": "acbf21e1",
   "metadata": {
    "execution": {
     "iopub.execute_input": "2022-05-08T06:27:28.579366Z",
     "iopub.status.busy": "2022-05-08T06:27:28.579031Z",
     "iopub.status.idle": "2022-05-08T06:27:28.614336Z",
     "shell.execute_reply": "2022-05-08T06:27:28.613284Z"
    },
    "papermill": {
     "duration": 0.08331,
     "end_time": "2022-05-08T06:27:28.616607",
     "exception": false,
     "start_time": "2022-05-08T06:27:28.533297",
     "status": "completed"
    },
    "tags": []
   },
   "outputs": [
    {
     "data": {
      "text/html": [
       "<div>\n",
       "<style scoped>\n",
       "    .dataframe tbody tr th:only-of-type {\n",
       "        vertical-align: middle;\n",
       "    }\n",
       "\n",
       "    .dataframe tbody tr th {\n",
       "        vertical-align: top;\n",
       "    }\n",
       "\n",
       "    .dataframe thead th {\n",
       "        text-align: right;\n",
       "    }\n",
       "</style>\n",
       "<table border=\"1\" class=\"dataframe\">\n",
       "  <thead>\n",
       "    <tr style=\"text-align: right;\">\n",
       "      <th></th>\n",
       "      <th>EngineVersion</th>\n",
       "      <th>AppVersion</th>\n",
       "      <th>AvSigVersion</th>\n",
       "      <th>AVProductStatesIdentifier</th>\n",
       "      <th>AVProductsInstalled</th>\n",
       "      <th>CountryIdentifier</th>\n",
       "      <th>CityIdentifier</th>\n",
       "      <th>OrganizationIdentifier</th>\n",
       "      <th>GeoNameIdentifier</th>\n",
       "      <th>LocaleEnglishNameIdentifier</th>\n",
       "      <th>...</th>\n",
       "      <th>Census_IsFlightingInternal</th>\n",
       "      <th>Census_ThresholdOptIn</th>\n",
       "      <th>Census_FirmwareManufacturerIdentifier</th>\n",
       "      <th>Census_FirmwareVersionIdentifier</th>\n",
       "      <th>Census_IsSecureBootEnabled</th>\n",
       "      <th>Census_IsWIMBootEnabled</th>\n",
       "      <th>Census_IsTouchEnabled</th>\n",
       "      <th>Wdft_IsGamer</th>\n",
       "      <th>Wdft_RegionIdentifier</th>\n",
       "      <th>HasDetections</th>\n",
       "    </tr>\n",
       "  </thead>\n",
       "  <tbody>\n",
       "    <tr>\n",
       "      <th>0</th>\n",
       "      <td>1.1.15100.1</td>\n",
       "      <td>4.18.1807.18075</td>\n",
       "      <td>1.273.1234.0</td>\n",
       "      <td>53447.0</td>\n",
       "      <td>1.0</td>\n",
       "      <td>8</td>\n",
       "      <td>85219.0</td>\n",
       "      <td>27.0</td>\n",
       "      <td>205.0</td>\n",
       "      <td>-84</td>\n",
       "      <td>...</td>\n",
       "      <td>0.0</td>\n",
       "      <td>0.0</td>\n",
       "      <td>355.0</td>\n",
       "      <td>19951.0</td>\n",
       "      <td>0</td>\n",
       "      <td>0.0</td>\n",
       "      <td>0</td>\n",
       "      <td>0.0</td>\n",
       "      <td>11.0</td>\n",
       "      <td>1.0</td>\n",
       "    </tr>\n",
       "    <tr>\n",
       "      <th>1</th>\n",
       "      <td>1.1.15100.1</td>\n",
       "      <td>4.18.1807.18075</td>\n",
       "      <td>1.273.1282.0</td>\n",
       "      <td>53447.0</td>\n",
       "      <td>1.0</td>\n",
       "      <td>129</td>\n",
       "      <td>54198.0</td>\n",
       "      <td>27.0</td>\n",
       "      <td>126.0</td>\n",
       "      <td>124</td>\n",
       "      <td>...</td>\n",
       "      <td>0.0</td>\n",
       "      <td>0.0</td>\n",
       "      <td>486.0</td>\n",
       "      <td>48753.0</td>\n",
       "      <td>0</td>\n",
       "      <td>0.0</td>\n",
       "      <td>0</td>\n",
       "      <td>1.0</td>\n",
       "      <td>3.0</td>\n",
       "      <td>0.0</td>\n",
       "    </tr>\n",
       "    <tr>\n",
       "      <th>2</th>\n",
       "      <td>1.1.15100.1</td>\n",
       "      <td>4.9.10586.1106</td>\n",
       "      <td>1.273.781.0</td>\n",
       "      <td>46781.0</td>\n",
       "      <td>2.0</td>\n",
       "      <td>149</td>\n",
       "      <td>122689.0</td>\n",
       "      <td>27.0</td>\n",
       "      <td>181.0</td>\n",
       "      <td>56</td>\n",
       "      <td>...</td>\n",
       "      <td>0.0</td>\n",
       "      <td>0.0</td>\n",
       "      <td>554.0</td>\n",
       "      <td>33111.0</td>\n",
       "      <td>1</td>\n",
       "      <td>0.0</td>\n",
       "      <td>1</td>\n",
       "      <td>0.0</td>\n",
       "      <td>15.0</td>\n",
       "      <td>0.0</td>\n",
       "    </tr>\n",
       "    <tr>\n",
       "      <th>3</th>\n",
       "      <td>1.1.15200.1</td>\n",
       "      <td>4.18.1807.18075</td>\n",
       "      <td>1.275.1639.0</td>\n",
       "      <td>53447.0</td>\n",
       "      <td>1.0</td>\n",
       "      <td>164</td>\n",
       "      <td>114587.0</td>\n",
       "      <td>27.0</td>\n",
       "      <td>205.0</td>\n",
       "      <td>-84</td>\n",
       "      <td>...</td>\n",
       "      <td>0.0</td>\n",
       "      <td>0.0</td>\n",
       "      <td>142.0</td>\n",
       "      <td>48473.0</td>\n",
       "      <td>1</td>\n",
       "      <td>0.0</td>\n",
       "      <td>0</td>\n",
       "      <td>0.0</td>\n",
       "      <td>15.0</td>\n",
       "      <td>1.0</td>\n",
       "    </tr>\n",
       "    <tr>\n",
       "      <th>4</th>\n",
       "      <td>1.1.15200.1</td>\n",
       "      <td>4.18.1807.18075</td>\n",
       "      <td>1.275.511.0</td>\n",
       "      <td>47238.0</td>\n",
       "      <td>2.0</td>\n",
       "      <td>207</td>\n",
       "      <td>72421.0</td>\n",
       "      <td>27.0</td>\n",
       "      <td>277.0</td>\n",
       "      <td>75</td>\n",
       "      <td>...</td>\n",
       "      <td>0.0</td>\n",
       "      <td>0.0</td>\n",
       "      <td>355.0</td>\n",
       "      <td>4343.0</td>\n",
       "      <td>1</td>\n",
       "      <td>0.0</td>\n",
       "      <td>1</td>\n",
       "      <td>1.0</td>\n",
       "      <td>13.0</td>\n",
       "      <td>1.0</td>\n",
       "    </tr>\n",
       "  </tbody>\n",
       "</table>\n",
       "<p>5 rows × 56 columns</p>\n",
       "</div>"
      ],
      "text/plain": [
       "  EngineVersion       AppVersion  AvSigVersion  AVProductStatesIdentifier  \\\n",
       "0   1.1.15100.1  4.18.1807.18075  1.273.1234.0                    53447.0   \n",
       "1   1.1.15100.1  4.18.1807.18075  1.273.1282.0                    53447.0   \n",
       "2   1.1.15100.1   4.9.10586.1106   1.273.781.0                    46781.0   \n",
       "3   1.1.15200.1  4.18.1807.18075  1.275.1639.0                    53447.0   \n",
       "4   1.1.15200.1  4.18.1807.18075   1.275.511.0                    47238.0   \n",
       "\n",
       "   AVProductsInstalled  CountryIdentifier  CityIdentifier  \\\n",
       "0                  1.0                  8         85219.0   \n",
       "1                  1.0                129         54198.0   \n",
       "2                  2.0                149        122689.0   \n",
       "3                  1.0                164        114587.0   \n",
       "4                  2.0                207         72421.0   \n",
       "\n",
       "   OrganizationIdentifier  GeoNameIdentifier  LocaleEnglishNameIdentifier  \\\n",
       "0                    27.0              205.0                          -84   \n",
       "1                    27.0              126.0                          124   \n",
       "2                    27.0              181.0                           56   \n",
       "3                    27.0              205.0                          -84   \n",
       "4                    27.0              277.0                           75   \n",
       "\n",
       "   ...  Census_IsFlightingInternal  Census_ThresholdOptIn  \\\n",
       "0  ...                         0.0                    0.0   \n",
       "1  ...                         0.0                    0.0   \n",
       "2  ...                         0.0                    0.0   \n",
       "3  ...                         0.0                    0.0   \n",
       "4  ...                         0.0                    0.0   \n",
       "\n",
       "  Census_FirmwareManufacturerIdentifier Census_FirmwareVersionIdentifier  \\\n",
       "0                                 355.0                          19951.0   \n",
       "1                                 486.0                          48753.0   \n",
       "2                                 554.0                          33111.0   \n",
       "3                                 142.0                          48473.0   \n",
       "4                                 355.0                           4343.0   \n",
       "\n",
       "  Census_IsSecureBootEnabled  Census_IsWIMBootEnabled Census_IsTouchEnabled  \\\n",
       "0                          0                      0.0                     0   \n",
       "1                          0                      0.0                     0   \n",
       "2                          1                      0.0                     1   \n",
       "3                          1                      0.0                     0   \n",
       "4                          1                      0.0                     1   \n",
       "\n",
       "  Wdft_IsGamer  Wdft_RegionIdentifier  HasDetections  \n",
       "0          0.0                   11.0            1.0  \n",
       "1          1.0                    3.0            0.0  \n",
       "2          0.0                   15.0            0.0  \n",
       "3          0.0                   15.0            1.0  \n",
       "4          1.0                   13.0            1.0  \n",
       "\n",
       "[5 rows x 56 columns]"
      ]
     },
     "execution_count": 20,
     "metadata": {},
     "output_type": "execute_result"
    }
   ],
   "source": [
    "train_and_test.head()"
   ]
  },
  {
   "cell_type": "code",
   "execution_count": 21,
   "id": "45cff84e",
   "metadata": {
    "execution": {
     "iopub.execute_input": "2022-05-08T06:27:28.710051Z",
     "iopub.status.busy": "2022-05-08T06:27:28.709767Z",
     "iopub.status.idle": "2022-05-08T06:27:28.744553Z",
     "shell.execute_reply": "2022-05-08T06:27:28.743754Z"
    },
    "papermill": {
     "duration": 0.083814,
     "end_time": "2022-05-08T06:27:28.746433",
     "exception": false,
     "start_time": "2022-05-08T06:27:28.662619",
     "status": "completed"
    },
    "tags": []
   },
   "outputs": [
    {
     "data": {
      "text/html": [
       "<div>\n",
       "<style scoped>\n",
       "    .dataframe tbody tr th:only-of-type {\n",
       "        vertical-align: middle;\n",
       "    }\n",
       "\n",
       "    .dataframe tbody tr th {\n",
       "        vertical-align: top;\n",
       "    }\n",
       "\n",
       "    .dataframe thead th {\n",
       "        text-align: right;\n",
       "    }\n",
       "</style>\n",
       "<table border=\"1\" class=\"dataframe\">\n",
       "  <thead>\n",
       "    <tr style=\"text-align: right;\">\n",
       "      <th></th>\n",
       "      <th>EngineVersion</th>\n",
       "      <th>AppVersion</th>\n",
       "      <th>AvSigVersion</th>\n",
       "      <th>AVProductStatesIdentifier</th>\n",
       "      <th>AVProductsInstalled</th>\n",
       "      <th>CountryIdentifier</th>\n",
       "      <th>CityIdentifier</th>\n",
       "      <th>OrganizationIdentifier</th>\n",
       "      <th>GeoNameIdentifier</th>\n",
       "      <th>LocaleEnglishNameIdentifier</th>\n",
       "      <th>...</th>\n",
       "      <th>Census_IsFlightingInternal</th>\n",
       "      <th>Census_ThresholdOptIn</th>\n",
       "      <th>Census_FirmwareManufacturerIdentifier</th>\n",
       "      <th>Census_FirmwareVersionIdentifier</th>\n",
       "      <th>Census_IsSecureBootEnabled</th>\n",
       "      <th>Census_IsWIMBootEnabled</th>\n",
       "      <th>Census_IsTouchEnabled</th>\n",
       "      <th>Wdft_IsGamer</th>\n",
       "      <th>Wdft_RegionIdentifier</th>\n",
       "      <th>HasDetections</th>\n",
       "    </tr>\n",
       "  </thead>\n",
       "  <tbody>\n",
       "    <tr>\n",
       "      <th>7853248</th>\n",
       "      <td>1.1.15400.5</td>\n",
       "      <td>4.18.1810.5</td>\n",
       "      <td>1.281.261.0</td>\n",
       "      <td>53447.0</td>\n",
       "      <td>1.0</td>\n",
       "      <td>29</td>\n",
       "      <td>157045.0</td>\n",
       "      <td>27.0</td>\n",
       "      <td>35.0</td>\n",
       "      <td>-85</td>\n",
       "      <td>...</td>\n",
       "      <td>0.0</td>\n",
       "      <td>0.0</td>\n",
       "      <td>554.0</td>\n",
       "      <td>33060.0</td>\n",
       "      <td>0</td>\n",
       "      <td>0.0</td>\n",
       "      <td>0</td>\n",
       "      <td>0.0</td>\n",
       "      <td>10.0</td>\n",
       "      <td>NaN</td>\n",
       "    </tr>\n",
       "    <tr>\n",
       "      <th>7853249</th>\n",
       "      <td>1.1.15400.5</td>\n",
       "      <td>4.18.1810.5</td>\n",
       "      <td>1.281.382.0</td>\n",
       "      <td>53447.0</td>\n",
       "      <td>1.0</td>\n",
       "      <td>95</td>\n",
       "      <td>145168.0</td>\n",
       "      <td>18.0</td>\n",
       "      <td>121.0</td>\n",
       "      <td>75</td>\n",
       "      <td>...</td>\n",
       "      <td>0.0</td>\n",
       "      <td>0.0</td>\n",
       "      <td>142.0</td>\n",
       "      <td>42119.0</td>\n",
       "      <td>0</td>\n",
       "      <td>0.0</td>\n",
       "      <td>0</td>\n",
       "      <td>0.0</td>\n",
       "      <td>11.0</td>\n",
       "      <td>NaN</td>\n",
       "    </tr>\n",
       "    <tr>\n",
       "      <th>7853250</th>\n",
       "      <td>1.1.15400.5</td>\n",
       "      <td>4.18.1810.5</td>\n",
       "      <td>1.281.261.0</td>\n",
       "      <td>68585.0</td>\n",
       "      <td>2.0</td>\n",
       "      <td>43</td>\n",
       "      <td>163420.0</td>\n",
       "      <td>18.0</td>\n",
       "      <td>53.0</td>\n",
       "      <td>42</td>\n",
       "      <td>...</td>\n",
       "      <td>0.0</td>\n",
       "      <td>0.0</td>\n",
       "      <td>152.0</td>\n",
       "      <td>8391.0</td>\n",
       "      <td>1</td>\n",
       "      <td>0.0</td>\n",
       "      <td>0</td>\n",
       "      <td>1.0</td>\n",
       "      <td>7.0</td>\n",
       "      <td>NaN</td>\n",
       "    </tr>\n",
       "    <tr>\n",
       "      <th>7853251</th>\n",
       "      <td>1.1.15400.4</td>\n",
       "      <td>4.8.10240.17443</td>\n",
       "      <td>1.279.1433.0</td>\n",
       "      <td>53447.0</td>\n",
       "      <td>1.0</td>\n",
       "      <td>159</td>\n",
       "      <td>56722.0</td>\n",
       "      <td>18.0</td>\n",
       "      <td>277.0</td>\n",
       "      <td>75</td>\n",
       "      <td>...</td>\n",
       "      <td>0.0</td>\n",
       "      <td>0.0</td>\n",
       "      <td>897.0</td>\n",
       "      <td>67854.0</td>\n",
       "      <td>0</td>\n",
       "      <td>0.0</td>\n",
       "      <td>0</td>\n",
       "      <td>0.0</td>\n",
       "      <td>11.0</td>\n",
       "      <td>NaN</td>\n",
       "    </tr>\n",
       "    <tr>\n",
       "      <th>7853252</th>\n",
       "      <td>1.1.15400.5</td>\n",
       "      <td>4.18.1810.5</td>\n",
       "      <td>1.281.796.0</td>\n",
       "      <td>53447.0</td>\n",
       "      <td>1.0</td>\n",
       "      <td>29</td>\n",
       "      <td>68856.0</td>\n",
       "      <td>27.0</td>\n",
       "      <td>35.0</td>\n",
       "      <td>-85</td>\n",
       "      <td>...</td>\n",
       "      <td>0.0</td>\n",
       "      <td>0.0</td>\n",
       "      <td>142.0</td>\n",
       "      <td>4966.0</td>\n",
       "      <td>1</td>\n",
       "      <td>0.0</td>\n",
       "      <td>0</td>\n",
       "      <td>0.0</td>\n",
       "      <td>10.0</td>\n",
       "      <td>NaN</td>\n",
       "    </tr>\n",
       "  </tbody>\n",
       "</table>\n",
       "<p>5 rows × 56 columns</p>\n",
       "</div>"
      ],
      "text/plain": [
       "        EngineVersion       AppVersion  AvSigVersion  \\\n",
       "7853248   1.1.15400.5      4.18.1810.5   1.281.261.0   \n",
       "7853249   1.1.15400.5      4.18.1810.5   1.281.382.0   \n",
       "7853250   1.1.15400.5      4.18.1810.5   1.281.261.0   \n",
       "7853251   1.1.15400.4  4.8.10240.17443  1.279.1433.0   \n",
       "7853252   1.1.15400.5      4.18.1810.5   1.281.796.0   \n",
       "\n",
       "         AVProductStatesIdentifier  AVProductsInstalled  CountryIdentifier  \\\n",
       "7853248                    53447.0                  1.0                 29   \n",
       "7853249                    53447.0                  1.0                 95   \n",
       "7853250                    68585.0                  2.0                 43   \n",
       "7853251                    53447.0                  1.0                159   \n",
       "7853252                    53447.0                  1.0                 29   \n",
       "\n",
       "         CityIdentifier  OrganizationIdentifier  GeoNameIdentifier  \\\n",
       "7853248        157045.0                    27.0               35.0   \n",
       "7853249        145168.0                    18.0              121.0   \n",
       "7853250        163420.0                    18.0               53.0   \n",
       "7853251         56722.0                    18.0              277.0   \n",
       "7853252         68856.0                    27.0               35.0   \n",
       "\n",
       "         LocaleEnglishNameIdentifier  ...  Census_IsFlightingInternal  \\\n",
       "7853248                          -85  ...                         0.0   \n",
       "7853249                           75  ...                         0.0   \n",
       "7853250                           42  ...                         0.0   \n",
       "7853251                           75  ...                         0.0   \n",
       "7853252                          -85  ...                         0.0   \n",
       "\n",
       "         Census_ThresholdOptIn Census_FirmwareManufacturerIdentifier  \\\n",
       "7853248                    0.0                                 554.0   \n",
       "7853249                    0.0                                 142.0   \n",
       "7853250                    0.0                                 152.0   \n",
       "7853251                    0.0                                 897.0   \n",
       "7853252                    0.0                                 142.0   \n",
       "\n",
       "        Census_FirmwareVersionIdentifier Census_IsSecureBootEnabled  \\\n",
       "7853248                          33060.0                          0   \n",
       "7853249                          42119.0                          0   \n",
       "7853250                           8391.0                          1   \n",
       "7853251                          67854.0                          0   \n",
       "7853252                           4966.0                          1   \n",
       "\n",
       "         Census_IsWIMBootEnabled Census_IsTouchEnabled Wdft_IsGamer  \\\n",
       "7853248                      0.0                     0          0.0   \n",
       "7853249                      0.0                     0          0.0   \n",
       "7853250                      0.0                     0          1.0   \n",
       "7853251                      0.0                     0          0.0   \n",
       "7853252                      0.0                     0          0.0   \n",
       "\n",
       "         Wdft_RegionIdentifier  HasDetections  \n",
       "7853248                   10.0            NaN  \n",
       "7853249                   11.0            NaN  \n",
       "7853250                    7.0            NaN  \n",
       "7853251                   11.0            NaN  \n",
       "7853252                   10.0            NaN  \n",
       "\n",
       "[5 rows x 56 columns]"
      ]
     },
     "execution_count": 21,
     "metadata": {},
     "output_type": "execute_result"
    }
   ],
   "source": [
    "train_and_test.tail()"
   ]
  },
  {
   "cell_type": "markdown",
   "id": "9f81db7e",
   "metadata": {
    "papermill": {
     "duration": 0.051933,
     "end_time": "2022-05-08T06:27:28.845077",
     "exception": false,
     "start_time": "2022-05-08T06:27:28.793144",
     "status": "completed"
    },
    "tags": []
   },
   "source": [
    "# Codifique os recursos Categóricos antes da modelagem de aprendizado de máquina"
   ]
  },
  {
   "cell_type": "code",
   "execution_count": 22,
   "id": "ec3234e0",
   "metadata": {
    "execution": {
     "iopub.execute_input": "2022-05-08T06:27:28.961678Z",
     "iopub.status.busy": "2022-05-08T06:27:28.960633Z",
     "iopub.status.idle": "2022-05-08T06:28:25.141025Z",
     "shell.execute_reply": "2022-05-08T06:28:25.139891Z"
    },
    "papermill": {
     "duration": 56.238228,
     "end_time": "2022-05-08T06:28:25.143982",
     "exception": false,
     "start_time": "2022-05-08T06:27:28.905754",
     "status": "completed"
    },
    "tags": []
   },
   "outputs": [],
   "source": [
    "from sklearn.preprocessing import LabelEncoder\n",
    "from sklearn.preprocessing import OneHotEncoder\n",
    "\n",
    "def MultiLabelEncoder(columnlist,dataframe):\n",
    "    for i in columnlist:\n",
    "        #print(i)\n",
    "        labelencoder_X=LabelEncoder()\n",
    "        dataframe[i]=labelencoder_X.fit_transform(dataframe[i])\n",
    "\n",
    "MultiLabelEncoder(categorical_columns, train_and_test)"
   ]
  },
  {
   "cell_type": "code",
   "execution_count": 23,
   "id": "45c828f6",
   "metadata": {
    "execution": {
     "iopub.execute_input": "2022-05-08T06:28:25.241679Z",
     "iopub.status.busy": "2022-05-08T06:28:25.241100Z",
     "iopub.status.idle": "2022-05-08T06:28:25.380679Z",
     "shell.execute_reply": "2022-05-08T06:28:25.379959Z"
    },
    "papermill": {
     "duration": 0.190773,
     "end_time": "2022-05-08T06:28:25.382858",
     "exception": false,
     "start_time": "2022-05-08T06:28:25.192085",
     "status": "completed"
    },
    "tags": []
   },
   "outputs": [
    {
     "data": {
      "text/plain": [
       "21"
      ]
     },
     "execution_count": 23,
     "metadata": {},
     "output_type": "execute_result"
    }
   ],
   "source": [
    "gc.collect()"
   ]
  },
  {
   "cell_type": "markdown",
   "id": "72f9ce79",
   "metadata": {
    "papermill": {
     "duration": 0.046451,
     "end_time": "2022-05-08T06:28:25.476122",
     "exception": false,
     "start_time": "2022-05-08T06:28:25.429671",
     "status": "completed"
    },
    "tags": []
   },
   "source": [
    "# Voltar para treinar e testar o conjunto após a codificação de rótulo"
   ]
  },
  {
   "cell_type": "code",
   "execution_count": 24,
   "id": "e9b1f58a",
   "metadata": {
    "execution": {
     "iopub.execute_input": "2022-05-08T06:28:25.573813Z",
     "iopub.status.busy": "2022-05-08T06:28:25.573244Z",
     "iopub.status.idle": "2022-05-08T06:28:28.002961Z",
     "shell.execute_reply": "2022-05-08T06:28:28.001776Z"
    },
    "papermill": {
     "duration": 2.481151,
     "end_time": "2022-05-08T06:28:28.005485",
     "exception": false,
     "start_time": "2022-05-08T06:28:25.524334",
     "status": "completed"
    },
    "tags": []
   },
   "outputs": [
    {
     "data": {
      "text/html": [
       "<div>\n",
       "<style scoped>\n",
       "    .dataframe tbody tr th:only-of-type {\n",
       "        vertical-align: middle;\n",
       "    }\n",
       "\n",
       "    .dataframe tbody tr th {\n",
       "        vertical-align: top;\n",
       "    }\n",
       "\n",
       "    .dataframe thead th {\n",
       "        text-align: right;\n",
       "    }\n",
       "</style>\n",
       "<table border=\"1\" class=\"dataframe\">\n",
       "  <thead>\n",
       "    <tr style=\"text-align: right;\">\n",
       "      <th></th>\n",
       "      <th>EngineVersion</th>\n",
       "      <th>AppVersion</th>\n",
       "      <th>AvSigVersion</th>\n",
       "      <th>AVProductStatesIdentifier</th>\n",
       "      <th>AVProductsInstalled</th>\n",
       "      <th>CountryIdentifier</th>\n",
       "      <th>CityIdentifier</th>\n",
       "      <th>OrganizationIdentifier</th>\n",
       "      <th>GeoNameIdentifier</th>\n",
       "      <th>LocaleEnglishNameIdentifier</th>\n",
       "      <th>...</th>\n",
       "      <th>Census_IsFlightingInternal</th>\n",
       "      <th>Census_ThresholdOptIn</th>\n",
       "      <th>Census_FirmwareManufacturerIdentifier</th>\n",
       "      <th>Census_FirmwareVersionIdentifier</th>\n",
       "      <th>Census_IsSecureBootEnabled</th>\n",
       "      <th>Census_IsWIMBootEnabled</th>\n",
       "      <th>Census_IsTouchEnabled</th>\n",
       "      <th>Wdft_IsGamer</th>\n",
       "      <th>Wdft_RegionIdentifier</th>\n",
       "      <th>HasDetections</th>\n",
       "    </tr>\n",
       "  </thead>\n",
       "  <tbody>\n",
       "    <tr>\n",
       "      <th>0</th>\n",
       "      <td>68</td>\n",
       "      <td>70</td>\n",
       "      <td>9330</td>\n",
       "      <td>53447.0</td>\n",
       "      <td>1.0</td>\n",
       "      <td>43</td>\n",
       "      <td>58552.0</td>\n",
       "      <td>18.0</td>\n",
       "      <td>53.0</td>\n",
       "      <td>42</td>\n",
       "      <td>...</td>\n",
       "      <td>0.0</td>\n",
       "      <td>0.0</td>\n",
       "      <td>807.0</td>\n",
       "      <td>8554.0</td>\n",
       "      <td>1</td>\n",
       "      <td>0.0</td>\n",
       "      <td>0</td>\n",
       "      <td>0.0</td>\n",
       "      <td>7.0</td>\n",
       "      <td>NaN</td>\n",
       "    </tr>\n",
       "    <tr>\n",
       "      <th>1</th>\n",
       "      <td>67</td>\n",
       "      <td>64</td>\n",
       "      <td>9074</td>\n",
       "      <td>53447.0</td>\n",
       "      <td>1.0</td>\n",
       "      <td>68</td>\n",
       "      <td>71395.0</td>\n",
       "      <td>27.0</td>\n",
       "      <td>276.0</td>\n",
       "      <td>74</td>\n",
       "      <td>...</td>\n",
       "      <td>0.0</td>\n",
       "      <td>0.0</td>\n",
       "      <td>554.0</td>\n",
       "      <td>33105.0</td>\n",
       "      <td>1</td>\n",
       "      <td>0.0</td>\n",
       "      <td>0</td>\n",
       "      <td>1.0</td>\n",
       "      <td>12.0</td>\n",
       "      <td>NaN</td>\n",
       "    </tr>\n",
       "    <tr>\n",
       "      <th>2</th>\n",
       "      <td>65</td>\n",
       "      <td>64</td>\n",
       "      <td>8570</td>\n",
       "      <td>49480.0</td>\n",
       "      <td>2.0</td>\n",
       "      <td>201</td>\n",
       "      <td>66202.0</td>\n",
       "      <td>27.0</td>\n",
       "      <td>267.0</td>\n",
       "      <td>-5</td>\n",
       "      <td>...</td>\n",
       "      <td>0.0</td>\n",
       "      <td>0.0</td>\n",
       "      <td>556.0</td>\n",
       "      <td>63396.0</td>\n",
       "      <td>1</td>\n",
       "      <td>0.0</td>\n",
       "      <td>0</td>\n",
       "      <td>1.0</td>\n",
       "      <td>11.0</td>\n",
       "      <td>NaN</td>\n",
       "    </tr>\n",
       "    <tr>\n",
       "      <th>3</th>\n",
       "      <td>68</td>\n",
       "      <td>70</td>\n",
       "      <td>9370</td>\n",
       "      <td>42160.0</td>\n",
       "      <td>2.0</td>\n",
       "      <td>29</td>\n",
       "      <td>120917.0</td>\n",
       "      <td>27.0</td>\n",
       "      <td>35.0</td>\n",
       "      <td>-85</td>\n",
       "      <td>...</td>\n",
       "      <td>0.0</td>\n",
       "      <td>0.0</td>\n",
       "      <td>628.0</td>\n",
       "      <td>26320.0</td>\n",
       "      <td>1</td>\n",
       "      <td>0.0</td>\n",
       "      <td>0</td>\n",
       "      <td>0.0</td>\n",
       "      <td>10.0</td>\n",
       "      <td>NaN</td>\n",
       "    </tr>\n",
       "    <tr>\n",
       "      <th>4</th>\n",
       "      <td>67</td>\n",
       "      <td>64</td>\n",
       "      <td>9058</td>\n",
       "      <td>53447.0</td>\n",
       "      <td>1.0</td>\n",
       "      <td>171</td>\n",
       "      <td>124736.0</td>\n",
       "      <td>18.0</td>\n",
       "      <td>211.0</td>\n",
       "      <td>-74</td>\n",
       "      <td>...</td>\n",
       "      <td>0.0</td>\n",
       "      <td>0.0</td>\n",
       "      <td>556.0</td>\n",
       "      <td>63269.0</td>\n",
       "      <td>1</td>\n",
       "      <td>0.0</td>\n",
       "      <td>0</td>\n",
       "      <td>1.0</td>\n",
       "      <td>3.0</td>\n",
       "      <td>NaN</td>\n",
       "    </tr>\n",
       "    <tr>\n",
       "      <th>...</th>\n",
       "      <td>...</td>\n",
       "      <td>...</td>\n",
       "      <td>...</td>\n",
       "      <td>...</td>\n",
       "      <td>...</td>\n",
       "      <td>...</td>\n",
       "      <td>...</td>\n",
       "      <td>...</td>\n",
       "      <td>...</td>\n",
       "      <td>...</td>\n",
       "      <td>...</td>\n",
       "      <td>...</td>\n",
       "      <td>...</td>\n",
       "      <td>...</td>\n",
       "      <td>...</td>\n",
       "      <td>...</td>\n",
       "      <td>...</td>\n",
       "      <td>...</td>\n",
       "      <td>...</td>\n",
       "      <td>...</td>\n",
       "      <td>...</td>\n",
       "    </tr>\n",
       "    <tr>\n",
       "      <th>7853248</th>\n",
       "      <td>68</td>\n",
       "      <td>70</td>\n",
       "      <td>9274</td>\n",
       "      <td>53447.0</td>\n",
       "      <td>1.0</td>\n",
       "      <td>29</td>\n",
       "      <td>157045.0</td>\n",
       "      <td>27.0</td>\n",
       "      <td>35.0</td>\n",
       "      <td>-85</td>\n",
       "      <td>...</td>\n",
       "      <td>0.0</td>\n",
       "      <td>0.0</td>\n",
       "      <td>554.0</td>\n",
       "      <td>33060.0</td>\n",
       "      <td>0</td>\n",
       "      <td>0.0</td>\n",
       "      <td>0</td>\n",
       "      <td>0.0</td>\n",
       "      <td>10.0</td>\n",
       "      <td>NaN</td>\n",
       "    </tr>\n",
       "    <tr>\n",
       "      <th>7853249</th>\n",
       "      <td>68</td>\n",
       "      <td>70</td>\n",
       "      <td>9295</td>\n",
       "      <td>53447.0</td>\n",
       "      <td>1.0</td>\n",
       "      <td>95</td>\n",
       "      <td>145168.0</td>\n",
       "      <td>18.0</td>\n",
       "      <td>121.0</td>\n",
       "      <td>75</td>\n",
       "      <td>...</td>\n",
       "      <td>0.0</td>\n",
       "      <td>0.0</td>\n",
       "      <td>142.0</td>\n",
       "      <td>42119.0</td>\n",
       "      <td>0</td>\n",
       "      <td>0.0</td>\n",
       "      <td>0</td>\n",
       "      <td>0.0</td>\n",
       "      <td>11.0</td>\n",
       "      <td>NaN</td>\n",
       "    </tr>\n",
       "    <tr>\n",
       "      <th>7853250</th>\n",
       "      <td>68</td>\n",
       "      <td>70</td>\n",
       "      <td>9274</td>\n",
       "      <td>68585.0</td>\n",
       "      <td>2.0</td>\n",
       "      <td>43</td>\n",
       "      <td>163420.0</td>\n",
       "      <td>18.0</td>\n",
       "      <td>53.0</td>\n",
       "      <td>42</td>\n",
       "      <td>...</td>\n",
       "      <td>0.0</td>\n",
       "      <td>0.0</td>\n",
       "      <td>152.0</td>\n",
       "      <td>8391.0</td>\n",
       "      <td>1</td>\n",
       "      <td>0.0</td>\n",
       "      <td>0</td>\n",
       "      <td>1.0</td>\n",
       "      <td>7.0</td>\n",
       "      <td>NaN</td>\n",
       "    </tr>\n",
       "    <tr>\n",
       "      <th>7853251</th>\n",
       "      <td>67</td>\n",
       "      <td>89</td>\n",
       "      <td>8950</td>\n",
       "      <td>53447.0</td>\n",
       "      <td>1.0</td>\n",
       "      <td>159</td>\n",
       "      <td>56722.0</td>\n",
       "      <td>18.0</td>\n",
       "      <td>277.0</td>\n",
       "      <td>75</td>\n",
       "      <td>...</td>\n",
       "      <td>0.0</td>\n",
       "      <td>0.0</td>\n",
       "      <td>897.0</td>\n",
       "      <td>67854.0</td>\n",
       "      <td>0</td>\n",
       "      <td>0.0</td>\n",
       "      <td>0</td>\n",
       "      <td>0.0</td>\n",
       "      <td>11.0</td>\n",
       "      <td>NaN</td>\n",
       "    </tr>\n",
       "    <tr>\n",
       "      <th>7853252</th>\n",
       "      <td>68</td>\n",
       "      <td>70</td>\n",
       "      <td>9412</td>\n",
       "      <td>53447.0</td>\n",
       "      <td>1.0</td>\n",
       "      <td>29</td>\n",
       "      <td>68856.0</td>\n",
       "      <td>27.0</td>\n",
       "      <td>35.0</td>\n",
       "      <td>-85</td>\n",
       "      <td>...</td>\n",
       "      <td>0.0</td>\n",
       "      <td>0.0</td>\n",
       "      <td>142.0</td>\n",
       "      <td>4966.0</td>\n",
       "      <td>1</td>\n",
       "      <td>0.0</td>\n",
       "      <td>0</td>\n",
       "      <td>0.0</td>\n",
       "      <td>10.0</td>\n",
       "      <td>NaN</td>\n",
       "    </tr>\n",
       "  </tbody>\n",
       "</table>\n",
       "<p>7853253 rows × 56 columns</p>\n",
       "</div>"
      ],
      "text/plain": [
       "         EngineVersion  AppVersion  AvSigVersion  AVProductStatesIdentifier  \\\n",
       "0                   68          70          9330                    53447.0   \n",
       "1                   67          64          9074                    53447.0   \n",
       "2                   65          64          8570                    49480.0   \n",
       "3                   68          70          9370                    42160.0   \n",
       "4                   67          64          9058                    53447.0   \n",
       "...                ...         ...           ...                        ...   \n",
       "7853248             68          70          9274                    53447.0   \n",
       "7853249             68          70          9295                    53447.0   \n",
       "7853250             68          70          9274                    68585.0   \n",
       "7853251             67          89          8950                    53447.0   \n",
       "7853252             68          70          9412                    53447.0   \n",
       "\n",
       "         AVProductsInstalled  CountryIdentifier  CityIdentifier  \\\n",
       "0                        1.0                 43         58552.0   \n",
       "1                        1.0                 68         71395.0   \n",
       "2                        2.0                201         66202.0   \n",
       "3                        2.0                 29        120917.0   \n",
       "4                        1.0                171        124736.0   \n",
       "...                      ...                ...             ...   \n",
       "7853248                  1.0                 29        157045.0   \n",
       "7853249                  1.0                 95        145168.0   \n",
       "7853250                  2.0                 43        163420.0   \n",
       "7853251                  1.0                159         56722.0   \n",
       "7853252                  1.0                 29         68856.0   \n",
       "\n",
       "         OrganizationIdentifier  GeoNameIdentifier  \\\n",
       "0                          18.0               53.0   \n",
       "1                          27.0              276.0   \n",
       "2                          27.0              267.0   \n",
       "3                          27.0               35.0   \n",
       "4                          18.0              211.0   \n",
       "...                         ...                ...   \n",
       "7853248                    27.0               35.0   \n",
       "7853249                    18.0              121.0   \n",
       "7853250                    18.0               53.0   \n",
       "7853251                    18.0              277.0   \n",
       "7853252                    27.0               35.0   \n",
       "\n",
       "         LocaleEnglishNameIdentifier  ...  Census_IsFlightingInternal  \\\n",
       "0                                 42  ...                         0.0   \n",
       "1                                 74  ...                         0.0   \n",
       "2                                 -5  ...                         0.0   \n",
       "3                                -85  ...                         0.0   \n",
       "4                                -74  ...                         0.0   \n",
       "...                              ...  ...                         ...   \n",
       "7853248                          -85  ...                         0.0   \n",
       "7853249                           75  ...                         0.0   \n",
       "7853250                           42  ...                         0.0   \n",
       "7853251                           75  ...                         0.0   \n",
       "7853252                          -85  ...                         0.0   \n",
       "\n",
       "         Census_ThresholdOptIn  Census_FirmwareManufacturerIdentifier  \\\n",
       "0                          0.0                                  807.0   \n",
       "1                          0.0                                  554.0   \n",
       "2                          0.0                                  556.0   \n",
       "3                          0.0                                  628.0   \n",
       "4                          0.0                                  556.0   \n",
       "...                        ...                                    ...   \n",
       "7853248                    0.0                                  554.0   \n",
       "7853249                    0.0                                  142.0   \n",
       "7853250                    0.0                                  152.0   \n",
       "7853251                    0.0                                  897.0   \n",
       "7853252                    0.0                                  142.0   \n",
       "\n",
       "         Census_FirmwareVersionIdentifier  Census_IsSecureBootEnabled  \\\n",
       "0                                  8554.0                           1   \n",
       "1                                 33105.0                           1   \n",
       "2                                 63396.0                           1   \n",
       "3                                 26320.0                           1   \n",
       "4                                 63269.0                           1   \n",
       "...                                   ...                         ...   \n",
       "7853248                           33060.0                           0   \n",
       "7853249                           42119.0                           0   \n",
       "7853250                            8391.0                           1   \n",
       "7853251                           67854.0                           0   \n",
       "7853252                            4966.0                           1   \n",
       "\n",
       "         Census_IsWIMBootEnabled  Census_IsTouchEnabled  Wdft_IsGamer  \\\n",
       "0                            0.0                      0           0.0   \n",
       "1                            0.0                      0           1.0   \n",
       "2                            0.0                      0           1.0   \n",
       "3                            0.0                      0           0.0   \n",
       "4                            0.0                      0           1.0   \n",
       "...                          ...                    ...           ...   \n",
       "7853248                      0.0                      0           0.0   \n",
       "7853249                      0.0                      0           0.0   \n",
       "7853250                      0.0                      0           1.0   \n",
       "7853251                      0.0                      0           0.0   \n",
       "7853252                      0.0                      0           0.0   \n",
       "\n",
       "         Wdft_RegionIdentifier  HasDetections  \n",
       "0                          7.0            NaN  \n",
       "1                         12.0            NaN  \n",
       "2                         11.0            NaN  \n",
       "3                         10.0            NaN  \n",
       "4                          3.0            NaN  \n",
       "...                        ...            ...  \n",
       "7853248                   10.0            NaN  \n",
       "7853249                   11.0            NaN  \n",
       "7853250                    7.0            NaN  \n",
       "7853251                   11.0            NaN  \n",
       "7853252                   10.0            NaN  \n",
       "\n",
       "[7853253 rows x 56 columns]"
      ]
     },
     "execution_count": 24,
     "metadata": {},
     "output_type": "execute_result"
    }
   ],
   "source": [
    "train_sample = train_and_test[0:train_shape[0]]\n",
    "test = train_and_test[(train_shape[0]):(train_and_test.shape[0]+1)]\n",
    "test"
   ]
  },
  {
   "cell_type": "code",
   "execution_count": 25,
   "id": "890dbaab",
   "metadata": {
    "execution": {
     "iopub.execute_input": "2022-05-08T06:28:28.105382Z",
     "iopub.status.busy": "2022-05-08T06:28:28.105079Z",
     "iopub.status.idle": "2022-05-08T06:28:28.109325Z",
     "shell.execute_reply": "2022-05-08T06:28:28.108256Z"
    },
    "papermill": {
     "duration": 0.056929,
     "end_time": "2022-05-08T06:28:28.111590",
     "exception": false,
     "start_time": "2022-05-08T06:28:28.054661",
     "status": "completed"
    },
    "tags": []
   },
   "outputs": [],
   "source": [
    "del train_and_test"
   ]
  },
  {
   "cell_type": "markdown",
   "id": "fa99533d",
   "metadata": {
    "papermill": {
     "duration": 0.049468,
     "end_time": "2022-05-08T06:28:28.209577",
     "exception": false,
     "start_time": "2022-05-08T06:28:28.160109",
     "status": "completed"
    },
    "tags": []
   },
   "source": [
    "# Removendo as colunas do HasDetections do conjunto de teste, elas foram adicionadas durante a concatenação do dataframe"
   ]
  },
  {
   "cell_type": "code",
   "execution_count": 26,
   "id": "6e98ca9d",
   "metadata": {
    "execution": {
     "iopub.execute_input": "2022-05-08T06:28:28.309459Z",
     "iopub.status.busy": "2022-05-08T06:28:28.308502Z",
     "iopub.status.idle": "2022-05-08T06:28:34.056653Z",
     "shell.execute_reply": "2022-05-08T06:28:34.055752Z"
    },
    "papermill": {
     "duration": 5.80084,
     "end_time": "2022-05-08T06:28:34.059160",
     "exception": false,
     "start_time": "2022-05-08T06:28:28.258320",
     "status": "completed"
    },
    "tags": []
   },
   "outputs": [],
   "source": [
    "test = test.drop([\"HasDetections\"], axis = 1)"
   ]
  },
  {
   "cell_type": "code",
   "execution_count": 27,
   "id": "d6070155",
   "metadata": {
    "execution": {
     "iopub.execute_input": "2022-05-08T06:28:34.157883Z",
     "iopub.status.busy": "2022-05-08T06:28:34.157602Z",
     "iopub.status.idle": "2022-05-08T06:28:35.024917Z",
     "shell.execute_reply": "2022-05-08T06:28:35.024200Z"
    },
    "papermill": {
     "duration": 0.921111,
     "end_time": "2022-05-08T06:28:35.028054",
     "exception": false,
     "start_time": "2022-05-08T06:28:34.106943",
     "status": "completed"
    },
    "tags": []
   },
   "outputs": [],
   "source": [
    "y = train_sample['HasDetections']\n",
    "X = train_sample.drop(['HasDetections'], axis=1)"
   ]
  },
  {
   "cell_type": "code",
   "execution_count": 28,
   "id": "7c45074f",
   "metadata": {
    "execution": {
     "iopub.execute_input": "2022-05-08T06:28:35.133165Z",
     "iopub.status.busy": "2022-05-08T06:28:35.132482Z",
     "iopub.status.idle": "2022-05-08T06:28:35.273730Z",
     "shell.execute_reply": "2022-05-08T06:28:35.272671Z"
    },
    "papermill": {
     "duration": 0.194782,
     "end_time": "2022-05-08T06:28:35.276111",
     "exception": false,
     "start_time": "2022-05-08T06:28:35.081329",
     "status": "completed"
    },
    "tags": []
   },
   "outputs": [
    {
     "data": {
      "text/plain": [
       "84"
      ]
     },
     "execution_count": 28,
     "metadata": {},
     "output_type": "execute_result"
    }
   ],
   "source": [
    "del train_sample\n",
    "gc.collect()"
   ]
  },
  {
   "cell_type": "markdown",
   "id": "ffa42a9a",
   "metadata": {
    "papermill": {
     "duration": 0.050754,
     "end_time": "2022-05-08T06:28:35.378600",
     "exception": false,
     "start_time": "2022-05-08T06:28:35.327846",
     "status": "completed"
    },
    "tags": []
   },
   "source": [
    "# XGBoost"
   ]
  },
  {
   "cell_type": "code",
   "execution_count": 29,
   "id": "78e04f1b",
   "metadata": {
    "execution": {
     "iopub.execute_input": "2022-05-08T06:28:35.477977Z",
     "iopub.status.busy": "2022-05-08T06:28:35.477698Z",
     "iopub.status.idle": "2022-05-08T06:50:11.835165Z",
     "shell.execute_reply": "2022-05-08T06:50:11.833979Z"
    },
    "papermill": {
     "duration": 1296.411027,
     "end_time": "2022-05-08T06:50:11.839127",
     "exception": false,
     "start_time": "2022-05-08T06:28:35.428100",
     "status": "completed"
    },
    "tags": []
   },
   "outputs": [
    {
     "name": "stderr",
     "output_type": "stream",
     "text": [
      "/opt/conda/lib/python3.7/site-packages/xgboost/sklearn.py:797: UserWarning: `eval_metric` in `fit` method is deprecated for better compatibility with scikit-learn, use `eval_metric` in constructor or`set_params` instead.\n",
      "  UserWarning,\n",
      "/opt/conda/lib/python3.7/site-packages/xgboost/sklearn.py:797: UserWarning: `early_stopping_rounds` in `fit` method is deprecated for better compatibility with scikit-learn, use `early_stopping_rounds` in constructor or`set_params` instead.\n",
      "  UserWarning,\n"
     ]
    },
    {
     "name": "stdout",
     "output_type": "stream",
     "text": [
      "[0]\tvalidation_0-auc:0.62197\tvalidation_1-auc:0.62370\n",
      "[100]\tvalidation_0-auc:0.70808\tvalidation_1-auc:0.70601\n",
      "[200]\tvalidation_0-auc:0.71661\tvalidation_1-auc:0.71248\n",
      "[300]\tvalidation_0-auc:0.72196\tvalidation_1-auc:0.71579\n",
      "[400]\tvalidation_0-auc:0.72572\tvalidation_1-auc:0.71762\n",
      "[500]\tvalidation_0-auc:0.72924\tvalidation_1-auc:0.71924\n",
      "[600]\tvalidation_0-auc:0.73221\tvalidation_1-auc:0.72047\n",
      "[700]\tvalidation_0-auc:0.73487\tvalidation_1-auc:0.72138\n",
      "[800]\tvalidation_0-auc:0.73722\tvalidation_1-auc:0.72198\n",
      "[900]\tvalidation_0-auc:0.73951\tvalidation_1-auc:0.72262\n",
      "[999]\tvalidation_0-auc:0.74152\tvalidation_1-auc:0.72304\n",
      "              precision    recall  f1-score   support\n",
      "\n",
      "         0.0       0.66      0.66      0.66    225850\n",
      "         1.0       0.66      0.65      0.66    224150\n",
      "\n",
      "    accuracy                           0.66    450000\n",
      "   macro avg       0.66      0.66      0.66    450000\n",
      "weighted avg       0.66      0.66      0.66    450000\n",
      "\n",
      "accuracy_score 0.6591288888888889\n",
      "roc-auc score for the class 1, from target 'HasDetections'  0.7230423767134257\n",
      "elapsed time in seconds:  1294.840072631836\n"
     ]
    },
    {
     "data": {
      "text/plain": [
       "30"
      ]
     },
     "execution_count": 29,
     "metadata": {},
     "output_type": "execute_result"
    }
   ],
   "source": [
    "from sklearn.model_selection import train_test_split\n",
    "from sklearn.metrics import accuracy_score\n",
    "from sklearn.metrics import precision_score\n",
    "from sklearn.metrics import recall_score\n",
    "from sklearn.metrics import f1_score\n",
    "from sklearn.metrics import classification_report\n",
    "from sklearn.metrics import roc_auc_score\n",
    "import time\n",
    "\n",
    "# create a 70/30 split of the data \n",
    "xtrain, xvalid, ytrain, yvalid = train_test_split(X, y, random_state=42, test_size=0.3)\n",
    "\n",
    "import xgboost as xgb\n",
    "\n",
    "start_time = time.time()\n",
    "\n",
    "clf_xgb = xgb.XGBClassifier(learning_rate=0.1, \n",
    "                            n_estimators=1000, \n",
    "                            max_depth=5,\n",
    "                            min_child_weight=1,\n",
    "                            gamma=0,\n",
    "                            subsample=0.9,\n",
    "                            colsample_bytree=0.6,\n",
    "                            objective= 'binary:logistic',\n",
    "                            nthread=-1,\n",
    "                            scale_pos_weight=1,\n",
    "                            reg_alpha = 0,\n",
    "                            reg_lambda = 1,\n",
    "                            seed=42)\n",
    "\n",
    "clf_xgb.fit(xtrain, ytrain, eval_set=[(xtrain, ytrain), (xvalid, yvalid)], \n",
    "            early_stopping_rounds=100, eval_metric='auc', verbose=100)\n",
    "\n",
    "predictions = clf_xgb.predict(xvalid)\n",
    "\n",
    "print(classification_report(yvalid, predictions))\n",
    "print(\"accuracy_score\", accuracy_score(yvalid, predictions))\n",
    "predictions_probas = clf_xgb.predict_proba(xvalid)\n",
    "print(\"roc-auc score for the class 1, from target 'HasDetections' \", roc_auc_score(yvalid, predictions_probas[:,1]))\n",
    "print(\"elapsed time in seconds: \", time.time() - start_time)\n",
    "gc.collect()"
   ]
  },
  {
   "cell_type": "markdown",
   "id": "cc892949",
   "metadata": {
    "papermill": {
     "duration": 0.093093,
     "end_time": "2022-05-08T06:50:12.026117",
     "exception": false,
     "start_time": "2022-05-08T06:50:11.933024",
     "status": "completed"
    },
    "tags": []
   },
   "source": [
    "# LGBM"
   ]
  },
  {
   "cell_type": "markdown",
   "id": "99e37647",
   "metadata": {
    "papermill": {
     "duration": 0.094784,
     "end_time": "2022-05-08T06:50:12.212283",
     "exception": false,
     "start_time": "2022-05-08T06:50:12.117499",
     "status": "completed"
    },
    "tags": []
   },
   "source": [
    "# Gráficos"
   ]
  },
  {
   "cell_type": "code",
   "execution_count": null,
   "id": "bf417ffb",
   "metadata": {
    "papermill": {
     "duration": 0.05525,
     "end_time": "2022-05-08T06:50:12.348083",
     "exception": false,
     "start_time": "2022-05-08T06:50:12.292833",
     "status": "completed"
    },
    "tags": []
   },
   "outputs": [],
   "source": []
  }
 ],
 "metadata": {
  "kernelspec": {
   "display_name": "Python 3",
   "language": "python",
   "name": "python3"
  },
  "language_info": {
   "codemirror_mode": {
    "name": "ipython",
    "version": 3
   },
   "file_extension": ".py",
   "mimetype": "text/x-python",
   "name": "python",
   "nbconvert_exporter": "python",
   "pygments_lexer": "ipython3",
   "version": "3.7.12"
  },
  "papermill": {
   "default_parameters": {},
   "duration": 1765.751672,
   "end_time": "2022-05-08T06:50:15.029442",
   "environment_variables": {},
   "exception": null,
   "input_path": "__notebook__.ipynb",
   "output_path": "__notebook__.ipynb",
   "parameters": {},
   "start_time": "2022-05-08T06:20:49.277770",
   "version": "2.3.4"
  }
 },
 "nbformat": 4,
 "nbformat_minor": 5
}
