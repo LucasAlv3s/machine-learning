{
 "cells": [
  {
   "cell_type": "code",
   "execution_count": 1,
   "id": "26d240f4",
   "metadata": {
    "_cell_guid": "b1076dfc-b9ad-4769-8c92-a6c4dae69d19",
    "_uuid": "8f2839f25d086af736a60e9eeb907d3b93b6e0e5",
    "execution": {
     "iopub.execute_input": "2022-04-27T20:33:26.199202Z",
     "iopub.status.busy": "2022-04-27T20:33:26.198901Z",
     "iopub.status.idle": "2022-04-27T20:33:26.210176Z",
     "shell.execute_reply": "2022-04-27T20:33:26.209137Z"
    },
    "papermill": {
     "duration": 0.04593,
     "end_time": "2022-04-27T20:33:26.212686",
     "exception": false,
     "start_time": "2022-04-27T20:33:26.166756",
     "status": "completed"
    },
    "tags": []
   },
   "outputs": [
    {
     "name": "stdout",
     "output_type": "stream",
     "text": [
      "/kaggle/input/task-02-car-price-prediction/test_car_details.csv\n",
      "/kaggle/input/task-02-car-price-prediction/train_car_details.csv\n"
     ]
    }
   ],
   "source": [
    "# This Python 3 environment comes with many helpful analytics libraries installed\n",
    "# It is defined by the kaggle/python Docker image: https://github.com/kaggle/docker-python\n",
    "# For example, here's several helpful packages to load\n",
    "\n",
    "import numpy as np # linear algebra\n",
    "import pandas as pd # data processing, CSV file I/O (e.g. pd.read_csv)\n",
    "\n",
    "# Input data files are available in the read-only \"../input/\" directory\n",
    "# For example, running this (by clicking run or pressing Shift+Enter) will list all files under the input directory\n",
    "\n",
    "import os\n",
    "for dirname, _, filenames in os.walk('/kaggle/input'):\n",
    "    for filename in filenames:\n",
    "        print(os.path.join(dirname, filename))\n",
    "\n",
    "# You can write up to 20GB to the current directory (/kaggle/working/) that gets preserved as output when you create a version using \"Save & Run All\" \n",
    "# You can also write temporary files to /kaggle/temp/, but they won't be saved outside of the current session"
   ]
  },
  {
   "cell_type": "code",
   "execution_count": 2,
   "id": "0e900762",
   "metadata": {
    "execution": {
     "iopub.execute_input": "2022-04-27T20:33:26.276229Z",
     "iopub.status.busy": "2022-04-27T20:33:26.275988Z",
     "iopub.status.idle": "2022-04-27T20:33:26.313240Z",
     "shell.execute_reply": "2022-04-27T20:33:26.312468Z"
    },
    "papermill": {
     "duration": 0.072026,
     "end_time": "2022-04-27T20:33:26.315222",
     "exception": false,
     "start_time": "2022-04-27T20:33:26.243196",
     "status": "completed"
    },
    "tags": []
   },
   "outputs": [],
   "source": [
    "full_train = pd.read_csv(\"../input/task-02-car-price-prediction/train_car_details.csv\")"
   ]
  },
  {
   "cell_type": "markdown",
   "id": "0b99768e",
   "metadata": {
    "papermill": {
     "duration": 0.029389,
     "end_time": "2022-04-27T20:33:26.374762",
     "exception": false,
     "start_time": "2022-04-27T20:33:26.345373",
     "status": "completed"
    },
    "tags": []
   },
   "source": [
    "# Data Analysis"
   ]
  },
  {
   "cell_type": "code",
   "execution_count": 3,
   "id": "0aa84b9e",
   "metadata": {
    "execution": {
     "iopub.execute_input": "2022-04-27T20:33:26.437848Z",
     "iopub.status.busy": "2022-04-27T20:33:26.437099Z",
     "iopub.status.idle": "2022-04-27T20:33:26.460383Z",
     "shell.execute_reply": "2022-04-27T20:33:26.459754Z"
    },
    "papermill": {
     "duration": 0.05616,
     "end_time": "2022-04-27T20:33:26.462472",
     "exception": false,
     "start_time": "2022-04-27T20:33:26.406312",
     "status": "completed"
    },
    "tags": []
   },
   "outputs": [
    {
     "data": {
      "text/html": [
       "<div>\n",
       "<style scoped>\n",
       "    .dataframe tbody tr th:only-of-type {\n",
       "        vertical-align: middle;\n",
       "    }\n",
       "\n",
       "    .dataframe tbody tr th {\n",
       "        vertical-align: top;\n",
       "    }\n",
       "\n",
       "    .dataframe thead th {\n",
       "        text-align: right;\n",
       "    }\n",
       "</style>\n",
       "<table border=\"1\" class=\"dataframe\">\n",
       "  <thead>\n",
       "    <tr style=\"text-align: right;\">\n",
       "      <th></th>\n",
       "      <th>Id</th>\n",
       "      <th>name</th>\n",
       "      <th>year</th>\n",
       "      <th>selling_price</th>\n",
       "      <th>km_driven</th>\n",
       "      <th>fuel</th>\n",
       "      <th>seller_type</th>\n",
       "      <th>transmission</th>\n",
       "      <th>owner</th>\n",
       "      <th>mileage</th>\n",
       "      <th>engine</th>\n",
       "      <th>max_power</th>\n",
       "      <th>torque</th>\n",
       "      <th>seats</th>\n",
       "    </tr>\n",
       "  </thead>\n",
       "  <tbody>\n",
       "    <tr>\n",
       "      <th>0</th>\n",
       "      <td>1</td>\n",
       "      <td>Hyundai Santro GLS I - Euro I</td>\n",
       "      <td>1999</td>\n",
       "      <td>80000</td>\n",
       "      <td>110000</td>\n",
       "      <td>Petrol</td>\n",
       "      <td>Individual</td>\n",
       "      <td>Manual</td>\n",
       "      <td>Second Owner</td>\n",
       "      <td>NaN</td>\n",
       "      <td>NaN</td>\n",
       "      <td>NaN</td>\n",
       "      <td>NaN</td>\n",
       "      <td>NaN</td>\n",
       "    </tr>\n",
       "    <tr>\n",
       "      <th>1</th>\n",
       "      <td>2</td>\n",
       "      <td>Maruti Ertiga VDI</td>\n",
       "      <td>2012</td>\n",
       "      <td>459999</td>\n",
       "      <td>87000</td>\n",
       "      <td>Diesel</td>\n",
       "      <td>Individual</td>\n",
       "      <td>Manual</td>\n",
       "      <td>First Owner</td>\n",
       "      <td>20.77 kmpl</td>\n",
       "      <td>1248 CC</td>\n",
       "      <td>88.76 bhp</td>\n",
       "      <td>200Nm@ 1750rpm</td>\n",
       "      <td>7.0</td>\n",
       "    </tr>\n",
       "    <tr>\n",
       "      <th>2</th>\n",
       "      <td>3</td>\n",
       "      <td>BMW 3 Series 320d Luxury Line</td>\n",
       "      <td>2010</td>\n",
       "      <td>1100000</td>\n",
       "      <td>102000</td>\n",
       "      <td>Diesel</td>\n",
       "      <td>Dealer</td>\n",
       "      <td>Automatic</td>\n",
       "      <td>First Owner</td>\n",
       "      <td>19.62 kmpl</td>\n",
       "      <td>1995 CC</td>\n",
       "      <td>187.74 bhp</td>\n",
       "      <td>400Nm@ 1750-2500rpm</td>\n",
       "      <td>5.0</td>\n",
       "    </tr>\n",
       "    <tr>\n",
       "      <th>3</th>\n",
       "      <td>4</td>\n",
       "      <td>Tata New Safari DICOR 2.2 EX 4x2</td>\n",
       "      <td>2009</td>\n",
       "      <td>229999</td>\n",
       "      <td>212000</td>\n",
       "      <td>Diesel</td>\n",
       "      <td>Individual</td>\n",
       "      <td>Manual</td>\n",
       "      <td>Third Owner</td>\n",
       "      <td>11.57 kmpl</td>\n",
       "      <td>2179 CC</td>\n",
       "      <td>138.1 bhp</td>\n",
       "      <td>320Nm@ 1700-2700rpm</td>\n",
       "      <td>7.0</td>\n",
       "    </tr>\n",
       "    <tr>\n",
       "      <th>4</th>\n",
       "      <td>5</td>\n",
       "      <td>Toyota Fortuner 3.0 Diesel</td>\n",
       "      <td>2010</td>\n",
       "      <td>800000</td>\n",
       "      <td>125000</td>\n",
       "      <td>Diesel</td>\n",
       "      <td>Individual</td>\n",
       "      <td>Manual</td>\n",
       "      <td>Second Owner</td>\n",
       "      <td>11.5 kmpl</td>\n",
       "      <td>2982 CC</td>\n",
       "      <td>171 bhp</td>\n",
       "      <td>343Nm@ 1400-3400rpm</td>\n",
       "      <td>7.0</td>\n",
       "    </tr>\n",
       "  </tbody>\n",
       "</table>\n",
       "</div>"
      ],
      "text/plain": [
       "   Id                              name  year  selling_price  km_driven  \\\n",
       "0   1     Hyundai Santro GLS I - Euro I  1999          80000     110000   \n",
       "1   2                 Maruti Ertiga VDI  2012         459999      87000   \n",
       "2   3     BMW 3 Series 320d Luxury Line  2010        1100000     102000   \n",
       "3   4  Tata New Safari DICOR 2.2 EX 4x2  2009         229999     212000   \n",
       "4   5        Toyota Fortuner 3.0 Diesel  2010         800000     125000   \n",
       "\n",
       "     fuel seller_type transmission         owner     mileage   engine  \\\n",
       "0  Petrol  Individual       Manual  Second Owner         NaN      NaN   \n",
       "1  Diesel  Individual       Manual   First Owner  20.77 kmpl  1248 CC   \n",
       "2  Diesel      Dealer    Automatic   First Owner  19.62 kmpl  1995 CC   \n",
       "3  Diesel  Individual       Manual   Third Owner  11.57 kmpl  2179 CC   \n",
       "4  Diesel  Individual       Manual  Second Owner   11.5 kmpl  2982 CC   \n",
       "\n",
       "    max_power               torque  seats  \n",
       "0         NaN                  NaN    NaN  \n",
       "1   88.76 bhp       200Nm@ 1750rpm    7.0  \n",
       "2  187.74 bhp  400Nm@ 1750-2500rpm    5.0  \n",
       "3   138.1 bhp  320Nm@ 1700-2700rpm    7.0  \n",
       "4     171 bhp  343Nm@ 1400-3400rpm    7.0  "
      ]
     },
     "execution_count": 3,
     "metadata": {},
     "output_type": "execute_result"
    }
   ],
   "source": [
    "full_train.head(5)"
   ]
  },
  {
   "cell_type": "code",
   "execution_count": 4,
   "id": "00e1073c",
   "metadata": {
    "execution": {
     "iopub.execute_input": "2022-04-27T20:33:26.525432Z",
     "iopub.status.busy": "2022-04-27T20:33:26.524926Z",
     "iopub.status.idle": "2022-04-27T20:33:26.550936Z",
     "shell.execute_reply": "2022-04-27T20:33:26.550268Z"
    },
    "papermill": {
     "duration": 0.060449,
     "end_time": "2022-04-27T20:33:26.553383",
     "exception": false,
     "start_time": "2022-04-27T20:33:26.492934",
     "status": "completed"
    },
    "tags": []
   },
   "outputs": [
    {
     "name": "stdout",
     "output_type": "stream",
     "text": [
      "<class 'pandas.core.frame.DataFrame'>\n",
      "RangeIndex: 5689 entries, 0 to 5688\n",
      "Data columns (total 14 columns):\n",
      " #   Column         Non-Null Count  Dtype  \n",
      "---  ------         --------------  -----  \n",
      " 0   Id             5689 non-null   int64  \n",
      " 1   name           5689 non-null   object \n",
      " 2   year           5689 non-null   int64  \n",
      " 3   selling_price  5689 non-null   int64  \n",
      " 4   km_driven      5689 non-null   int64  \n",
      " 5   fuel           5689 non-null   object \n",
      " 6   seller_type    5689 non-null   object \n",
      " 7   transmission   5689 non-null   object \n",
      " 8   owner          5689 non-null   object \n",
      " 9   mileage        5532 non-null   object \n",
      " 10  engine         5532 non-null   object \n",
      " 11  max_power      5538 non-null   object \n",
      " 12  torque         5531 non-null   object \n",
      " 13  seats          5532 non-null   float64\n",
      "dtypes: float64(1), int64(4), object(9)\n",
      "memory usage: 622.4+ KB\n"
     ]
    }
   ],
   "source": [
    "full_train.info()"
   ]
  },
  {
   "cell_type": "markdown",
   "id": "72f2c6d7",
   "metadata": {
    "papermill": {
     "duration": 0.030041,
     "end_time": "2022-04-27T20:33:26.614571",
     "exception": false,
     "start_time": "2022-04-27T20:33:26.584530",
     "status": "completed"
    },
    "tags": []
   },
   "source": [
    "Categorical values is found in object types columns\n",
    "Also, the target is unsualy at colmumn #3"
   ]
  },
  {
   "cell_type": "code",
   "execution_count": 5,
   "id": "14dce880",
   "metadata": {
    "execution": {
     "iopub.execute_input": "2022-04-27T20:33:26.678117Z",
     "iopub.status.busy": "2022-04-27T20:33:26.677378Z",
     "iopub.status.idle": "2022-04-27T20:33:26.724307Z",
     "shell.execute_reply": "2022-04-27T20:33:26.723582Z"
    },
    "papermill": {
     "duration": 0.081151,
     "end_time": "2022-04-27T20:33:26.726705",
     "exception": false,
     "start_time": "2022-04-27T20:33:26.645554",
     "status": "completed"
    },
    "tags": []
   },
   "outputs": [
    {
     "data": {
      "text/html": [
       "<div>\n",
       "<style scoped>\n",
       "    .dataframe tbody tr th:only-of-type {\n",
       "        vertical-align: middle;\n",
       "    }\n",
       "\n",
       "    .dataframe tbody tr th {\n",
       "        vertical-align: top;\n",
       "    }\n",
       "\n",
       "    .dataframe thead th {\n",
       "        text-align: right;\n",
       "    }\n",
       "</style>\n",
       "<table border=\"1\" class=\"dataframe\">\n",
       "  <thead>\n",
       "    <tr style=\"text-align: right;\">\n",
       "      <th></th>\n",
       "      <th>Id</th>\n",
       "      <th>name</th>\n",
       "      <th>year</th>\n",
       "      <th>selling_price</th>\n",
       "      <th>km_driven</th>\n",
       "      <th>fuel</th>\n",
       "      <th>seller_type</th>\n",
       "      <th>transmission</th>\n",
       "      <th>owner</th>\n",
       "      <th>mileage</th>\n",
       "      <th>engine</th>\n",
       "      <th>max_power</th>\n",
       "      <th>torque</th>\n",
       "      <th>seats</th>\n",
       "    </tr>\n",
       "  </thead>\n",
       "  <tbody>\n",
       "    <tr>\n",
       "      <th>count</th>\n",
       "      <td>5689.000000</td>\n",
       "      <td>5689</td>\n",
       "      <td>5689.000000</td>\n",
       "      <td>5.689000e+03</td>\n",
       "      <td>5.689000e+03</td>\n",
       "      <td>5689</td>\n",
       "      <td>5689</td>\n",
       "      <td>5689</td>\n",
       "      <td>5689</td>\n",
       "      <td>5532</td>\n",
       "      <td>5532</td>\n",
       "      <td>5538</td>\n",
       "      <td>5531</td>\n",
       "      <td>5532.000000</td>\n",
       "    </tr>\n",
       "    <tr>\n",
       "      <th>unique</th>\n",
       "      <td>NaN</td>\n",
       "      <td>1767</td>\n",
       "      <td>NaN</td>\n",
       "      <td>NaN</td>\n",
       "      <td>NaN</td>\n",
       "      <td>4</td>\n",
       "      <td>3</td>\n",
       "      <td>2</td>\n",
       "      <td>5</td>\n",
       "      <td>366</td>\n",
       "      <td>118</td>\n",
       "      <td>302</td>\n",
       "      <td>402</td>\n",
       "      <td>NaN</td>\n",
       "    </tr>\n",
       "    <tr>\n",
       "      <th>top</th>\n",
       "      <td>NaN</td>\n",
       "      <td>Maruti Swift Dzire VDI</td>\n",
       "      <td>NaN</td>\n",
       "      <td>NaN</td>\n",
       "      <td>NaN</td>\n",
       "      <td>Diesel</td>\n",
       "      <td>Individual</td>\n",
       "      <td>Manual</td>\n",
       "      <td>First Owner</td>\n",
       "      <td>18.9 kmpl</td>\n",
       "      <td>1248 CC</td>\n",
       "      <td>74 bhp</td>\n",
       "      <td>190Nm@ 2000rpm</td>\n",
       "      <td>NaN</td>\n",
       "    </tr>\n",
       "    <tr>\n",
       "      <th>freq</th>\n",
       "      <td>NaN</td>\n",
       "      <td>92</td>\n",
       "      <td>NaN</td>\n",
       "      <td>NaN</td>\n",
       "      <td>NaN</td>\n",
       "      <td>3082</td>\n",
       "      <td>4756</td>\n",
       "      <td>4963</td>\n",
       "      <td>3685</td>\n",
       "      <td>155</td>\n",
       "      <td>691</td>\n",
       "      <td>265</td>\n",
       "      <td>371</td>\n",
       "      <td>NaN</td>\n",
       "    </tr>\n",
       "    <tr>\n",
       "      <th>mean</th>\n",
       "      <td>2845.000000</td>\n",
       "      <td>NaN</td>\n",
       "      <td>2013.741607</td>\n",
       "      <td>6.277744e+05</td>\n",
       "      <td>6.987759e+04</td>\n",
       "      <td>NaN</td>\n",
       "      <td>NaN</td>\n",
       "      <td>NaN</td>\n",
       "      <td>NaN</td>\n",
       "      <td>NaN</td>\n",
       "      <td>NaN</td>\n",
       "      <td>NaN</td>\n",
       "      <td>NaN</td>\n",
       "      <td>5.422993</td>\n",
       "    </tr>\n",
       "    <tr>\n",
       "      <th>std</th>\n",
       "      <td>1642.417172</td>\n",
       "      <td>NaN</td>\n",
       "      <td>4.054875</td>\n",
       "      <td>7.784000e+05</td>\n",
       "      <td>5.124731e+04</td>\n",
       "      <td>NaN</td>\n",
       "      <td>NaN</td>\n",
       "      <td>NaN</td>\n",
       "      <td>NaN</td>\n",
       "      <td>NaN</td>\n",
       "      <td>NaN</td>\n",
       "      <td>NaN</td>\n",
       "      <td>NaN</td>\n",
       "      <td>0.961395</td>\n",
       "    </tr>\n",
       "    <tr>\n",
       "      <th>min</th>\n",
       "      <td>1.000000</td>\n",
       "      <td>NaN</td>\n",
       "      <td>1983.000000</td>\n",
       "      <td>2.999900e+04</td>\n",
       "      <td>1.000000e+00</td>\n",
       "      <td>NaN</td>\n",
       "      <td>NaN</td>\n",
       "      <td>NaN</td>\n",
       "      <td>NaN</td>\n",
       "      <td>NaN</td>\n",
       "      <td>NaN</td>\n",
       "      <td>NaN</td>\n",
       "      <td>NaN</td>\n",
       "      <td>2.000000</td>\n",
       "    </tr>\n",
       "    <tr>\n",
       "      <th>25%</th>\n",
       "      <td>1423.000000</td>\n",
       "      <td>NaN</td>\n",
       "      <td>2011.000000</td>\n",
       "      <td>2.500000e+05</td>\n",
       "      <td>3.500000e+04</td>\n",
       "      <td>NaN</td>\n",
       "      <td>NaN</td>\n",
       "      <td>NaN</td>\n",
       "      <td>NaN</td>\n",
       "      <td>NaN</td>\n",
       "      <td>NaN</td>\n",
       "      <td>NaN</td>\n",
       "      <td>NaN</td>\n",
       "      <td>5.000000</td>\n",
       "    </tr>\n",
       "    <tr>\n",
       "      <th>50%</th>\n",
       "      <td>2845.000000</td>\n",
       "      <td>NaN</td>\n",
       "      <td>2014.000000</td>\n",
       "      <td>4.500000e+05</td>\n",
       "      <td>6.000000e+04</td>\n",
       "      <td>NaN</td>\n",
       "      <td>NaN</td>\n",
       "      <td>NaN</td>\n",
       "      <td>NaN</td>\n",
       "      <td>NaN</td>\n",
       "      <td>NaN</td>\n",
       "      <td>NaN</td>\n",
       "      <td>NaN</td>\n",
       "      <td>5.000000</td>\n",
       "    </tr>\n",
       "    <tr>\n",
       "      <th>75%</th>\n",
       "      <td>4267.000000</td>\n",
       "      <td>NaN</td>\n",
       "      <td>2017.000000</td>\n",
       "      <td>6.670000e+05</td>\n",
       "      <td>9.800000e+04</td>\n",
       "      <td>NaN</td>\n",
       "      <td>NaN</td>\n",
       "      <td>NaN</td>\n",
       "      <td>NaN</td>\n",
       "      <td>NaN</td>\n",
       "      <td>NaN</td>\n",
       "      <td>NaN</td>\n",
       "      <td>NaN</td>\n",
       "      <td>5.000000</td>\n",
       "    </tr>\n",
       "    <tr>\n",
       "      <th>max</th>\n",
       "      <td>5689.000000</td>\n",
       "      <td>NaN</td>\n",
       "      <td>2020.000000</td>\n",
       "      <td>7.200000e+06</td>\n",
       "      <td>1.500000e+06</td>\n",
       "      <td>NaN</td>\n",
       "      <td>NaN</td>\n",
       "      <td>NaN</td>\n",
       "      <td>NaN</td>\n",
       "      <td>NaN</td>\n",
       "      <td>NaN</td>\n",
       "      <td>NaN</td>\n",
       "      <td>NaN</td>\n",
       "      <td>10.000000</td>\n",
       "    </tr>\n",
       "  </tbody>\n",
       "</table>\n",
       "</div>"
      ],
      "text/plain": [
       "                 Id                    name         year  selling_price  \\\n",
       "count   5689.000000                    5689  5689.000000   5.689000e+03   \n",
       "unique          NaN                    1767          NaN            NaN   \n",
       "top             NaN  Maruti Swift Dzire VDI          NaN            NaN   \n",
       "freq            NaN                      92          NaN            NaN   \n",
       "mean    2845.000000                     NaN  2013.741607   6.277744e+05   \n",
       "std     1642.417172                     NaN     4.054875   7.784000e+05   \n",
       "min        1.000000                     NaN  1983.000000   2.999900e+04   \n",
       "25%     1423.000000                     NaN  2011.000000   2.500000e+05   \n",
       "50%     2845.000000                     NaN  2014.000000   4.500000e+05   \n",
       "75%     4267.000000                     NaN  2017.000000   6.670000e+05   \n",
       "max     5689.000000                     NaN  2020.000000   7.200000e+06   \n",
       "\n",
       "           km_driven    fuel seller_type transmission        owner    mileage  \\\n",
       "count   5.689000e+03    5689        5689         5689         5689       5532   \n",
       "unique           NaN       4           3            2            5        366   \n",
       "top              NaN  Diesel  Individual       Manual  First Owner  18.9 kmpl   \n",
       "freq             NaN    3082        4756         4963         3685        155   \n",
       "mean    6.987759e+04     NaN         NaN          NaN          NaN        NaN   \n",
       "std     5.124731e+04     NaN         NaN          NaN          NaN        NaN   \n",
       "min     1.000000e+00     NaN         NaN          NaN          NaN        NaN   \n",
       "25%     3.500000e+04     NaN         NaN          NaN          NaN        NaN   \n",
       "50%     6.000000e+04     NaN         NaN          NaN          NaN        NaN   \n",
       "75%     9.800000e+04     NaN         NaN          NaN          NaN        NaN   \n",
       "max     1.500000e+06     NaN         NaN          NaN          NaN        NaN   \n",
       "\n",
       "         engine max_power          torque        seats  \n",
       "count      5532      5538            5531  5532.000000  \n",
       "unique      118       302             402          NaN  \n",
       "top     1248 CC    74 bhp  190Nm@ 2000rpm          NaN  \n",
       "freq        691       265             371          NaN  \n",
       "mean        NaN       NaN             NaN     5.422993  \n",
       "std         NaN       NaN             NaN     0.961395  \n",
       "min         NaN       NaN             NaN     2.000000  \n",
       "25%         NaN       NaN             NaN     5.000000  \n",
       "50%         NaN       NaN             NaN     5.000000  \n",
       "75%         NaN       NaN             NaN     5.000000  \n",
       "max         NaN       NaN             NaN    10.000000  "
      ]
     },
     "execution_count": 5,
     "metadata": {},
     "output_type": "execute_result"
    }
   ],
   "source": [
    "full_train.describe(include = \"all\")"
   ]
  },
  {
   "cell_type": "markdown",
   "id": "beb2fe62",
   "metadata": {
    "papermill": {
     "duration": 0.031013,
     "end_time": "2022-04-27T20:33:26.789527",
     "exception": false,
     "start_time": "2022-04-27T20:33:26.758514",
     "status": "completed"
    },
    "tags": []
   },
   "source": [
    "It's decribed to have some missing values"
   ]
  },
  {
   "cell_type": "code",
   "execution_count": 6,
   "id": "802060a5",
   "metadata": {
    "execution": {
     "iopub.execute_input": "2022-04-27T20:33:26.853755Z",
     "iopub.status.busy": "2022-04-27T20:33:26.853264Z",
     "iopub.status.idle": "2022-04-27T20:33:28.437131Z",
     "shell.execute_reply": "2022-04-27T20:33:28.436273Z"
    },
    "papermill": {
     "duration": 1.618583,
     "end_time": "2022-04-27T20:33:28.439289",
     "exception": false,
     "start_time": "2022-04-27T20:33:26.820706",
     "status": "completed"
    },
    "tags": []
   },
   "outputs": [
    {
     "data": {
      "image/png": "[encoded data removed]",
      "text/plain": [
       "<Figure size 360x360 with 1 Axes>"
      ]
     },
     "metadata": {
      "needs_background": "light"
     },
     "output_type": "display_data"
    }
   ],
   "source": [
    "import seaborn as sns\n",
    "import matplotlib.pyplot as plt\n",
    "#f, ax = plt.subplots(figsize=(16, 16))\n",
    "sns.displot(full_train.get(\"selling_price\"), kde=False)\n",
    "plt.show()"
   ]
  },
  {
   "cell_type": "markdown",
   "id": "04f0a265",
   "metadata": {
    "papermill": {
     "duration": 0.033077,
     "end_time": "2022-04-27T20:33:28.505143",
     "exception": false,
     "start_time": "2022-04-27T20:33:28.472066",
     "status": "completed"
    },
    "tags": []
   },
   "source": [
    "# Categorical and missing Values"
   ]
  },
  {
   "cell_type": "code",
   "execution_count": 7,
   "id": "9bd1c1ec",
   "metadata": {
    "execution": {
     "iopub.execute_input": "2022-04-27T20:33:28.571048Z",
     "iopub.status.busy": "2022-04-27T20:33:28.570177Z",
     "iopub.status.idle": "2022-04-27T20:33:28.590920Z",
     "shell.execute_reply": "2022-04-27T20:33:28.590210Z"
    },
    "papermill": {
     "duration": 0.055821,
     "end_time": "2022-04-27T20:33:28.592921",
     "exception": false,
     "start_time": "2022-04-27T20:33:28.537100",
     "status": "completed"
    },
    "tags": []
   },
   "outputs": [
    {
     "name": "stderr",
     "output_type": "stream",
     "text": [
      "/opt/conda/lib/python3.7/site-packages/ipykernel_launcher.py:14: FutureWarning: In a future version of pandas all arguments of DataFrame.drop except for the argument 'labels' will be keyword-only\n",
      "  \n"
     ]
    }
   ],
   "source": [
    "miliage = []\n",
    "for item in full_train['mileage']:\n",
    "    if type(item) == str: # check if contains a value. Not null\n",
    "        x = item.split('km') # split the string\n",
    "        miliage.append(float(x[0])) #after the split the numerical values comes first\n",
    "    else: miliage.append(0) # replace nan value to zero\n",
    "\n",
    "avg = sum(miliage) / len(miliage)  # replace the zero values (former NaN) to the average. Imputation approach\n",
    "for i in range(len(miliage)):\n",
    "    if miliage[i] == 0: miliage[i] = avg\n",
    "\n",
    "#print(miliage)\n",
    "\n",
    "full_train = full_train.drop('mileage', 1) # replace the old columns with the proper treated one\n",
    "df1 = pd.DataFrame (miliage, columns = ['miliage'])\n",
    "full_train = full_train.join(df1)"
   ]
  },
  {
   "cell_type": "code",
   "execution_count": 8,
   "id": "84491cc6",
   "metadata": {
    "execution": {
     "iopub.execute_input": "2022-04-27T20:33:28.660180Z",
     "iopub.status.busy": "2022-04-27T20:33:28.659245Z",
     "iopub.status.idle": "2022-04-27T20:33:28.689500Z",
     "shell.execute_reply": "2022-04-27T20:33:28.688681Z"
    },
    "papermill": {
     "duration": 0.06557,
     "end_time": "2022-04-27T20:33:28.691248",
     "exception": false,
     "start_time": "2022-04-27T20:33:28.625678",
     "status": "completed"
    },
    "tags": []
   },
   "outputs": [
    {
     "name": "stderr",
     "output_type": "stream",
     "text": [
      "/opt/conda/lib/python3.7/site-packages/ipykernel_launcher.py:17: FutureWarning: In a future version of pandas all arguments of DataFrame.drop except for the argument 'labels' will be keyword-only\n"
     ]
    },
    {
     "data": {
      "text/html": [
       "<div>\n",
       "<style scoped>\n",
       "    .dataframe tbody tr th:only-of-type {\n",
       "        vertical-align: middle;\n",
       "    }\n",
       "\n",
       "    .dataframe tbody tr th {\n",
       "        vertical-align: top;\n",
       "    }\n",
       "\n",
       "    .dataframe thead th {\n",
       "        text-align: right;\n",
       "    }\n",
       "</style>\n",
       "<table border=\"1\" class=\"dataframe\">\n",
       "  <thead>\n",
       "    <tr style=\"text-align: right;\">\n",
       "      <th></th>\n",
       "      <th>Id</th>\n",
       "      <th>name</th>\n",
       "      <th>year</th>\n",
       "      <th>selling_price</th>\n",
       "      <th>km_driven</th>\n",
       "      <th>fuel</th>\n",
       "      <th>seller_type</th>\n",
       "      <th>transmission</th>\n",
       "      <th>owner</th>\n",
       "      <th>engine</th>\n",
       "      <th>torque</th>\n",
       "      <th>seats</th>\n",
       "      <th>miliage</th>\n",
       "      <th>max_power</th>\n",
       "    </tr>\n",
       "  </thead>\n",
       "  <tbody>\n",
       "    <tr>\n",
       "      <th>0</th>\n",
       "      <td>1</td>\n",
       "      <td>Hyundai Santro GLS I - Euro I</td>\n",
       "      <td>1999</td>\n",
       "      <td>80000</td>\n",
       "      <td>110000</td>\n",
       "      <td>Petrol</td>\n",
       "      <td>Individual</td>\n",
       "      <td>Manual</td>\n",
       "      <td>Second Owner</td>\n",
       "      <td>NaN</td>\n",
       "      <td>NaN</td>\n",
       "      <td>NaN</td>\n",
       "      <td>18.868022</td>\n",
       "      <td>88.708402</td>\n",
       "    </tr>\n",
       "    <tr>\n",
       "      <th>1</th>\n",
       "      <td>2</td>\n",
       "      <td>Maruti Ertiga VDI</td>\n",
       "      <td>2012</td>\n",
       "      <td>459999</td>\n",
       "      <td>87000</td>\n",
       "      <td>Diesel</td>\n",
       "      <td>Individual</td>\n",
       "      <td>Manual</td>\n",
       "      <td>First Owner</td>\n",
       "      <td>1248 CC</td>\n",
       "      <td>200Nm@ 1750rpm</td>\n",
       "      <td>7.0</td>\n",
       "      <td>20.770000</td>\n",
       "      <td>88.760000</td>\n",
       "    </tr>\n",
       "    <tr>\n",
       "      <th>2</th>\n",
       "      <td>3</td>\n",
       "      <td>BMW 3 Series 320d Luxury Line</td>\n",
       "      <td>2010</td>\n",
       "      <td>1100000</td>\n",
       "      <td>102000</td>\n",
       "      <td>Diesel</td>\n",
       "      <td>Dealer</td>\n",
       "      <td>Automatic</td>\n",
       "      <td>First Owner</td>\n",
       "      <td>1995 CC</td>\n",
       "      <td>400Nm@ 1750-2500rpm</td>\n",
       "      <td>5.0</td>\n",
       "      <td>19.620000</td>\n",
       "      <td>187.740000</td>\n",
       "    </tr>\n",
       "  </tbody>\n",
       "</table>\n",
       "</div>"
      ],
      "text/plain": [
       "   Id                           name  year  selling_price  km_driven    fuel  \\\n",
       "0   1  Hyundai Santro GLS I - Euro I  1999          80000     110000  Petrol   \n",
       "1   2              Maruti Ertiga VDI  2012         459999      87000  Diesel   \n",
       "2   3  BMW 3 Series 320d Luxury Line  2010        1100000     102000  Diesel   \n",
       "\n",
       "  seller_type transmission         owner   engine               torque  seats  \\\n",
       "0  Individual       Manual  Second Owner      NaN                  NaN    NaN   \n",
       "1  Individual       Manual   First Owner  1248 CC       200Nm@ 1750rpm    7.0   \n",
       "2      Dealer    Automatic   First Owner  1995 CC  400Nm@ 1750-2500rpm    5.0   \n",
       "\n",
       "     miliage   max_power  \n",
       "0  18.868022   88.708402  \n",
       "1  20.770000   88.760000  \n",
       "2  19.620000  187.740000  "
      ]
     },
     "execution_count": 8,
     "metadata": {},
     "output_type": "execute_result"
    }
   ],
   "source": [
    "max_power = []  #same code as miliage, however try excepet was neede as there was some values that contains no numerical data\n",
    "for item in full_train['max_power']:\n",
    "    if type(item) == str and item != 0:\n",
    "        x = item.split('b')\n",
    "        try:\n",
    "            max_power.append(float(x[0]))\n",
    "        except: max_power.append(0)\n",
    "    else: max_power.append(0)\n",
    "\n",
    "\n",
    "avg = sum(max_power) / len(max_power)\n",
    "for i in range(len(max_power)):\n",
    "    if max_power[i] == 0: max_power[i] = avg\n",
    "\n",
    "#print(max_power)\n",
    "\n",
    "full_train = full_train.drop('max_power', 1)\n",
    "df1 = pd.DataFrame (max_power, columns = ['max_power'])\n",
    "full_train = full_train.join(df1)\n",
    "full_train.head(3)"
   ]
  },
  {
   "cell_type": "code",
   "execution_count": 9,
   "id": "74dc2043",
   "metadata": {
    "execution": {
     "iopub.execute_input": "2022-04-27T20:33:28.758162Z",
     "iopub.status.busy": "2022-04-27T20:33:28.757865Z",
     "iopub.status.idle": "2022-04-27T20:33:28.787805Z",
     "shell.execute_reply": "2022-04-27T20:33:28.786881Z"
    },
    "papermill": {
     "duration": 0.066073,
     "end_time": "2022-04-27T20:33:28.790074",
     "exception": false,
     "start_time": "2022-04-27T20:33:28.724001",
     "status": "completed"
    },
    "tags": []
   },
   "outputs": [
    {
     "name": "stderr",
     "output_type": "stream",
     "text": [
      "/opt/conda/lib/python3.7/site-packages/ipykernel_launcher.py:17: FutureWarning: In a future version of pandas all arguments of DataFrame.drop except for the argument 'labels' will be keyword-only\n"
     ]
    },
    {
     "data": {
      "text/html": [
       "<div>\n",
       "<style scoped>\n",
       "    .dataframe tbody tr th:only-of-type {\n",
       "        vertical-align: middle;\n",
       "    }\n",
       "\n",
       "    .dataframe tbody tr th {\n",
       "        vertical-align: top;\n",
       "    }\n",
       "\n",
       "    .dataframe thead th {\n",
       "        text-align: right;\n",
       "    }\n",
       "</style>\n",
       "<table border=\"1\" class=\"dataframe\">\n",
       "  <thead>\n",
       "    <tr style=\"text-align: right;\">\n",
       "      <th></th>\n",
       "      <th>Id</th>\n",
       "      <th>name</th>\n",
       "      <th>year</th>\n",
       "      <th>selling_price</th>\n",
       "      <th>km_driven</th>\n",
       "      <th>fuel</th>\n",
       "      <th>seller_type</th>\n",
       "      <th>transmission</th>\n",
       "      <th>owner</th>\n",
       "      <th>engine</th>\n",
       "      <th>seats</th>\n",
       "      <th>miliage</th>\n",
       "      <th>max_power</th>\n",
       "      <th>torque</th>\n",
       "    </tr>\n",
       "  </thead>\n",
       "  <tbody>\n",
       "    <tr>\n",
       "      <th>0</th>\n",
       "      <td>1</td>\n",
       "      <td>Hyundai Santro GLS I - Euro I</td>\n",
       "      <td>1999</td>\n",
       "      <td>80000</td>\n",
       "      <td>110000</td>\n",
       "      <td>Petrol</td>\n",
       "      <td>Individual</td>\n",
       "      <td>Manual</td>\n",
       "      <td>Second Owner</td>\n",
       "      <td>NaN</td>\n",
       "      <td>NaN</td>\n",
       "      <td>18.868022</td>\n",
       "      <td>88.708402</td>\n",
       "      <td>155.773885</td>\n",
       "    </tr>\n",
       "    <tr>\n",
       "      <th>1</th>\n",
       "      <td>2</td>\n",
       "      <td>Maruti Ertiga VDI</td>\n",
       "      <td>2012</td>\n",
       "      <td>459999</td>\n",
       "      <td>87000</td>\n",
       "      <td>Diesel</td>\n",
       "      <td>Individual</td>\n",
       "      <td>Manual</td>\n",
       "      <td>First Owner</td>\n",
       "      <td>1248 CC</td>\n",
       "      <td>7.0</td>\n",
       "      <td>20.770000</td>\n",
       "      <td>88.760000</td>\n",
       "      <td>200.000000</td>\n",
       "    </tr>\n",
       "    <tr>\n",
       "      <th>2</th>\n",
       "      <td>3</td>\n",
       "      <td>BMW 3 Series 320d Luxury Line</td>\n",
       "      <td>2010</td>\n",
       "      <td>1100000</td>\n",
       "      <td>102000</td>\n",
       "      <td>Diesel</td>\n",
       "      <td>Dealer</td>\n",
       "      <td>Automatic</td>\n",
       "      <td>First Owner</td>\n",
       "      <td>1995 CC</td>\n",
       "      <td>5.0</td>\n",
       "      <td>19.620000</td>\n",
       "      <td>187.740000</td>\n",
       "      <td>400.000000</td>\n",
       "    </tr>\n",
       "  </tbody>\n",
       "</table>\n",
       "</div>"
      ],
      "text/plain": [
       "   Id                           name  year  selling_price  km_driven    fuel  \\\n",
       "0   1  Hyundai Santro GLS I - Euro I  1999          80000     110000  Petrol   \n",
       "1   2              Maruti Ertiga VDI  2012         459999      87000  Diesel   \n",
       "2   3  BMW 3 Series 320d Luxury Line  2010        1100000     102000  Diesel   \n",
       "\n",
       "  seller_type transmission         owner   engine  seats    miliage  \\\n",
       "0  Individual       Manual  Second Owner      NaN    NaN  18.868022   \n",
       "1  Individual       Manual   First Owner  1248 CC    7.0  20.770000   \n",
       "2      Dealer    Automatic   First Owner  1995 CC    5.0  19.620000   \n",
       "\n",
       "    max_power      torque  \n",
       "0   88.708402  155.773885  \n",
       "1   88.760000  200.000000  \n",
       "2  187.740000  400.000000  "
      ]
     },
     "execution_count": 9,
     "metadata": {},
     "output_type": "execute_result"
    }
   ],
   "source": [
    "torque = []\n",
    "for item in full_train['torque']:\n",
    "    if type(item) == str and item != 0:\n",
    "        x = item.split('N')\n",
    "        try:\n",
    "            torque.append(float(x[0]))\n",
    "        except: torque.append(0)\n",
    "    else: torque.append(0)\n",
    "\n",
    "\n",
    "avg = sum(torque) / len(torque)\n",
    "for i in range(len(torque)):\n",
    "    if torque[i] == 0: torque[i] = avg\n",
    "\n",
    "#print(torque)\n",
    "\n",
    "full_train = full_train.drop('torque', 1)\n",
    "df1 = pd.DataFrame (torque, columns = ['torque'])\n",
    "full_train = full_train.join(df1)\n",
    "full_train.head(3)"
   ]
  },
  {
   "cell_type": "code",
   "execution_count": 10,
   "id": "d02711ec",
   "metadata": {
    "execution": {
     "iopub.execute_input": "2022-04-27T20:33:28.860263Z",
     "iopub.status.busy": "2022-04-27T20:33:28.860006Z",
     "iopub.status.idle": "2022-04-27T20:33:28.889377Z",
     "shell.execute_reply": "2022-04-27T20:33:28.888708Z"
    },
    "papermill": {
     "duration": 0.066618,
     "end_time": "2022-04-27T20:33:28.891145",
     "exception": false,
     "start_time": "2022-04-27T20:33:28.824527",
     "status": "completed"
    },
    "tags": []
   },
   "outputs": [
    {
     "name": "stderr",
     "output_type": "stream",
     "text": [
      "/opt/conda/lib/python3.7/site-packages/ipykernel_launcher.py:17: FutureWarning: In a future version of pandas all arguments of DataFrame.drop except for the argument 'labels' will be keyword-only\n"
     ]
    },
    {
     "data": {
      "text/html": [
       "<div>\n",
       "<style scoped>\n",
       "    .dataframe tbody tr th:only-of-type {\n",
       "        vertical-align: middle;\n",
       "    }\n",
       "\n",
       "    .dataframe tbody tr th {\n",
       "        vertical-align: top;\n",
       "    }\n",
       "\n",
       "    .dataframe thead th {\n",
       "        text-align: right;\n",
       "    }\n",
       "</style>\n",
       "<table border=\"1\" class=\"dataframe\">\n",
       "  <thead>\n",
       "    <tr style=\"text-align: right;\">\n",
       "      <th></th>\n",
       "      <th>Id</th>\n",
       "      <th>name</th>\n",
       "      <th>year</th>\n",
       "      <th>selling_price</th>\n",
       "      <th>km_driven</th>\n",
       "      <th>fuel</th>\n",
       "      <th>seller_type</th>\n",
       "      <th>transmission</th>\n",
       "      <th>owner</th>\n",
       "      <th>seats</th>\n",
       "      <th>miliage</th>\n",
       "      <th>max_power</th>\n",
       "      <th>torque</th>\n",
       "      <th>engine</th>\n",
       "    </tr>\n",
       "  </thead>\n",
       "  <tbody>\n",
       "    <tr>\n",
       "      <th>0</th>\n",
       "      <td>1</td>\n",
       "      <td>Hyundai Santro GLS I - Euro I</td>\n",
       "      <td>1999</td>\n",
       "      <td>80000</td>\n",
       "      <td>110000</td>\n",
       "      <td>Petrol</td>\n",
       "      <td>Individual</td>\n",
       "      <td>Manual</td>\n",
       "      <td>Second Owner</td>\n",
       "      <td>NaN</td>\n",
       "      <td>18.868022</td>\n",
       "      <td>88.708402</td>\n",
       "      <td>155.773885</td>\n",
       "      <td>1418.220074</td>\n",
       "    </tr>\n",
       "    <tr>\n",
       "      <th>1</th>\n",
       "      <td>2</td>\n",
       "      <td>Maruti Ertiga VDI</td>\n",
       "      <td>2012</td>\n",
       "      <td>459999</td>\n",
       "      <td>87000</td>\n",
       "      <td>Diesel</td>\n",
       "      <td>Individual</td>\n",
       "      <td>Manual</td>\n",
       "      <td>First Owner</td>\n",
       "      <td>7.0</td>\n",
       "      <td>20.770000</td>\n",
       "      <td>88.760000</td>\n",
       "      <td>200.000000</td>\n",
       "      <td>1248.000000</td>\n",
       "    </tr>\n",
       "    <tr>\n",
       "      <th>2</th>\n",
       "      <td>3</td>\n",
       "      <td>BMW 3 Series 320d Luxury Line</td>\n",
       "      <td>2010</td>\n",
       "      <td>1100000</td>\n",
       "      <td>102000</td>\n",
       "      <td>Diesel</td>\n",
       "      <td>Dealer</td>\n",
       "      <td>Automatic</td>\n",
       "      <td>First Owner</td>\n",
       "      <td>5.0</td>\n",
       "      <td>19.620000</td>\n",
       "      <td>187.740000</td>\n",
       "      <td>400.000000</td>\n",
       "      <td>1995.000000</td>\n",
       "    </tr>\n",
       "  </tbody>\n",
       "</table>\n",
       "</div>"
      ],
      "text/plain": [
       "   Id                           name  year  selling_price  km_driven    fuel  \\\n",
       "0   1  Hyundai Santro GLS I - Euro I  1999          80000     110000  Petrol   \n",
       "1   2              Maruti Ertiga VDI  2012         459999      87000  Diesel   \n",
       "2   3  BMW 3 Series 320d Luxury Line  2010        1100000     102000  Diesel   \n",
       "\n",
       "  seller_type transmission         owner  seats    miliage   max_power  \\\n",
       "0  Individual       Manual  Second Owner    NaN  18.868022   88.708402   \n",
       "1  Individual       Manual   First Owner    7.0  20.770000   88.760000   \n",
       "2      Dealer    Automatic   First Owner    5.0  19.620000  187.740000   \n",
       "\n",
       "       torque       engine  \n",
       "0  155.773885  1418.220074  \n",
       "1  200.000000  1248.000000  \n",
       "2  400.000000  1995.000000  "
      ]
     },
     "execution_count": 10,
     "metadata": {},
     "output_type": "execute_result"
    }
   ],
   "source": [
    "engine = []\n",
    "for item in full_train['engine']:\n",
    "    if type(item) == str and item != 0:\n",
    "        x = item.split('C')\n",
    "        try:\n",
    "            engine.append(float(x[0]))\n",
    "        except: engine.append(0)\n",
    "    else: engine.append(0)\n",
    "\n",
    "\n",
    "avg = sum(engine) / len(engine)\n",
    "for i in range(len(engine)):\n",
    "    if engine[i] == 0: engine[i] = avg\n",
    "\n",
    "#print(engine)\n",
    "\n",
    "full_train = full_train.drop('engine', 1)\n",
    "df1 = pd.DataFrame (engine, columns = ['engine'])\n",
    "full_train = full_train.join(df1)\n",
    "full_train.head(3)"
   ]
  },
  {
   "cell_type": "code",
   "execution_count": 11,
   "id": "8e03c145",
   "metadata": {
    "execution": {
     "iopub.execute_input": "2022-04-27T20:33:28.961512Z",
     "iopub.status.busy": "2022-04-27T20:33:28.960997Z",
     "iopub.status.idle": "2022-04-27T20:33:28.983980Z",
     "shell.execute_reply": "2022-04-27T20:33:28.983159Z"
    },
    "papermill": {
     "duration": 0.060561,
     "end_time": "2022-04-27T20:33:28.986052",
     "exception": false,
     "start_time": "2022-04-27T20:33:28.925491",
     "status": "completed"
    },
    "tags": []
   },
   "outputs": [
    {
     "name": "stderr",
     "output_type": "stream",
     "text": [
      "/opt/conda/lib/python3.7/site-packages/ipykernel_launcher.py:7: FutureWarning: In a future version of pandas all arguments of DataFrame.drop except for the argument 'labels' will be keyword-only\n",
      "  import sys\n"
     ]
    },
    {
     "data": {
      "text/html": [
       "<div>\n",
       "<style scoped>\n",
       "    .dataframe tbody tr th:only-of-type {\n",
       "        vertical-align: middle;\n",
       "    }\n",
       "\n",
       "    .dataframe tbody tr th {\n",
       "        vertical-align: top;\n",
       "    }\n",
       "\n",
       "    .dataframe thead th {\n",
       "        text-align: right;\n",
       "    }\n",
       "</style>\n",
       "<table border=\"1\" class=\"dataframe\">\n",
       "  <thead>\n",
       "    <tr style=\"text-align: right;\">\n",
       "      <th></th>\n",
       "      <th>Id</th>\n",
       "      <th>name</th>\n",
       "      <th>year</th>\n",
       "      <th>selling_price</th>\n",
       "      <th>km_driven</th>\n",
       "      <th>fuel</th>\n",
       "      <th>seller_type</th>\n",
       "      <th>transmission</th>\n",
       "      <th>owner</th>\n",
       "      <th>miliage</th>\n",
       "      <th>max_power</th>\n",
       "      <th>torque</th>\n",
       "      <th>engine</th>\n",
       "      <th>seats</th>\n",
       "    </tr>\n",
       "  </thead>\n",
       "  <tbody>\n",
       "    <tr>\n",
       "      <th>0</th>\n",
       "      <td>1</td>\n",
       "      <td>Hyundai Santro GLS I - Euro I</td>\n",
       "      <td>1999</td>\n",
       "      <td>80000</td>\n",
       "      <td>110000</td>\n",
       "      <td>Petrol</td>\n",
       "      <td>Individual</td>\n",
       "      <td>Manual</td>\n",
       "      <td>Second Owner</td>\n",
       "      <td>18.868022</td>\n",
       "      <td>88.708402</td>\n",
       "      <td>155.773885</td>\n",
       "      <td>1418.220074</td>\n",
       "      <td>4.0</td>\n",
       "    </tr>\n",
       "    <tr>\n",
       "      <th>1</th>\n",
       "      <td>2</td>\n",
       "      <td>Maruti Ertiga VDI</td>\n",
       "      <td>2012</td>\n",
       "      <td>459999</td>\n",
       "      <td>87000</td>\n",
       "      <td>Diesel</td>\n",
       "      <td>Individual</td>\n",
       "      <td>Manual</td>\n",
       "      <td>First Owner</td>\n",
       "      <td>20.770000</td>\n",
       "      <td>88.760000</td>\n",
       "      <td>200.000000</td>\n",
       "      <td>1248.000000</td>\n",
       "      <td>7.0</td>\n",
       "    </tr>\n",
       "    <tr>\n",
       "      <th>2</th>\n",
       "      <td>3</td>\n",
       "      <td>BMW 3 Series 320d Luxury Line</td>\n",
       "      <td>2010</td>\n",
       "      <td>1100000</td>\n",
       "      <td>102000</td>\n",
       "      <td>Diesel</td>\n",
       "      <td>Dealer</td>\n",
       "      <td>Automatic</td>\n",
       "      <td>First Owner</td>\n",
       "      <td>19.620000</td>\n",
       "      <td>187.740000</td>\n",
       "      <td>400.000000</td>\n",
       "      <td>1995.000000</td>\n",
       "      <td>5.0</td>\n",
       "    </tr>\n",
       "  </tbody>\n",
       "</table>\n",
       "</div>"
      ],
      "text/plain": [
       "   Id                           name  year  selling_price  km_driven    fuel  \\\n",
       "0   1  Hyundai Santro GLS I - Euro I  1999          80000     110000  Petrol   \n",
       "1   2              Maruti Ertiga VDI  2012         459999      87000  Diesel   \n",
       "2   3  BMW 3 Series 320d Luxury Line  2010        1100000     102000  Diesel   \n",
       "\n",
       "  seller_type transmission         owner    miliage   max_power      torque  \\\n",
       "0  Individual       Manual  Second Owner  18.868022   88.708402  155.773885   \n",
       "1  Individual       Manual   First Owner  20.770000   88.760000  200.000000   \n",
       "2      Dealer    Automatic   First Owner  19.620000  187.740000  400.000000   \n",
       "\n",
       "        engine  seats  \n",
       "0  1418.220074    4.0  \n",
       "1  1248.000000    7.0  \n",
       "2  1995.000000    5.0  "
      ]
     },
     "execution_count": 11,
     "metadata": {},
     "output_type": "execute_result"
    }
   ],
   "source": [
    "seats = []\n",
    "for item in full_train['seats']:\n",
    "    if item > 0:\n",
    "        seats.append(item)\n",
    "    else: seats.append(4)\n",
    "        \n",
    "full_train = full_train.drop('seats', 1)\n",
    "df1 = pd.DataFrame (seats, columns = ['seats'])\n",
    "full_train = full_train.join(df1)\n",
    "full_train.head(3)"
   ]
  },
  {
   "cell_type": "code",
   "execution_count": 12,
   "id": "7f138c0c",
   "metadata": {
    "execution": {
     "iopub.execute_input": "2022-04-27T20:33:29.058145Z",
     "iopub.status.busy": "2022-04-27T20:33:29.057847Z",
     "iopub.status.idle": "2022-04-27T20:33:29.067218Z",
     "shell.execute_reply": "2022-04-27T20:33:29.066645Z"
    },
    "papermill": {
     "duration": 0.047522,
     "end_time": "2022-04-27T20:33:29.068961",
     "exception": false,
     "start_time": "2022-04-27T20:33:29.021439",
     "status": "completed"
    },
    "tags": []
   },
   "outputs": [
    {
     "data": {
      "text/plain": [
       "Id               0\n",
       "name             0\n",
       "year             0\n",
       "selling_price    0\n",
       "km_driven        0\n",
       "fuel             0\n",
       "seller_type      0\n",
       "transmission     0\n",
       "owner            0\n",
       "miliage          0\n",
       "max_power        0\n",
       "torque           0\n",
       "engine           0\n",
       "seats            0\n",
       "dtype: int64"
      ]
     },
     "execution_count": 12,
     "metadata": {},
     "output_type": "execute_result"
    }
   ],
   "source": [
    "full_train.isnull().sum()"
   ]
  },
  {
   "cell_type": "markdown",
   "id": "5ed63d55",
   "metadata": {
    "papermill": {
     "duration": 0.034848,
     "end_time": "2022-04-27T20:33:29.139651",
     "exception": false,
     "start_time": "2022-04-27T20:33:29.104803",
     "status": "completed"
    },
    "tags": []
   },
   "source": [
    "# Ordinal Enconder"
   ]
  },
  {
   "cell_type": "code",
   "execution_count": 13,
   "id": "65b62b06",
   "metadata": {
    "execution": {
     "iopub.execute_input": "2022-04-27T20:33:29.212736Z",
     "iopub.status.busy": "2022-04-27T20:33:29.212188Z",
     "iopub.status.idle": "2022-04-27T20:33:29.224965Z",
     "shell.execute_reply": "2022-04-27T20:33:29.224272Z"
    },
    "papermill": {
     "duration": 0.052365,
     "end_time": "2022-04-27T20:33:29.227733",
     "exception": false,
     "start_time": "2022-04-27T20:33:29.175368",
     "status": "completed"
    },
    "tags": []
   },
   "outputs": [
    {
     "name": "stdout",
     "output_type": "stream",
     "text": [
      "<class 'pandas.core.frame.DataFrame'>\n",
      "RangeIndex: 5689 entries, 0 to 5688\n",
      "Data columns (total 14 columns):\n",
      " #   Column         Non-Null Count  Dtype  \n",
      "---  ------         --------------  -----  \n",
      " 0   Id             5689 non-null   int64  \n",
      " 1   name           5689 non-null   object \n",
      " 2   year           5689 non-null   int64  \n",
      " 3   selling_price  5689 non-null   int64  \n",
      " 4   km_driven      5689 non-null   int64  \n",
      " 5   fuel           5689 non-null   object \n",
      " 6   seller_type    5689 non-null   object \n",
      " 7   transmission   5689 non-null   object \n",
      " 8   owner          5689 non-null   object \n",
      " 9   miliage        5689 non-null   float64\n",
      " 10  max_power      5689 non-null   float64\n",
      " 11  torque         5689 non-null   float64\n",
      " 12  engine         5689 non-null   float64\n",
      " 13  seats          5689 non-null   float64\n",
      "dtypes: float64(5), int64(4), object(5)\n",
      "memory usage: 622.4+ KB\n"
     ]
    }
   ],
   "source": [
    "full_train.info()"
   ]
  },
  {
   "cell_type": "code",
   "execution_count": 14,
   "id": "57587cc7",
   "metadata": {
    "execution": {
     "iopub.execute_input": "2022-04-27T20:33:29.302730Z",
     "iopub.status.busy": "2022-04-27T20:33:29.302193Z",
     "iopub.status.idle": "2022-04-27T20:33:29.468775Z",
     "shell.execute_reply": "2022-04-27T20:33:29.467933Z"
    },
    "papermill": {
     "duration": 0.206212,
     "end_time": "2022-04-27T20:33:29.470725",
     "exception": false,
     "start_time": "2022-04-27T20:33:29.264513",
     "status": "completed"
    },
    "tags": []
   },
   "outputs": [
    {
     "data": {
      "text/html": [
       "<div>\n",
       "<style scoped>\n",
       "    .dataframe tbody tr th:only-of-type {\n",
       "        vertical-align: middle;\n",
       "    }\n",
       "\n",
       "    .dataframe tbody tr th {\n",
       "        vertical-align: top;\n",
       "    }\n",
       "\n",
       "    .dataframe thead th {\n",
       "        text-align: right;\n",
       "    }\n",
       "</style>\n",
       "<table border=\"1\" class=\"dataframe\">\n",
       "  <thead>\n",
       "    <tr style=\"text-align: right;\">\n",
       "      <th></th>\n",
       "      <th>Id</th>\n",
       "      <th>name</th>\n",
       "      <th>year</th>\n",
       "      <th>selling_price</th>\n",
       "      <th>km_driven</th>\n",
       "      <th>fuel</th>\n",
       "      <th>seller_type</th>\n",
       "      <th>transmission</th>\n",
       "      <th>owner</th>\n",
       "      <th>miliage</th>\n",
       "      <th>max_power</th>\n",
       "      <th>torque</th>\n",
       "      <th>engine</th>\n",
       "      <th>seats</th>\n",
       "    </tr>\n",
       "  </thead>\n",
       "  <tbody>\n",
       "    <tr>\n",
       "      <th>0</th>\n",
       "      <td>1</td>\n",
       "      <td>489.0</td>\n",
       "      <td>1999</td>\n",
       "      <td>80000</td>\n",
       "      <td>110000</td>\n",
       "      <td>3.0</td>\n",
       "      <td>1.0</td>\n",
       "      <td>1.0</td>\n",
       "      <td>2.0</td>\n",
       "      <td>18.868022</td>\n",
       "      <td>88.708402</td>\n",
       "      <td>155.773885</td>\n",
       "      <td>1418.220074</td>\n",
       "      <td>4.0</td>\n",
       "    </tr>\n",
       "    <tr>\n",
       "      <th>1</th>\n",
       "      <td>2</td>\n",
       "      <td>1029.0</td>\n",
       "      <td>2012</td>\n",
       "      <td>459999</td>\n",
       "      <td>87000</td>\n",
       "      <td>1.0</td>\n",
       "      <td>1.0</td>\n",
       "      <td>1.0</td>\n",
       "      <td>0.0</td>\n",
       "      <td>20.770000</td>\n",
       "      <td>88.760000</td>\n",
       "      <td>200.000000</td>\n",
       "      <td>1248.000000</td>\n",
       "      <td>7.0</td>\n",
       "    </tr>\n",
       "  </tbody>\n",
       "</table>\n",
       "</div>"
      ],
      "text/plain": [
       "   Id    name  year  selling_price  km_driven  fuel  seller_type  \\\n",
       "0   1   489.0  1999          80000     110000   3.0          1.0   \n",
       "1   2  1029.0  2012         459999      87000   1.0          1.0   \n",
       "\n",
       "   transmission  owner    miliage  max_power      torque       engine  seats  \n",
       "0           1.0    2.0  18.868022  88.708402  155.773885  1418.220074    4.0  \n",
       "1           1.0    0.0  20.770000  88.760000  200.000000  1248.000000    7.0  "
      ]
     },
     "execution_count": 14,
     "metadata": {},
     "output_type": "execute_result"
    }
   ],
   "source": [
    "from sklearn.preprocessing import OrdinalEncoder  #Encoding Categorical data into ordinal numbers\n",
    "\n",
    "s = (full_train.dtypes == 'object')\n",
    "object_cols = list(s[s].index)\n",
    "\n",
    "df = full_train\n",
    "\n",
    "ordinal_encoder = OrdinalEncoder()\n",
    "df[object_cols] = ordinal_encoder.fit_transform(df[object_cols])\n",
    "\n",
    "df.head(2)"
   ]
  },
  {
   "cell_type": "markdown",
   "id": "ed66bc92",
   "metadata": {
    "papermill": {
     "duration": 0.036584,
     "end_time": "2022-04-27T20:33:29.543533",
     "exception": false,
     "start_time": "2022-04-27T20:33:29.506949",
     "status": "completed"
    },
    "tags": []
   },
   "source": [
    "# Train Test Split"
   ]
  },
  {
   "cell_type": "code",
   "execution_count": 15,
   "id": "a0540eb2",
   "metadata": {
    "execution": {
     "iopub.execute_input": "2022-04-27T20:33:29.617362Z",
     "iopub.status.busy": "2022-04-27T20:33:29.617085Z",
     "iopub.status.idle": "2022-04-27T20:33:29.623308Z",
     "shell.execute_reply": "2022-04-27T20:33:29.622666Z"
    },
    "papermill": {
     "duration": 0.045284,
     "end_time": "2022-04-27T20:33:29.625154",
     "exception": false,
     "start_time": "2022-04-27T20:33:29.579870",
     "status": "completed"
    },
    "tags": []
   },
   "outputs": [],
   "source": [
    "y = df['selling_price']\n",
    "\n",
    "X_features = ['name','year','km_driven','fuel','transmission','owner','miliage','max_power','torque','engine','seats']\n",
    "X = df[X_features]"
   ]
  },
  {
   "cell_type": "code",
   "execution_count": 16,
   "id": "8b80185f",
   "metadata": {
    "execution": {
     "iopub.execute_input": "2022-04-27T20:33:29.700809Z",
     "iopub.status.busy": "2022-04-27T20:33:29.700132Z",
     "iopub.status.idle": "2022-04-27T20:33:29.764716Z",
     "shell.execute_reply": "2022-04-27T20:33:29.763875Z"
    },
    "papermill": {
     "duration": 0.1044,
     "end_time": "2022-04-27T20:33:29.766653",
     "exception": false,
     "start_time": "2022-04-27T20:33:29.662253",
     "status": "completed"
    },
    "tags": []
   },
   "outputs": [
    {
     "data": {
      "text/plain": [
       "(1707, 11)"
      ]
     },
     "execution_count": 16,
     "metadata": {},
     "output_type": "execute_result"
    }
   ],
   "source": [
    "from sklearn.model_selection import train_test_split\n",
    "\n",
    "\n",
    "trainX, valX, trainy, valy = train_test_split(X, y,\n",
    "                                              test_size=0.3, \n",
    "                                              random_state=12)\n",
    "valX.shape"
   ]
  },
  {
   "cell_type": "markdown",
   "id": "4067002e",
   "metadata": {
    "papermill": {
     "duration": 0.03678,
     "end_time": "2022-04-27T20:33:29.839872",
     "exception": false,
     "start_time": "2022-04-27T20:33:29.803092",
     "status": "completed"
    },
    "tags": []
   },
   "source": [
    "# Model training"
   ]
  },
  {
   "cell_type": "code",
   "execution_count": 17,
   "id": "8ce4a650",
   "metadata": {
    "execution": {
     "iopub.execute_input": "2022-04-27T20:33:29.914649Z",
     "iopub.status.busy": "2022-04-27T20:33:29.914108Z",
     "iopub.status.idle": "2022-04-27T20:33:30.494690Z",
     "shell.execute_reply": "2022-04-27T20:33:30.493851Z"
    },
    "papermill": {
     "duration": 0.620555,
     "end_time": "2022-04-27T20:33:30.496721",
     "exception": false,
     "start_time": "2022-04-27T20:33:29.876166",
     "status": "completed"
    },
    "tags": []
   },
   "outputs": [
    {
     "data": {
      "text/plain": [
       "XGBRegressor(base_score=0.5, booster='gbtree', colsample_bylevel=1,\n",
       "             colsample_bynode=1, colsample_bytree=1, enable_categorical=False,\n",
       "             gamma=0, gpu_id=-1, importance_type=None,\n",
       "             interaction_constraints='', learning_rate=0.300000012,\n",
       "             max_delta_step=0, max_depth=6, min_child_weight=1, missing=nan,\n",
       "             monotone_constraints='()', n_estimators=100, n_jobs=4,\n",
       "             num_parallel_tree=1, predictor='auto', random_state=0, reg_alpha=0,\n",
       "             reg_lambda=1, scale_pos_weight=1, subsample=1, tree_method='exact',\n",
       "             validate_parameters=1, verbosity=None)"
      ]
     },
     "execution_count": 17,
     "metadata": {},
     "output_type": "execute_result"
    }
   ],
   "source": [
    "import xgboost\n",
    "xgb_reg = xgboost.XGBRegressor()\n",
    "xgb_reg.fit(trainX, trainy)"
   ]
  },
  {
   "cell_type": "code",
   "execution_count": 18,
   "id": "abf4c38c",
   "metadata": {
    "execution": {
     "iopub.execute_input": "2022-04-27T20:33:30.572289Z",
     "iopub.status.busy": "2022-04-27T20:33:30.571918Z",
     "iopub.status.idle": "2022-04-27T20:33:30.588493Z",
     "shell.execute_reply": "2022-04-27T20:33:30.587469Z"
    },
    "papermill": {
     "duration": 0.057217,
     "end_time": "2022-04-27T20:33:30.590692",
     "exception": false,
     "start_time": "2022-04-27T20:33:30.533475",
     "status": "completed"
    },
    "tags": []
   },
   "outputs": [
    {
     "data": {
      "text/plain": [
       "array([441196.06, 547016.3 , 138782.7 , ..., 617098.3 , 423867.4 ,\n",
       "       674866.9 ], dtype=float32)"
      ]
     },
     "execution_count": 18,
     "metadata": {},
     "output_type": "execute_result"
    }
   ],
   "source": [
    "y_preds = xgb_reg.predict(valX)\n",
    "y_preds"
   ]
  },
  {
   "cell_type": "code",
   "execution_count": 19,
   "id": "08b181d9",
   "metadata": {
    "execution": {
     "iopub.execute_input": "2022-04-27T20:33:30.667564Z",
     "iopub.status.busy": "2022-04-27T20:33:30.667007Z",
     "iopub.status.idle": "2022-04-27T20:33:30.754298Z",
     "shell.execute_reply": "2022-04-27T20:33:30.753133Z"
    },
    "papermill": {
     "duration": 0.128927,
     "end_time": "2022-04-27T20:33:30.756755",
     "exception": false,
     "start_time": "2022-04-27T20:33:30.627828",
     "status": "completed"
    },
    "tags": []
   },
   "outputs": [
    {
     "data": {
      "text/plain": [
       "Lasso(alpha=0.1, positive=True, precompute=True, random_state=42,\n",
       "      selection='random')"
      ]
     },
     "execution_count": 19,
     "metadata": {},
     "output_type": "execute_result"
    }
   ],
   "source": [
    "from sklearn.linear_model import Lasso\n",
    "\n",
    "lassomodel = Lasso(alpha=0.1, \n",
    "              precompute=True, \n",
    "#               warm_start=True, \n",
    "              positive=True, \n",
    "              selection='random',\n",
    "              random_state=42)\n",
    "lassomodel.fit(trainX, trainy)"
   ]
  },
  {
   "cell_type": "code",
   "execution_count": 20,
   "id": "02565d9b",
   "metadata": {
    "execution": {
     "iopub.execute_input": "2022-04-27T20:33:30.837835Z",
     "iopub.status.busy": "2022-04-27T20:33:30.836839Z",
     "iopub.status.idle": "2022-04-27T20:33:30.844586Z",
     "shell.execute_reply": "2022-04-27T20:33:30.843655Z"
    },
    "papermill": {
     "duration": 0.051406,
     "end_time": "2022-04-27T20:33:30.848220",
     "exception": false,
     "start_time": "2022-04-27T20:33:30.796814",
     "status": "completed"
    },
    "tags": []
   },
   "outputs": [],
   "source": [
    "LassoPred = lassomodel.predict(valX)"
   ]
  },
  {
   "cell_type": "markdown",
   "id": "b41c4fb9",
   "metadata": {
    "papermill": {
     "duration": 0.057623,
     "end_time": "2022-04-27T20:33:30.981311",
     "exception": false,
     "start_time": "2022-04-27T20:33:30.923688",
     "status": "completed"
    },
    "tags": []
   },
   "source": [
    "# PCA"
   ]
  },
  {
   "cell_type": "code",
   "execution_count": 21,
   "id": "10a4f299",
   "metadata": {
    "execution": {
     "iopub.execute_input": "2022-04-27T20:33:31.058691Z",
     "iopub.status.busy": "2022-04-27T20:33:31.058370Z",
     "iopub.status.idle": "2022-04-27T20:33:31.141153Z",
     "shell.execute_reply": "2022-04-27T20:33:31.140328Z"
    },
    "papermill": {
     "duration": 0.124343,
     "end_time": "2022-04-27T20:33:31.144030",
     "exception": false,
     "start_time": "2022-04-27T20:33:31.019687",
     "status": "completed"
    },
    "tags": []
   },
   "outputs": [
    {
     "data": {
      "text/html": [
       "<div>\n",
       "<style scoped>\n",
       "    .dataframe tbody tr th:only-of-type {\n",
       "        vertical-align: middle;\n",
       "    }\n",
       "\n",
       "    .dataframe tbody tr th {\n",
       "        vertical-align: top;\n",
       "    }\n",
       "\n",
       "    .dataframe thead th {\n",
       "        text-align: right;\n",
       "    }\n",
       "</style>\n",
       "<table border=\"1\" class=\"dataframe\">\n",
       "  <thead>\n",
       "    <tr style=\"text-align: right;\">\n",
       "      <th></th>\n",
       "      <th>principalcomponent1</th>\n",
       "      <th>principalcomponent2</th>\n",
       "    </tr>\n",
       "  </thead>\n",
       "  <tbody>\n",
       "    <tr>\n",
       "      <th>0</th>\n",
       "      <td>40121.763020</td>\n",
       "      <td>354.823836</td>\n",
       "    </tr>\n",
       "    <tr>\n",
       "      <th>1</th>\n",
       "      <td>17122.016219</td>\n",
       "      <td>149.960045</td>\n",
       "    </tr>\n",
       "    <tr>\n",
       "      <th>2</th>\n",
       "      <td>32122.642084</td>\n",
       "      <td>68.613144</td>\n",
       "    </tr>\n",
       "    <tr>\n",
       "      <th>3</th>\n",
       "      <td>142124.261113</td>\n",
       "      <td>-596.796658</td>\n",
       "    </tr>\n",
       "    <tr>\n",
       "      <th>4</th>\n",
       "      <td>55126.491147</td>\n",
       "      <td>-1558.759054</td>\n",
       "    </tr>\n",
       "    <tr>\n",
       "      <th>...</th>\n",
       "      <td>...</td>\n",
       "      <td>...</td>\n",
       "    </tr>\n",
       "    <tr>\n",
       "      <th>5684</th>\n",
       "      <td>-49878.482630</td>\n",
       "      <td>332.419615</td>\n",
       "    </tr>\n",
       "    <tr>\n",
       "      <th>5685</th>\n",
       "      <td>11122.814644</td>\n",
       "      <td>-197.652103</td>\n",
       "    </tr>\n",
       "    <tr>\n",
       "      <th>5686</th>\n",
       "      <td>122.182780</td>\n",
       "      <td>51.239362</td>\n",
       "    </tr>\n",
       "    <tr>\n",
       "      <th>5687</th>\n",
       "      <td>-12877.831930</td>\n",
       "      <td>46.126468</td>\n",
       "    </tr>\n",
       "    <tr>\n",
       "      <th>5688</th>\n",
       "      <td>20121.245905</td>\n",
       "      <td>506.408092</td>\n",
       "    </tr>\n",
       "  </tbody>\n",
       "</table>\n",
       "<p>5689 rows × 2 columns</p>\n",
       "</div>"
      ],
      "text/plain": [
       "      principalcomponent1  principalcomponent2\n",
       "0            40121.763020           354.823836\n",
       "1            17122.016219           149.960045\n",
       "2            32122.642084            68.613144\n",
       "3           142124.261113          -596.796658\n",
       "4            55126.491147         -1558.759054\n",
       "...                   ...                  ...\n",
       "5684        -49878.482630           332.419615\n",
       "5685         11122.814644          -197.652103\n",
       "5686           122.182780            51.239362\n",
       "5687        -12877.831930            46.126468\n",
       "5688         20121.245905           506.408092\n",
       "\n",
       "[5689 rows x 2 columns]"
      ]
     },
     "execution_count": 21,
     "metadata": {},
     "output_type": "execute_result"
    }
   ],
   "source": [
    "from sklearn.decomposition import PCA\n",
    "pca = PCA(n_components=2)\n",
    "principalComponents = pca.fit_transform(X)\n",
    "principalDf = pd.DataFrame(data = principalComponents\n",
    "             , columns = ['principalcomponent1', 'principalcomponent2'])\n",
    "principalDf"
   ]
  },
  {
   "cell_type": "code",
   "execution_count": 22,
   "id": "470ffd21",
   "metadata": {
    "execution": {
     "iopub.execute_input": "2022-04-27T20:33:31.274211Z",
     "iopub.status.busy": "2022-04-27T20:33:31.273251Z",
     "iopub.status.idle": "2022-04-27T20:33:31.280125Z",
     "shell.execute_reply": "2022-04-27T20:33:31.279274Z"
    },
    "papermill": {
     "duration": 0.056858,
     "end_time": "2022-04-27T20:33:31.282337",
     "exception": false,
     "start_time": "2022-04-27T20:33:31.225479",
     "status": "completed"
    },
    "tags": []
   },
   "outputs": [],
   "source": [
    "# PCA Split\n",
    "\n",
    "PCAtrainX, PCAvalX, PCAtrainy, PCAvaly = train_test_split(principalDf, y,\n",
    "                                              test_size=0.3, \n",
    "                                              random_state=12)"
   ]
  },
  {
   "cell_type": "code",
   "execution_count": 23,
   "id": "3e192473",
   "metadata": {
    "execution": {
     "iopub.execute_input": "2022-04-27T20:33:31.361780Z",
     "iopub.status.busy": "2022-04-27T20:33:31.360917Z",
     "iopub.status.idle": "2022-04-27T20:33:31.812546Z",
     "shell.execute_reply": "2022-04-27T20:33:31.811659Z"
    },
    "papermill": {
     "duration": 0.492592,
     "end_time": "2022-04-27T20:33:31.814579",
     "exception": false,
     "start_time": "2022-04-27T20:33:31.321987",
     "status": "completed"
    },
    "tags": []
   },
   "outputs": [
    {
     "data": {
      "text/plain": [
       "array([638832.94, 553128.1 , 216964.33, ..., 776643.8 , 466306.4 ,\n",
       "       601236.6 ], dtype=float32)"
      ]
     },
     "execution_count": 23,
     "metadata": {},
     "output_type": "execute_result"
    }
   ],
   "source": [
    "xgb_reg_PCA = xgboost.XGBRegressor()\n",
    "xgb_reg_PCA.fit(PCAtrainX, PCAtrainy)\n",
    "PCA_preds = xgb_reg_PCA.predict(PCAvalX)\n",
    "PCA_preds"
   ]
  },
  {
   "cell_type": "markdown",
   "id": "5588c611",
   "metadata": {
    "papermill": {
     "duration": 0.03757,
     "end_time": "2022-04-27T20:33:31.890465",
     "exception": false,
     "start_time": "2022-04-27T20:33:31.852895",
     "status": "completed"
    },
    "tags": []
   },
   "source": [
    "# Metrics"
   ]
  },
  {
   "cell_type": "code",
   "execution_count": 24,
   "id": "fb60835e",
   "metadata": {
    "execution": {
     "iopub.execute_input": "2022-04-27T20:33:31.968245Z",
     "iopub.status.busy": "2022-04-27T20:33:31.967960Z",
     "iopub.status.idle": "2022-04-27T20:33:31.977595Z",
     "shell.execute_reply": "2022-04-27T20:33:31.976983Z"
    },
    "papermill": {
     "duration": 0.051317,
     "end_time": "2022-04-27T20:33:31.979646",
     "exception": false,
     "start_time": "2022-04-27T20:33:31.928329",
     "status": "completed"
    },
    "tags": []
   },
   "outputs": [
    {
     "name": "stdout",
     "output_type": "stream",
     "text": [
      "XGBoost Mean Absolute Error: 67789.69672900191\n",
      "XGBoost R²: 0.9571473085100133\n",
      "Lasso Mean Absolute Error: 272391.64373776916\n",
      "Lasso R²: 0.43549134184147054\n",
      "XGBoost w/ PCA Mean Absolute Error: 194245.18436493116\n",
      "XGBosst w/ PCA R²: 0.694275589999267\n"
     ]
    }
   ],
   "source": [
    "from sklearn.metrics import mean_absolute_error\n",
    "from sklearn.metrics import r2_score\n",
    "\n",
    "print(\"XGBoost Mean Absolute Error: \" + str(mean_absolute_error(y_preds, valy)))\n",
    "print(\"XGBoost R²: \" + str(r2_score(y_preds, valy)))\n",
    "\n",
    "print(\"Lasso Mean Absolute Error: \" + str(mean_absolute_error(LassoPred, valy)))\n",
    "print(\"Lasso R²: \" + str(r2_score(LassoPred, valy)))\n",
    "\n",
    "print(\"XGBoost w/ PCA Mean Absolute Error: \" + str(mean_absolute_error(PCA_preds, PCAvaly)))\n",
    "print(\"XGBosst w/ PCA R²: \" + str(r2_score(PCA_preds, PCAvaly)))"
   ]
  },
  {
   "cell_type": "markdown",
   "id": "57315b80",
   "metadata": {
    "papermill": {
     "duration": 0.038141,
     "end_time": "2022-04-27T20:33:32.057235",
     "exception": false,
     "start_time": "2022-04-27T20:33:32.019094",
     "status": "completed"
    },
    "tags": []
   },
   "source": [
    "# Complete Model"
   ]
  },
  {
   "cell_type": "code",
   "execution_count": 25,
   "id": "94cf46a0",
   "metadata": {
    "execution": {
     "iopub.execute_input": "2022-04-27T20:33:32.137476Z",
     "iopub.status.busy": "2022-04-27T20:33:32.136740Z",
     "iopub.status.idle": "2022-04-27T20:33:32.703427Z",
     "shell.execute_reply": "2022-04-27T20:33:32.702862Z"
    },
    "papermill": {
     "duration": 0.608087,
     "end_time": "2022-04-27T20:33:32.705162",
     "exception": false,
     "start_time": "2022-04-27T20:33:32.097075",
     "status": "completed"
    },
    "tags": []
   },
   "outputs": [
    {
     "data": {
      "text/plain": [
       "XGBRegressor(base_score=0.5, booster='gbtree', colsample_bylevel=1,\n",
       "             colsample_bynode=1, colsample_bytree=1, enable_categorical=False,\n",
       "             gamma=0, gpu_id=-1, importance_type=None,\n",
       "             interaction_constraints='', learning_rate=0.300000012,\n",
       "             max_delta_step=0, max_depth=6, min_child_weight=1, missing=nan,\n",
       "             monotone_constraints='()', n_estimators=100, n_jobs=4,\n",
       "             num_parallel_tree=1, predictor='auto', random_state=0, reg_alpha=0,\n",
       "             reg_lambda=1, scale_pos_weight=1, subsample=1, tree_method='exact',\n",
       "             validate_parameters=1, verbosity=None)"
      ]
     },
     "execution_count": 25,
     "metadata": {},
     "output_type": "execute_result"
    }
   ],
   "source": [
    "final_model = xgboost.XGBRegressor()\n",
    "\n",
    "\n",
    "\"\"\"\"final_model = Lasso(alpha=0.1, \n",
    "              precompute=True, \n",
    "#               warm_start=True, \n",
    "              positive=True, \n",
    "              selection='random',\n",
    "              random_state=42)  \"\"\"\n",
    "\n",
    "\n",
    "final_model.fit(X, y)"
   ]
  },
  {
   "cell_type": "markdown",
   "id": "c161049a",
   "metadata": {
    "papermill": {
     "duration": 0.038376,
     "end_time": "2022-04-27T20:33:32.782137",
     "exception": false,
     "start_time": "2022-04-27T20:33:32.743761",
     "status": "completed"
    },
    "tags": []
   },
   "source": [
    "# Final test"
   ]
  },
  {
   "cell_type": "code",
   "execution_count": 26,
   "id": "9f975b87",
   "metadata": {
    "execution": {
     "iopub.execute_input": "2022-04-27T20:33:32.861066Z",
     "iopub.status.busy": "2022-04-27T20:33:32.860781Z",
     "iopub.status.idle": "2022-04-27T20:33:32.893181Z",
     "shell.execute_reply": "2022-04-27T20:33:32.892343Z"
    },
    "papermill": {
     "duration": 0.074457,
     "end_time": "2022-04-27T20:33:32.895341",
     "exception": false,
     "start_time": "2022-04-27T20:33:32.820884",
     "status": "completed"
    },
    "tags": []
   },
   "outputs": [
    {
     "name": "stdout",
     "output_type": "stream",
     "text": [
      "<class 'pandas.core.frame.DataFrame'>\n",
      "RangeIndex: 2375 entries, 0 to 2374\n",
      "Data columns (total 13 columns):\n",
      " #   Column        Non-Null Count  Dtype  \n",
      "---  ------        --------------  -----  \n",
      " 0   Id            2375 non-null   int64  \n",
      " 1   name          2375 non-null   object \n",
      " 2   year          2375 non-null   int64  \n",
      " 3   km_driven     2375 non-null   int64  \n",
      " 4   fuel          2375 non-null   object \n",
      " 5   seller_type   2375 non-null   object \n",
      " 6   transmission  2375 non-null   object \n",
      " 7   owner         2375 non-null   object \n",
      " 8   mileage       2375 non-null   object \n",
      " 9   engine        2375 non-null   object \n",
      " 10  max_power     2375 non-null   object \n",
      " 11  torque        2375 non-null   object \n",
      " 12  seats         2375 non-null   float64\n",
      "dtypes: float64(1), int64(3), object(9)\n",
      "memory usage: 241.3+ KB\n"
     ]
    }
   ],
   "source": [
    "dftest = pd.read_csv('../input/task-02-car-price-prediction/test_car_details.csv')\n",
    "dftest.info()"
   ]
  },
  {
   "cell_type": "code",
   "execution_count": 27,
   "id": "2e0ea73b",
   "metadata": {
    "execution": {
     "iopub.execute_input": "2022-04-27T20:33:32.976069Z",
     "iopub.status.busy": "2022-04-27T20:33:32.975090Z",
     "iopub.status.idle": "2022-04-27T20:33:33.008786Z",
     "shell.execute_reply": "2022-04-27T20:33:33.007918Z"
    },
    "papermill": {
     "duration": 0.076441,
     "end_time": "2022-04-27T20:33:33.010921",
     "exception": false,
     "start_time": "2022-04-27T20:33:32.934480",
     "status": "completed"
    },
    "tags": []
   },
   "outputs": [
    {
     "name": "stdout",
     "output_type": "stream",
     "text": [
      "<class 'pandas.core.frame.DataFrame'>\n",
      "RangeIndex: 2375 entries, 0 to 2374\n",
      "Data columns (total 9 columns):\n",
      " #   Column        Non-Null Count  Dtype  \n",
      "---  ------        --------------  -----  \n",
      " 0   Id            2375 non-null   int64  \n",
      " 1   name          2375 non-null   object \n",
      " 2   year          2375 non-null   int64  \n",
      " 3   km_driven     2375 non-null   int64  \n",
      " 4   fuel          2375 non-null   object \n",
      " 5   seller_type   2375 non-null   object \n",
      " 6   transmission  2375 non-null   object \n",
      " 7   owner         2375 non-null   object \n",
      " 8   seats         2375 non-null   float64\n",
      "dtypes: float64(1), int64(3), object(5)\n",
      "memory usage: 167.1+ KB\n"
     ]
    },
    {
     "name": "stderr",
     "output_type": "stream",
     "text": [
      "/opt/conda/lib/python3.7/site-packages/ipykernel_launcher.py:54: FutureWarning: In a future version of pandas all arguments of DataFrame.drop except for the argument 'labels' will be keyword-only\n"
     ]
    }
   ],
   "source": [
    "miliage = []\n",
    "for item in dftest['mileage']:\n",
    "    if type(item) == str: # check if contains a value. Not null\n",
    "        x = item.split('km') # split the string\n",
    "        miliage.append(float(x[0])) #after the split the numerical values comes first\n",
    "    else: miliage.append(0) # replace nan value to zero\n",
    "\n",
    "avg = sum(miliage) / len(miliage)  # replace the zero values (former NaN) to the average. Imputation approach\n",
    "for i in range(len(miliage)):\n",
    "    if miliage[i] == 0: miliage[i] = avg\n",
    "        \n",
    "max_power = []  #same code as miliage, however try excepet was neede as there was some values that contains no numerical data\n",
    "for item in dftest['max_power']:\n",
    "    if type(item) == str and item != 0:\n",
    "        x = item.split('b')\n",
    "        try:\n",
    "            max_power.append(float(x[0]))\n",
    "        except: max_power.append(0)\n",
    "    else: max_power.append(0)\n",
    "\n",
    "\n",
    "avg = sum(max_power) / len(max_power)\n",
    "for i in range(len(max_power)):\n",
    "    if max_power[i] == 0: max_power[i] = avg\n",
    "        \n",
    "torque = []\n",
    "for item in dftest['torque']:\n",
    "    if type(item) == str and item != 0:\n",
    "        x = item.split('N')\n",
    "        try:\n",
    "            torque.append(float(x[0]))\n",
    "        except: torque.append(0)\n",
    "    else: torque.append(0)\n",
    "\n",
    "\n",
    "avg = sum(torque) / len(torque)\n",
    "for i in range(len(torque)):\n",
    "    if torque[i] == 0: torque[i] = avg\n",
    "        \n",
    "engine = []\n",
    "for item in dftest['engine']:\n",
    "    if type(item) == str and item != 0:\n",
    "        x = item.split('C')\n",
    "        try:\n",
    "            engine.append(float(x[0]))\n",
    "        except: engine.append(0)\n",
    "    else: engine.append(0)\n",
    "\n",
    "\n",
    "avg = sum(engine) / len(engine)\n",
    "for i in range(len(engine)):\n",
    "    if engine[i] == 0: engine[i] = avg\n",
    "        \n",
    "dftest = dftest.drop(['mileage', 'max_power', 'torque', 'engine'], 1)\n",
    "dftest.info()"
   ]
  },
  {
   "cell_type": "code",
   "execution_count": 28,
   "id": "b25441ff",
   "metadata": {
    "execution": {
     "iopub.execute_input": "2022-04-27T20:33:33.094860Z",
     "iopub.status.busy": "2022-04-27T20:33:33.094254Z",
     "iopub.status.idle": "2022-04-27T20:33:33.114906Z",
     "shell.execute_reply": "2022-04-27T20:33:33.113769Z"
    },
    "papermill": {
     "duration": 0.06527,
     "end_time": "2022-04-27T20:33:33.117240",
     "exception": false,
     "start_time": "2022-04-27T20:33:33.051970",
     "status": "completed"
    },
    "tags": []
   },
   "outputs": [
    {
     "name": "stdout",
     "output_type": "stream",
     "text": [
      "<class 'pandas.core.frame.DataFrame'>\n",
      "RangeIndex: 2375 entries, 0 to 2374\n",
      "Data columns (total 13 columns):\n",
      " #   Column        Non-Null Count  Dtype  \n",
      "---  ------        --------------  -----  \n",
      " 0   Id            2375 non-null   int64  \n",
      " 1   name          2375 non-null   object \n",
      " 2   year          2375 non-null   int64  \n",
      " 3   km_driven     2375 non-null   int64  \n",
      " 4   fuel          2375 non-null   object \n",
      " 5   seller_type   2375 non-null   object \n",
      " 6   transmission  2375 non-null   object \n",
      " 7   owner         2375 non-null   object \n",
      " 8   seats         2375 non-null   float64\n",
      " 9   miliage       2375 non-null   float64\n",
      " 10  max_power     2375 non-null   float64\n",
      " 11  torque        2375 non-null   float64\n",
      " 12  engine        2375 non-null   float64\n",
      "dtypes: float64(5), int64(3), object(5)\n",
      "memory usage: 241.3+ KB\n"
     ]
    }
   ],
   "source": [
    "df1 = pd.DataFrame (miliage, columns = ['miliage'])\n",
    "dftest = dftest.join(df1)\n",
    "df1 = pd.DataFrame (max_power, columns = ['max_power'])\n",
    "dftest = dftest.join(df1)\n",
    "df1 = pd.DataFrame (torque, columns = ['torque'])\n",
    "dftest = dftest.join(df1)\n",
    "df1 = pd.DataFrame (engine, columns = ['engine'])\n",
    "dftest = dftest.join(df1)\n",
    "dftest.info()"
   ]
  },
  {
   "cell_type": "code",
   "execution_count": 29,
   "id": "a7faba57",
   "metadata": {
    "execution": {
     "iopub.execute_input": "2022-04-27T20:33:33.200523Z",
     "iopub.status.busy": "2022-04-27T20:33:33.200202Z",
     "iopub.status.idle": "2022-04-27T20:33:33.225506Z",
     "shell.execute_reply": "2022-04-27T20:33:33.223962Z"
    },
    "papermill": {
     "duration": 0.071134,
     "end_time": "2022-04-27T20:33:33.228459",
     "exception": false,
     "start_time": "2022-04-27T20:33:33.157325",
     "status": "completed"
    },
    "tags": []
   },
   "outputs": [
    {
     "name": "stdout",
     "output_type": "stream",
     "text": [
      "<class 'pandas.core.frame.DataFrame'>\n",
      "RangeIndex: 2375 entries, 0 to 2374\n",
      "Data columns (total 13 columns):\n",
      " #   Column        Non-Null Count  Dtype  \n",
      "---  ------        --------------  -----  \n",
      " 0   Id            2375 non-null   int64  \n",
      " 1   name          2375 non-null   float64\n",
      " 2   year          2375 non-null   int64  \n",
      " 3   km_driven     2375 non-null   int64  \n",
      " 4   fuel          2375 non-null   float64\n",
      " 5   seller_type   2375 non-null   float64\n",
      " 6   transmission  2375 non-null   float64\n",
      " 7   owner         2375 non-null   float64\n",
      " 8   seats         2375 non-null   float64\n",
      " 9   miliage       2375 non-null   float64\n",
      " 10  max_power     2375 non-null   float64\n",
      " 11  torque        2375 non-null   float64\n",
      " 12  engine        2375 non-null   float64\n",
      "dtypes: float64(10), int64(3)\n",
      "memory usage: 241.3 KB\n"
     ]
    }
   ],
   "source": [
    "s = (dftest.dtypes == 'object')\n",
    "object_cols = list(s[s].index)\n",
    "\n",
    "\n",
    "ordinal_encoder = OrdinalEncoder()\n",
    "dftest[object_cols] = ordinal_encoder.fit_transform(dftest[object_cols])\n",
    "dftest.info()"
   ]
  },
  {
   "cell_type": "code",
   "execution_count": 30,
   "id": "20c52756",
   "metadata": {
    "execution": {
     "iopub.execute_input": "2022-04-27T20:33:33.313229Z",
     "iopub.status.busy": "2022-04-27T20:33:33.312192Z",
     "iopub.status.idle": "2022-04-27T20:33:33.335712Z",
     "shell.execute_reply": "2022-04-27T20:33:33.334838Z"
    },
    "papermill": {
     "duration": 0.067869,
     "end_time": "2022-04-27T20:33:33.337689",
     "exception": false,
     "start_time": "2022-04-27T20:33:33.269820",
     "status": "completed"
    },
    "tags": []
   },
   "outputs": [
    {
     "data": {
      "text/html": [
       "<div>\n",
       "<style scoped>\n",
       "    .dataframe tbody tr th:only-of-type {\n",
       "        vertical-align: middle;\n",
       "    }\n",
       "\n",
       "    .dataframe tbody tr th {\n",
       "        vertical-align: top;\n",
       "    }\n",
       "\n",
       "    .dataframe thead th {\n",
       "        text-align: right;\n",
       "    }\n",
       "</style>\n",
       "<table border=\"1\" class=\"dataframe\">\n",
       "  <thead>\n",
       "    <tr style=\"text-align: right;\">\n",
       "      <th></th>\n",
       "      <th>name</th>\n",
       "      <th>year</th>\n",
       "      <th>km_driven</th>\n",
       "      <th>fuel</th>\n",
       "      <th>transmission</th>\n",
       "      <th>owner</th>\n",
       "      <th>miliage</th>\n",
       "      <th>max_power</th>\n",
       "      <th>torque</th>\n",
       "      <th>engine</th>\n",
       "      <th>seats</th>\n",
       "    </tr>\n",
       "  </thead>\n",
       "  <tbody>\n",
       "    <tr>\n",
       "      <th>0</th>\n",
       "      <td>892.0</td>\n",
       "      <td>2008</td>\n",
       "      <td>60000</td>\n",
       "      <td>1.0</td>\n",
       "      <td>1.0</td>\n",
       "      <td>4.0</td>\n",
       "      <td>17.00</td>\n",
       "      <td>70.00</td>\n",
       "      <td>162.317583</td>\n",
       "      <td>1405.0</td>\n",
       "      <td>5.0</td>\n",
       "    </tr>\n",
       "    <tr>\n",
       "      <th>1</th>\n",
       "      <td>572.0</td>\n",
       "      <td>2019</td>\n",
       "      <td>30000</td>\n",
       "      <td>3.0</td>\n",
       "      <td>1.0</td>\n",
       "      <td>0.0</td>\n",
       "      <td>21.40</td>\n",
       "      <td>83.10</td>\n",
       "      <td>115.000000</td>\n",
       "      <td>1197.0</td>\n",
       "      <td>5.0</td>\n",
       "    </tr>\n",
       "    <tr>\n",
       "      <th>2</th>\n",
       "      <td>662.0</td>\n",
       "      <td>2017</td>\n",
       "      <td>80000</td>\n",
       "      <td>1.0</td>\n",
       "      <td>0.0</td>\n",
       "      <td>0.0</td>\n",
       "      <td>28.40</td>\n",
       "      <td>74.02</td>\n",
       "      <td>190.000000</td>\n",
       "      <td>1248.0</td>\n",
       "      <td>5.0</td>\n",
       "    </tr>\n",
       "    <tr>\n",
       "      <th>3</th>\n",
       "      <td>520.0</td>\n",
       "      <td>2018</td>\n",
       "      <td>30000</td>\n",
       "      <td>1.0</td>\n",
       "      <td>1.0</td>\n",
       "      <td>0.0</td>\n",
       "      <td>16.00</td>\n",
       "      <td>140.00</td>\n",
       "      <td>330.000000</td>\n",
       "      <td>2179.0</td>\n",
       "      <td>7.0</td>\n",
       "    </tr>\n",
       "    <tr>\n",
       "      <th>4</th>\n",
       "      <td>258.0</td>\n",
       "      <td>2019</td>\n",
       "      <td>35000</td>\n",
       "      <td>3.0</td>\n",
       "      <td>1.0</td>\n",
       "      <td>0.0</td>\n",
       "      <td>18.60</td>\n",
       "      <td>81.86</td>\n",
       "      <td>162.317583</td>\n",
       "      <td>1197.0</td>\n",
       "      <td>5.0</td>\n",
       "    </tr>\n",
       "    <tr>\n",
       "      <th>...</th>\n",
       "      <td>...</td>\n",
       "      <td>...</td>\n",
       "      <td>...</td>\n",
       "      <td>...</td>\n",
       "      <td>...</td>\n",
       "      <td>...</td>\n",
       "      <td>...</td>\n",
       "      <td>...</td>\n",
       "      <td>...</td>\n",
       "      <td>...</td>\n",
       "      <td>...</td>\n",
       "    </tr>\n",
       "    <tr>\n",
       "      <th>2370</th>\n",
       "      <td>1055.0</td>\n",
       "      <td>2011</td>\n",
       "      <td>125000</td>\n",
       "      <td>1.0</td>\n",
       "      <td>1.0</td>\n",
       "      <td>1.0</td>\n",
       "      <td>20.54</td>\n",
       "      <td>103.60</td>\n",
       "      <td>250.000000</td>\n",
       "      <td>1598.0</td>\n",
       "      <td>5.0</td>\n",
       "    </tr>\n",
       "    <tr>\n",
       "      <th>2371</th>\n",
       "      <td>242.0</td>\n",
       "      <td>2016</td>\n",
       "      <td>79000</td>\n",
       "      <td>1.0</td>\n",
       "      <td>1.0</td>\n",
       "      <td>0.0</td>\n",
       "      <td>19.67</td>\n",
       "      <td>126.20</td>\n",
       "      <td>259.900000</td>\n",
       "      <td>1582.0</td>\n",
       "      <td>5.0</td>\n",
       "    </tr>\n",
       "    <tr>\n",
       "      <th>2372</th>\n",
       "      <td>97.0</td>\n",
       "      <td>2017</td>\n",
       "      <td>45000</td>\n",
       "      <td>1.0</td>\n",
       "      <td>1.0</td>\n",
       "      <td>0.0</td>\n",
       "      <td>23.00</td>\n",
       "      <td>98.96</td>\n",
       "      <td>205.000000</td>\n",
       "      <td>1498.0</td>\n",
       "      <td>5.0</td>\n",
       "    </tr>\n",
       "    <tr>\n",
       "      <th>2373</th>\n",
       "      <td>993.0</td>\n",
       "      <td>2016</td>\n",
       "      <td>52000</td>\n",
       "      <td>1.0</td>\n",
       "      <td>0.0</td>\n",
       "      <td>0.0</td>\n",
       "      <td>12.55</td>\n",
       "      <td>168.50</td>\n",
       "      <td>360.000000</td>\n",
       "      <td>2982.0</td>\n",
       "      <td>7.0</td>\n",
       "    </tr>\n",
       "    <tr>\n",
       "      <th>2374</th>\n",
       "      <td>168.0</td>\n",
       "      <td>2019</td>\n",
       "      <td>7032</td>\n",
       "      <td>3.0</td>\n",
       "      <td>0.0</td>\n",
       "      <td>0.0</td>\n",
       "      <td>19.00</td>\n",
       "      <td>88.76</td>\n",
       "      <td>110.000000</td>\n",
       "      <td>1199.0</td>\n",
       "      <td>5.0</td>\n",
       "    </tr>\n",
       "  </tbody>\n",
       "</table>\n",
       "<p>2375 rows × 11 columns</p>\n",
       "</div>"
      ],
      "text/plain": [
       "        name  year  km_driven  fuel  transmission  owner  miliage  max_power  \\\n",
       "0      892.0  2008      60000   1.0           1.0    4.0    17.00      70.00   \n",
       "1      572.0  2019      30000   3.0           1.0    0.0    21.40      83.10   \n",
       "2      662.0  2017      80000   1.0           0.0    0.0    28.40      74.02   \n",
       "3      520.0  2018      30000   1.0           1.0    0.0    16.00     140.00   \n",
       "4      258.0  2019      35000   3.0           1.0    0.0    18.60      81.86   \n",
       "...      ...   ...        ...   ...           ...    ...      ...        ...   \n",
       "2370  1055.0  2011     125000   1.0           1.0    1.0    20.54     103.60   \n",
       "2371   242.0  2016      79000   1.0           1.0    0.0    19.67     126.20   \n",
       "2372    97.0  2017      45000   1.0           1.0    0.0    23.00      98.96   \n",
       "2373   993.0  2016      52000   1.0           0.0    0.0    12.55     168.50   \n",
       "2374   168.0  2019       7032   3.0           0.0    0.0    19.00      88.76   \n",
       "\n",
       "          torque  engine  seats  \n",
       "0     162.317583  1405.0    5.0  \n",
       "1     115.000000  1197.0    5.0  \n",
       "2     190.000000  1248.0    5.0  \n",
       "3     330.000000  2179.0    7.0  \n",
       "4     162.317583  1197.0    5.0  \n",
       "...          ...     ...    ...  \n",
       "2370  250.000000  1598.0    5.0  \n",
       "2371  259.900000  1582.0    5.0  \n",
       "2372  205.000000  1498.0    5.0  \n",
       "2373  360.000000  2982.0    7.0  \n",
       "2374  110.000000  1199.0    5.0  \n",
       "\n",
       "[2375 rows x 11 columns]"
      ]
     },
     "execution_count": 30,
     "metadata": {},
     "output_type": "execute_result"
    }
   ],
   "source": [
    "X_test = dftest[X_features]\n",
    "X_test"
   ]
  },
  {
   "cell_type": "code",
   "execution_count": 31,
   "id": "e7eeaa05",
   "metadata": {
    "execution": {
     "iopub.execute_input": "2022-04-27T20:33:33.421715Z",
     "iopub.status.busy": "2022-04-27T20:33:33.421167Z",
     "iopub.status.idle": "2022-04-27T20:33:33.437144Z",
     "shell.execute_reply": "2022-04-27T20:33:33.436435Z"
    },
    "papermill": {
     "duration": 0.060078,
     "end_time": "2022-04-27T20:33:33.439032",
     "exception": false,
     "start_time": "2022-04-27T20:33:33.378954",
     "status": "completed"
    },
    "tags": []
   },
   "outputs": [
    {
     "data": {
      "text/plain": [
       "array([ 163052.11,  591371.9 ,  691252.25, ...,  706533.06, 2063221.  ,\n",
       "        759297.4 ], dtype=float32)"
      ]
     },
     "execution_count": 31,
     "metadata": {},
     "output_type": "execute_result"
    }
   ],
   "source": [
    "preds = final_model.predict(X_test)\n",
    "preds"
   ]
  },
  {
   "cell_type": "code",
   "execution_count": 32,
   "id": "03c85c70",
   "metadata": {
    "execution": {
     "iopub.execute_input": "2022-04-27T20:33:33.522712Z",
     "iopub.status.busy": "2022-04-27T20:33:33.522187Z",
     "iopub.status.idle": "2022-04-27T20:33:33.547076Z",
     "shell.execute_reply": "2022-04-27T20:33:33.546078Z"
    },
    "papermill": {
     "duration": 0.069102,
     "end_time": "2022-04-27T20:33:33.549155",
     "exception": false,
     "start_time": "2022-04-27T20:33:33.480053",
     "status": "completed"
    },
    "tags": []
   },
   "outputs": [
    {
     "data": {
      "text/html": [
       "<div>\n",
       "<style scoped>\n",
       "    .dataframe tbody tr th:only-of-type {\n",
       "        vertical-align: middle;\n",
       "    }\n",
       "\n",
       "    .dataframe tbody tr th {\n",
       "        vertical-align: top;\n",
       "    }\n",
       "\n",
       "    .dataframe thead th {\n",
       "        text-align: right;\n",
       "    }\n",
       "</style>\n",
       "<table border=\"1\" class=\"dataframe\">\n",
       "  <thead>\n",
       "    <tr style=\"text-align: right;\">\n",
       "      <th></th>\n",
       "      <th>Id</th>\n",
       "      <th>name</th>\n",
       "      <th>year</th>\n",
       "      <th>km_driven</th>\n",
       "      <th>fuel</th>\n",
       "      <th>seller_type</th>\n",
       "      <th>transmission</th>\n",
       "      <th>owner</th>\n",
       "      <th>seats</th>\n",
       "      <th>miliage</th>\n",
       "      <th>max_power</th>\n",
       "      <th>torque</th>\n",
       "      <th>engine</th>\n",
       "      <th>selling_price</th>\n",
       "    </tr>\n",
       "  </thead>\n",
       "  <tbody>\n",
       "    <tr>\n",
       "      <th>0</th>\n",
       "      <td>1</td>\n",
       "      <td>892.0</td>\n",
       "      <td>2008</td>\n",
       "      <td>60000</td>\n",
       "      <td>1.0</td>\n",
       "      <td>1.0</td>\n",
       "      <td>1.0</td>\n",
       "      <td>4.0</td>\n",
       "      <td>5.0</td>\n",
       "      <td>17.00</td>\n",
       "      <td>70.00</td>\n",
       "      <td>162.317583</td>\n",
       "      <td>1405.0</td>\n",
       "      <td>1.630521e+05</td>\n",
       "    </tr>\n",
       "    <tr>\n",
       "      <th>1</th>\n",
       "      <td>2</td>\n",
       "      <td>572.0</td>\n",
       "      <td>2019</td>\n",
       "      <td>30000</td>\n",
       "      <td>3.0</td>\n",
       "      <td>1.0</td>\n",
       "      <td>1.0</td>\n",
       "      <td>0.0</td>\n",
       "      <td>5.0</td>\n",
       "      <td>21.40</td>\n",
       "      <td>83.10</td>\n",
       "      <td>115.000000</td>\n",
       "      <td>1197.0</td>\n",
       "      <td>5.913719e+05</td>\n",
       "    </tr>\n",
       "    <tr>\n",
       "      <th>2</th>\n",
       "      <td>3</td>\n",
       "      <td>662.0</td>\n",
       "      <td>2017</td>\n",
       "      <td>80000</td>\n",
       "      <td>1.0</td>\n",
       "      <td>1.0</td>\n",
       "      <td>0.0</td>\n",
       "      <td>0.0</td>\n",
       "      <td>5.0</td>\n",
       "      <td>28.40</td>\n",
       "      <td>74.02</td>\n",
       "      <td>190.000000</td>\n",
       "      <td>1248.0</td>\n",
       "      <td>6.912522e+05</td>\n",
       "    </tr>\n",
       "    <tr>\n",
       "      <th>3</th>\n",
       "      <td>4</td>\n",
       "      <td>520.0</td>\n",
       "      <td>2018</td>\n",
       "      <td>30000</td>\n",
       "      <td>1.0</td>\n",
       "      <td>1.0</td>\n",
       "      <td>1.0</td>\n",
       "      <td>0.0</td>\n",
       "      <td>7.0</td>\n",
       "      <td>16.00</td>\n",
       "      <td>140.00</td>\n",
       "      <td>330.000000</td>\n",
       "      <td>2179.0</td>\n",
       "      <td>1.340319e+06</td>\n",
       "    </tr>\n",
       "    <tr>\n",
       "      <th>4</th>\n",
       "      <td>5</td>\n",
       "      <td>258.0</td>\n",
       "      <td>2019</td>\n",
       "      <td>35000</td>\n",
       "      <td>3.0</td>\n",
       "      <td>1.0</td>\n",
       "      <td>1.0</td>\n",
       "      <td>0.0</td>\n",
       "      <td>5.0</td>\n",
       "      <td>18.60</td>\n",
       "      <td>81.86</td>\n",
       "      <td>162.317583</td>\n",
       "      <td>1197.0</td>\n",
       "      <td>5.571210e+05</td>\n",
       "    </tr>\n",
       "    <tr>\n",
       "      <th>...</th>\n",
       "      <td>...</td>\n",
       "      <td>...</td>\n",
       "      <td>...</td>\n",
       "      <td>...</td>\n",
       "      <td>...</td>\n",
       "      <td>...</td>\n",
       "      <td>...</td>\n",
       "      <td>...</td>\n",
       "      <td>...</td>\n",
       "      <td>...</td>\n",
       "      <td>...</td>\n",
       "      <td>...</td>\n",
       "      <td>...</td>\n",
       "      <td>...</td>\n",
       "    </tr>\n",
       "    <tr>\n",
       "      <th>2370</th>\n",
       "      <td>2371</td>\n",
       "      <td>1055.0</td>\n",
       "      <td>2011</td>\n",
       "      <td>125000</td>\n",
       "      <td>1.0</td>\n",
       "      <td>1.0</td>\n",
       "      <td>1.0</td>\n",
       "      <td>1.0</td>\n",
       "      <td>5.0</td>\n",
       "      <td>20.54</td>\n",
       "      <td>103.60</td>\n",
       "      <td>250.000000</td>\n",
       "      <td>1598.0</td>\n",
       "      <td>2.926439e+05</td>\n",
       "    </tr>\n",
       "    <tr>\n",
       "      <th>2371</th>\n",
       "      <td>2372</td>\n",
       "      <td>242.0</td>\n",
       "      <td>2016</td>\n",
       "      <td>79000</td>\n",
       "      <td>1.0</td>\n",
       "      <td>0.0</td>\n",
       "      <td>1.0</td>\n",
       "      <td>0.0</td>\n",
       "      <td>5.0</td>\n",
       "      <td>19.67</td>\n",
       "      <td>126.20</td>\n",
       "      <td>259.900000</td>\n",
       "      <td>1582.0</td>\n",
       "      <td>8.022340e+05</td>\n",
       "    </tr>\n",
       "    <tr>\n",
       "      <th>2372</th>\n",
       "      <td>2373</td>\n",
       "      <td>97.0</td>\n",
       "      <td>2017</td>\n",
       "      <td>45000</td>\n",
       "      <td>1.0</td>\n",
       "      <td>1.0</td>\n",
       "      <td>1.0</td>\n",
       "      <td>0.0</td>\n",
       "      <td>5.0</td>\n",
       "      <td>23.00</td>\n",
       "      <td>98.96</td>\n",
       "      <td>205.000000</td>\n",
       "      <td>1498.0</td>\n",
       "      <td>7.065331e+05</td>\n",
       "    </tr>\n",
       "    <tr>\n",
       "      <th>2373</th>\n",
       "      <td>2374</td>\n",
       "      <td>993.0</td>\n",
       "      <td>2016</td>\n",
       "      <td>52000</td>\n",
       "      <td>1.0</td>\n",
       "      <td>0.0</td>\n",
       "      <td>0.0</td>\n",
       "      <td>0.0</td>\n",
       "      <td>7.0</td>\n",
       "      <td>12.55</td>\n",
       "      <td>168.50</td>\n",
       "      <td>360.000000</td>\n",
       "      <td>2982.0</td>\n",
       "      <td>2.063221e+06</td>\n",
       "    </tr>\n",
       "    <tr>\n",
       "      <th>2374</th>\n",
       "      <td>2375</td>\n",
       "      <td>168.0</td>\n",
       "      <td>2019</td>\n",
       "      <td>7032</td>\n",
       "      <td>3.0</td>\n",
       "      <td>2.0</td>\n",
       "      <td>0.0</td>\n",
       "      <td>0.0</td>\n",
       "      <td>5.0</td>\n",
       "      <td>19.00</td>\n",
       "      <td>88.76</td>\n",
       "      <td>110.000000</td>\n",
       "      <td>1199.0</td>\n",
       "      <td>7.592974e+05</td>\n",
       "    </tr>\n",
       "  </tbody>\n",
       "</table>\n",
       "<p>2375 rows × 14 columns</p>\n",
       "</div>"
      ],
      "text/plain": [
       "        Id    name  year  km_driven  fuel  seller_type  transmission  owner  \\\n",
       "0        1   892.0  2008      60000   1.0          1.0           1.0    4.0   \n",
       "1        2   572.0  2019      30000   3.0          1.0           1.0    0.0   \n",
       "2        3   662.0  2017      80000   1.0          1.0           0.0    0.0   \n",
       "3        4   520.0  2018      30000   1.0          1.0           1.0    0.0   \n",
       "4        5   258.0  2019      35000   3.0          1.0           1.0    0.0   \n",
       "...    ...     ...   ...        ...   ...          ...           ...    ...   \n",
       "2370  2371  1055.0  2011     125000   1.0          1.0           1.0    1.0   \n",
       "2371  2372   242.0  2016      79000   1.0          0.0           1.0    0.0   \n",
       "2372  2373    97.0  2017      45000   1.0          1.0           1.0    0.0   \n",
       "2373  2374   993.0  2016      52000   1.0          0.0           0.0    0.0   \n",
       "2374  2375   168.0  2019       7032   3.0          2.0           0.0    0.0   \n",
       "\n",
       "      seats  miliage  max_power      torque  engine  selling_price  \n",
       "0       5.0    17.00      70.00  162.317583  1405.0   1.630521e+05  \n",
       "1       5.0    21.40      83.10  115.000000  1197.0   5.913719e+05  \n",
       "2       5.0    28.40      74.02  190.000000  1248.0   6.912522e+05  \n",
       "3       7.0    16.00     140.00  330.000000  2179.0   1.340319e+06  \n",
       "4       5.0    18.60      81.86  162.317583  1197.0   5.571210e+05  \n",
       "...     ...      ...        ...         ...     ...            ...  \n",
       "2370    5.0    20.54     103.60  250.000000  1598.0   2.926439e+05  \n",
       "2371    5.0    19.67     126.20  259.900000  1582.0   8.022340e+05  \n",
       "2372    5.0    23.00      98.96  205.000000  1498.0   7.065331e+05  \n",
       "2373    7.0    12.55     168.50  360.000000  2982.0   2.063221e+06  \n",
       "2374    5.0    19.00      88.76  110.000000  1199.0   7.592974e+05  \n",
       "\n",
       "[2375 rows x 14 columns]"
      ]
     },
     "execution_count": 32,
     "metadata": {},
     "output_type": "execute_result"
    }
   ],
   "source": [
    "preds = pd.DataFrame(preds, columns = ['selling_price'])\n",
    "dftest = dftest.join(preds)\n",
    "dftest"
   ]
  },
  {
   "cell_type": "code",
   "execution_count": 33,
   "id": "5e55bb53",
   "metadata": {
    "execution": {
     "iopub.execute_input": "2022-04-27T20:33:33.636879Z",
     "iopub.status.busy": "2022-04-27T20:33:33.636456Z",
     "iopub.status.idle": "2022-04-27T20:33:33.647923Z",
     "shell.execute_reply": "2022-04-27T20:33:33.647223Z"
    },
    "papermill": {
     "duration": 0.057499,
     "end_time": "2022-04-27T20:33:33.649923",
     "exception": false,
     "start_time": "2022-04-27T20:33:33.592424",
     "status": "completed"
    },
    "tags": []
   },
   "outputs": [],
   "source": [
    "submit = dftest[['Id', 'selling_price']]\n",
    "submit.to_csv('/kaggle/working/submission.csv', index=False)"
   ]
  },
  {
   "cell_type": "code",
   "execution_count": 34,
   "id": "19da2f5e",
   "metadata": {
    "execution": {
     "iopub.execute_input": "2022-04-27T20:33:33.735484Z",
     "iopub.status.busy": "2022-04-27T20:33:33.734772Z",
     "iopub.status.idle": "2022-04-27T20:33:33.746520Z",
     "shell.execute_reply": "2022-04-27T20:33:33.745700Z"
    },
    "papermill": {
     "duration": 0.056386,
     "end_time": "2022-04-27T20:33:33.748509",
     "exception": false,
     "start_time": "2022-04-27T20:33:33.692123",
     "status": "completed"
    },
    "tags": []
   },
   "outputs": [
    {
     "data": {
      "text/html": [
       "<div>\n",
       "<style scoped>\n",
       "    .dataframe tbody tr th:only-of-type {\n",
       "        vertical-align: middle;\n",
       "    }\n",
       "\n",
       "    .dataframe tbody tr th {\n",
       "        vertical-align: top;\n",
       "    }\n",
       "\n",
       "    .dataframe thead th {\n",
       "        text-align: right;\n",
       "    }\n",
       "</style>\n",
       "<table border=\"1\" class=\"dataframe\">\n",
       "  <thead>\n",
       "    <tr style=\"text-align: right;\">\n",
       "      <th></th>\n",
       "      <th>Id</th>\n",
       "      <th>selling_price</th>\n",
       "    </tr>\n",
       "  </thead>\n",
       "  <tbody>\n",
       "    <tr>\n",
       "      <th>0</th>\n",
       "      <td>1</td>\n",
       "      <td>1.630521e+05</td>\n",
       "    </tr>\n",
       "    <tr>\n",
       "      <th>1</th>\n",
       "      <td>2</td>\n",
       "      <td>5.913719e+05</td>\n",
       "    </tr>\n",
       "    <tr>\n",
       "      <th>2</th>\n",
       "      <td>3</td>\n",
       "      <td>6.912522e+05</td>\n",
       "    </tr>\n",
       "    <tr>\n",
       "      <th>3</th>\n",
       "      <td>4</td>\n",
       "      <td>1.340319e+06</td>\n",
       "    </tr>\n",
       "    <tr>\n",
       "      <th>4</th>\n",
       "      <td>5</td>\n",
       "      <td>5.571210e+05</td>\n",
       "    </tr>\n",
       "    <tr>\n",
       "      <th>...</th>\n",
       "      <td>...</td>\n",
       "      <td>...</td>\n",
       "    </tr>\n",
       "    <tr>\n",
       "      <th>2370</th>\n",
       "      <td>2371</td>\n",
       "      <td>2.926439e+05</td>\n",
       "    </tr>\n",
       "    <tr>\n",
       "      <th>2371</th>\n",
       "      <td>2372</td>\n",
       "      <td>8.022340e+05</td>\n",
       "    </tr>\n",
       "    <tr>\n",
       "      <th>2372</th>\n",
       "      <td>2373</td>\n",
       "      <td>7.065331e+05</td>\n",
       "    </tr>\n",
       "    <tr>\n",
       "      <th>2373</th>\n",
       "      <td>2374</td>\n",
       "      <td>2.063221e+06</td>\n",
       "    </tr>\n",
       "    <tr>\n",
       "      <th>2374</th>\n",
       "      <td>2375</td>\n",
       "      <td>7.592974e+05</td>\n",
       "    </tr>\n",
       "  </tbody>\n",
       "</table>\n",
       "<p>2375 rows × 2 columns</p>\n",
       "</div>"
      ],
      "text/plain": [
       "        Id  selling_price\n",
       "0        1   1.630521e+05\n",
       "1        2   5.913719e+05\n",
       "2        3   6.912522e+05\n",
       "3        4   1.340319e+06\n",
       "4        5   5.571210e+05\n",
       "...    ...            ...\n",
       "2370  2371   2.926439e+05\n",
       "2371  2372   8.022340e+05\n",
       "2372  2373   7.065331e+05\n",
       "2373  2374   2.063221e+06\n",
       "2374  2375   7.592974e+05\n",
       "\n",
       "[2375 rows x 2 columns]"
      ]
     },
     "execution_count": 34,
     "metadata": {},
     "output_type": "execute_result"
    }
   ],
   "source": [
    "submit"
   ]
  }
 ],
 "metadata": {
  "kernelspec": {
   "display_name": "Python 3",
   "language": "python",
   "name": "python3"
  },
  "language_info": {
   "codemirror_mode": {
    "name": "ipython",
    "version": 3
   },
   "file_extension": ".py",
   "mimetype": "text/x-python",
   "name": "python",
   "nbconvert_exporter": "python",
   "pygments_lexer": "ipython3",
   "version": "3.7.12"
  },
  "papermill": {
   "default_parameters": {},
   "duration": 16.831459,
   "end_time": "2022-04-27T20:33:34.512220",
   "environment_variables": {},
   "exception": null,
   "input_path": "__notebook__.ipynb",
   "output_path": "__notebook__.ipynb",
   "parameters": {},
   "start_time": "2022-04-27T20:33:17.680761",
   "version": "2.3.4"
  }
 },
 "nbformat": 4,
 "nbformat_minor": 5
}
